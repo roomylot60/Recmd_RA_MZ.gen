{
 "cells": [
  {
   "cell_type": "code",
   "execution_count": 1,
   "id": "cd0477a5",
   "metadata": {},
   "outputs": [],
   "source": [
    "import pandas as pd"
   ]
  },
  {
   "cell_type": "code",
   "execution_count": 2,
   "id": "82abd666",
   "metadata": {},
   "outputs": [
    {
     "name": "stdout",
     "output_type": "stream",
     "text": [
      "<class 'pandas.core.frame.DataFrame'>\n",
      "RangeIndex: 522 entries, 0 to 521\n",
      "Data columns (total 12 columns):\n",
      " #   Column         Non-Null Count  Dtype  \n",
      "---  ------         --------------  -----  \n",
      " 0   Unnamed: 0     522 non-null    int64  \n",
      " 1   cate_nm        522 non-null    object \n",
      " 2   entrp_nm       522 non-null    object \n",
      " 3   load_addr      522 non-null    object \n",
      " 4   city_do_cd     522 non-null    float64\n",
      " 5   city_gn_gu_cd  522 non-null    float64\n",
      " 6   xpos_lo        517 non-null    float64\n",
      " 7   ypos_la        517 non-null    float64\n",
      " 8   area_nm        522 non-null    object \n",
      " 9   homepage_url   156 non-null    object \n",
      " 10  tel_no         172 non-null    object \n",
      " 11  base_ymd       522 non-null    object \n",
      "dtypes: float64(4), int64(1), object(7)\n",
      "memory usage: 49.1+ KB\n"
     ]
    }
   ],
   "source": [
    "df = pd.read_csv('Leisure_in_Seoul.csv')\n",
    "pd.set_option('display.max_columns',len(df.columns))\n",
    "df.info()"
   ]
  },
  {
   "cell_type": "code",
   "execution_count": 3,
   "id": "d38a3e59",
   "metadata": {
    "scrolled": true
   },
   "outputs": [
    {
     "data": {
      "text/html": [
       "<div>\n",
       "<style scoped>\n",
       "    .dataframe tbody tr th:only-of-type {\n",
       "        vertical-align: middle;\n",
       "    }\n",
       "\n",
       "    .dataframe tbody tr th {\n",
       "        vertical-align: top;\n",
       "    }\n",
       "\n",
       "    .dataframe thead th {\n",
       "        text-align: right;\n",
       "    }\n",
       "</style>\n",
       "<table border=\"1\" class=\"dataframe\">\n",
       "  <thead>\n",
       "    <tr style=\"text-align: right;\">\n",
       "      <th></th>\n",
       "      <th>Unnamed: 0</th>\n",
       "      <th>cate_nm</th>\n",
       "      <th>entrp_nm</th>\n",
       "      <th>load_addr</th>\n",
       "      <th>city_do_cd</th>\n",
       "      <th>city_gn_gu_cd</th>\n",
       "      <th>xpos_lo</th>\n",
       "      <th>ypos_la</th>\n",
       "      <th>area_nm</th>\n",
       "      <th>homepage_url</th>\n",
       "      <th>tel_no</th>\n",
       "      <th>base_ymd</th>\n",
       "    </tr>\n",
       "  </thead>\n",
       "  <tbody>\n",
       "    <tr>\n",
       "      <th>0</th>\n",
       "      <td>2541</td>\n",
       "      <td>볼링장</td>\n",
       "      <td>라인볼링장</td>\n",
       "      <td>서울특별시 강남구 강남대로 308 랜드마크타워 지하2층</td>\n",
       "      <td>11.0</td>\n",
       "      <td>11680.0</td>\n",
       "      <td>127.031739</td>\n",
       "      <td>37.490641</td>\n",
       "      <td>서울</td>\n",
       "      <td>_</td>\n",
       "      <td>02-555-4199</td>\n",
       "      <td>2020-12-31</td>\n",
       "    </tr>\n",
       "    <tr>\n",
       "      <th>1</th>\n",
       "      <td>2542</td>\n",
       "      <td>VR테마파크</td>\n",
       "      <td>VR스테이션</td>\n",
       "      <td>서울특별시 강남구 강남대로 364 미왕빌딩 지하1층~3층</td>\n",
       "      <td>11.0</td>\n",
       "      <td>11680.0</td>\n",
       "      <td>127.029335</td>\n",
       "      <td>37.495559</td>\n",
       "      <td>서울</td>\n",
       "      <td>http://h-vrstation.com, http://www.instagram.c...</td>\n",
       "      <td>1877-8870</td>\n",
       "      <td>2020-12-31</td>\n",
       "    </tr>\n",
       "    <tr>\n",
       "      <th>2</th>\n",
       "      <td>2543</td>\n",
       "      <td>오락실</td>\n",
       "      <td>못된 강아지</td>\n",
       "      <td>서울특별시 강남구 강남대로102길 15  1층 (역삼동)</td>\n",
       "      <td>11.0</td>\n",
       "      <td>11680.0</td>\n",
       "      <td>127.026998</td>\n",
       "      <td>37.502225</td>\n",
       "      <td>서울</td>\n",
       "      <td>NaN</td>\n",
       "      <td>NaN</td>\n",
       "      <td>2020-12-31</td>\n",
       "    </tr>\n",
       "    <tr>\n",
       "      <th>3</th>\n",
       "      <td>2544</td>\n",
       "      <td>VR테마파크</td>\n",
       "      <td>BAD VR 논현점</td>\n",
       "      <td>서울특별시 강남구 강남대로118길 15</td>\n",
       "      <td>11.0</td>\n",
       "      <td>11680.0</td>\n",
       "      <td>127.024710</td>\n",
       "      <td>37.506793</td>\n",
       "      <td>서울</td>\n",
       "      <td>https://blog.naver.com/jaemigym</td>\n",
       "      <td>02-6952-0313</td>\n",
       "      <td>2020-12-31</td>\n",
       "    </tr>\n",
       "    <tr>\n",
       "      <th>4</th>\n",
       "      <td>2545</td>\n",
       "      <td>VR테마파크</td>\n",
       "      <td>콩 VR 강남역점</td>\n",
       "      <td>서울특별시 강남구 강남대로94길 10 케이스퀘어강남 지하1층 콩VR</td>\n",
       "      <td>11.0</td>\n",
       "      <td>11680.0</td>\n",
       "      <td>127.028202</td>\n",
       "      <td>37.499208</td>\n",
       "      <td>서울</td>\n",
       "      <td>http://kong-vr.com, http://www.instagram.com/k...</td>\n",
       "      <td>070-4231-5445</td>\n",
       "      <td>2020-12-31</td>\n",
       "    </tr>\n",
       "  </tbody>\n",
       "</table>\n",
       "</div>"
      ],
      "text/plain": [
       "   Unnamed: 0 cate_nm    entrp_nm                              load_addr  \\\n",
       "0        2541     볼링장       라인볼링장         서울특별시 강남구 강남대로 308 랜드마크타워 지하2층   \n",
       "1        2542  VR테마파크      VR스테이션        서울특별시 강남구 강남대로 364 미왕빌딩 지하1층~3층   \n",
       "2        2543     오락실      못된 강아지        서울특별시 강남구 강남대로102길 15  1층 (역삼동)   \n",
       "3        2544  VR테마파크  BAD VR 논현점                  서울특별시 강남구 강남대로118길 15   \n",
       "4        2545  VR테마파크   콩 VR 강남역점  서울특별시 강남구 강남대로94길 10 케이스퀘어강남 지하1층 콩VR   \n",
       "\n",
       "   city_do_cd  city_gn_gu_cd     xpos_lo    ypos_la area_nm  \\\n",
       "0        11.0        11680.0  127.031739  37.490641      서울   \n",
       "1        11.0        11680.0  127.029335  37.495559      서울   \n",
       "2        11.0        11680.0  127.026998  37.502225      서울   \n",
       "3        11.0        11680.0  127.024710  37.506793      서울   \n",
       "4        11.0        11680.0  127.028202  37.499208      서울   \n",
       "\n",
       "                                        homepage_url         tel_no  \\\n",
       "0                                                  _    02-555-4199   \n",
       "1  http://h-vrstation.com, http://www.instagram.c...      1877-8870   \n",
       "2                                                NaN            NaN   \n",
       "3                    https://blog.naver.com/jaemigym   02-6952-0313   \n",
       "4  http://kong-vr.com, http://www.instagram.com/k...  070-4231-5445   \n",
       "\n",
       "     base_ymd  \n",
       "0  2020-12-31  \n",
       "1  2020-12-31  \n",
       "2  2020-12-31  \n",
       "3  2020-12-31  \n",
       "4  2020-12-31  "
      ]
     },
     "execution_count": 3,
     "metadata": {},
     "output_type": "execute_result"
    }
   ],
   "source": [
    "df.head()"
   ]
  },
  {
   "cell_type": "code",
   "execution_count": 4,
   "id": "5bb97170",
   "metadata": {
    "scrolled": true
   },
   "outputs": [
    {
     "data": {
      "text/plain": [
       "오락실       347\n",
       "볼링장       114\n",
       "VR테마파크     56\n",
       "수영장         5\n",
       "Name: cate_nm, dtype: int64"
      ]
     },
     "execution_count": 4,
     "metadata": {},
     "output_type": "execute_result"
    }
   ],
   "source": [
    "df['cate_nm'].value_counts()"
   ]
  },
  {
   "cell_type": "code",
   "execution_count": 10,
   "id": "8fa81d8a",
   "metadata": {
    "scrolled": true
   },
   "outputs": [
    {
     "data": {
      "text/plain": [
       "count      522.000000\n",
       "mean     11437.528736\n",
       "std        178.827553\n",
       "min      11110.000000\n",
       "25%      11290.000000\n",
       "50%      11440.000000\n",
       "75%      11590.000000\n",
       "max      11740.000000\n",
       "Name: city_gn_gu_cd, dtype: float64"
      ]
     },
     "execution_count": 10,
     "metadata": {},
     "output_type": "execute_result"
    }
   ],
   "source": [
    "df['city_gn_gu_cd'].describe()"
   ]
  },
  {
   "cell_type": "code",
   "execution_count": 11,
   "id": "85af6155",
   "metadata": {},
   "outputs": [
    {
     "data": {
      "text/plain": [
       "array([11680., 11740., 11305., 11500., 11620., 11215., 11530., 11545.,\n",
       "       11350., 11320., 11230., 11590., 11440., 11410., 11650., 11200.,\n",
       "       11290., 11710., 11470., 11560., 11170., 11380., 11110., 11140.,\n",
       "       11260.])"
      ]
     },
     "execution_count": 11,
     "metadata": {},
     "output_type": "execute_result"
    }
   ],
   "source": [
    "df['city_gn_gu_cd'].unique()"
   ]
  }
 ],
 "metadata": {
  "kernelspec": {
   "display_name": "Python 3 (ipykernel)",
   "language": "python",
   "name": "python3"
  },
  "language_info": {
   "codemirror_mode": {
    "name": "ipython",
    "version": 3
   },
   "file_extension": ".py",
   "mimetype": "text/x-python",
   "name": "python",
   "nbconvert_exporter": "python",
   "pygments_lexer": "ipython3",
   "version": "3.9.7"
  }
 },
 "nbformat": 4,
 "nbformat_minor": 5
}
