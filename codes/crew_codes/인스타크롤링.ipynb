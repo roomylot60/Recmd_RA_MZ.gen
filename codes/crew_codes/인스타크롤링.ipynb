{
 "cells": [
  {
   "cell_type": "markdown",
   "id": "82a18b6f",
   "metadata": {},
   "source": [
    "### 크롬드라이버 설치 (버전에 맞게) - 구글링\n",
    "- 인스타그램 크롬이 뜨면 로그인해주세요.\n",
    "- 하나씩 천천히 블록 실행해주세요."
   ]
  },
  {
   "cell_type": "code",
   "execution_count": 1,
   "id": "befc26f9",
   "metadata": {},
   "outputs": [],
   "source": [
    "from selenium.webdriver.common.by import By\n",
    "from selenium import webdriver\n",
    "from selenium.webdriver.chrome.service import Service\n",
    "from bs4 import BeautifulSoup\n",
    "\n",
    "import pandas as pd\n",
    "import numpy as np\n",
    "import time\n",
    "\n",
    "ser = Service('chromedriver.exe')\n",
    "driver = webdriver.Chrome(service = ser)\n",
    "\n",
    "url = 'https://www.instagram.com/'\n",
    "driver.get(url)"
   ]
  },
  {
   "cell_type": "code",
   "execution_count": 2,
   "id": "756236e3",
   "metadata": {},
   "outputs": [],
   "source": [
    "def insta_searching(word):\n",
    "    url = 'https://www.instagram.com/explore/tags/{}/'.format(word)\n",
    "    return(url)\n",
    "\n",
    "from selenium.webdriver.common.by import By\n",
    "\n",
    "def select_first(driver):\n",
    "    # 웹페이지에 접속해서 첫번째 게시글 해당하는 tag 선택해줘\n",
    "    first = driver.find_element(By.CSS_SELECTOR, 'div._aagu')\n",
    "\n",
    "    first.click()\n",
    "    time.sleep(3)\n",
    "\n",
    "import re\n",
    "def get_content(driver):\n",
    "    html_insta = driver.page_source\n",
    "    soup = BeautifulSoup(html_insta, 'html.parser')\n",
    "\n",
    "    try:\n",
    "        content = soup.select('div._a9zs > span ')[0].text\n",
    "        print(content)\n",
    "\n",
    "    except:\n",
    "        content = \" \"\n",
    "\n",
    "    try:\n",
    "        tags = re.findall(r'#[^\\s#,\\\\]+',content)\n",
    "    except:\n",
    "        tags = \" \"\n",
    "\n",
    "    data = [content, tags]\n",
    "    print(data ,\"!!!\")\n",
    "    return(data)\n",
    "\n",
    "def move_next(driver):\n",
    "    right = driver.find_element(By.CSS_SELECTOR,\"div._aaqg\")\n",
    "\n",
    "    right.click()\n",
    "    time.sleep(3)\n",
    "\n",
    "def insta_crawling(word, n):\n",
    "\n",
    "    url = insta_searching(word)\n",
    "    driver.get(url)\n",
    "    time.sleep(8)\n",
    "\n",
    "\n",
    "    # 첫 사진 선택\n",
    "    select_first(driver)\n",
    "    time.sleep(5)\n",
    "\n",
    "\n",
    "    results = []\n",
    "    for i in range(n):\n",
    "        try:\n",
    "            data = get_content(driver)\n",
    "            print(data, \"*\")\n",
    "            results.append(data)\n",
    "            move_next(driver)\n",
    "\n",
    "        except:\n",
    "            time.sleep(2)\n",
    "            move_next(driver)\n",
    "\n",
    "    return(results)\n"
   ]
  },
  {
   "cell_type": "code",
   "execution_count": null,
   "id": "9d8ce088",
   "metadata": {},
   "outputs": [],
   "source": []
  },
  {
   "cell_type": "markdown",
   "id": "908e1812",
   "metadata": {},
   "source": [
    "### 본인이 검색하고 싶은 단어, 개수 insta_crawling()함수에다가"
   ]
  },
  {
   "cell_type": "code",
   "execution_count": 30,
   "id": "bd977ae7",
   "metadata": {
    "scrolled": true
   },
   "outputs": [
    {
     "name": "stdout",
     "output_type": "stream",
     "text": [
      "[' ', []] !!!\n",
      "[' ', []] *\n",
      "[' ', []] !!!\n",
      "[' ', []] *\n",
      "[' ', []] !!!\n",
      "[' ', []] *\n",
      "[' ', []] !!!\n",
      "[' ', []] *\n"
     ]
    },
    {
     "ename": "NoSuchElementException",
     "evalue": "Message: no such element: Unable to locate element: {\"method\":\"css selector\",\"selector\":\"div._aaqg\"}\n  (Session info: chrome=106.0.5249.119)\nStacktrace:\nBacktrace:\n\tOrdinal0 [0x00DA1ED3+2236115]\n\tOrdinal0 [0x00D392F1+1807089]\n\tOrdinal0 [0x00C466FD+812797]\n\tOrdinal0 [0x00C755DF+1005023]\n\tOrdinal0 [0x00C757CB+1005515]\n\tOrdinal0 [0x00CA7632+1209906]\n\tOrdinal0 [0x00C91AD4+1120980]\n\tOrdinal0 [0x00CA59E2+1202658]\n\tOrdinal0 [0x00C918A6+1120422]\n\tOrdinal0 [0x00C6A73D+960317]\n\tOrdinal0 [0x00C6B71F+964383]\n\tGetHandleVerifier [0x0104E7E2+2743074]\n\tGetHandleVerifier [0x010408D4+2685972]\n\tGetHandleVerifier [0x00E32BAA+532202]\n\tGetHandleVerifier [0x00E31990+527568]\n\tOrdinal0 [0x00D4080C+1837068]\n\tOrdinal0 [0x00D44CD8+1854680]\n\tOrdinal0 [0x00D44DC5+1854917]\n\tOrdinal0 [0x00D4ED64+1895780]\n\tBaseThreadInitThunk [0x763FFA29+25]\n\tRtlGetAppContainerNamedObjectPath [0x775D7BBE+286]\n\tRtlGetAppContainerNamedObjectPath [0x775D7B8E+238]\n",
     "output_type": "error",
     "traceback": [
      "\u001b[1;31m---------------------------------------------------------------------------\u001b[0m",
      "\u001b[1;31mNoSuchElementException\u001b[0m                    Traceback (most recent call last)",
      "\u001b[1;32m~\\AppData\\Local\\Temp/ipykernel_30188/1011266273.py\u001b[0m in \u001b[0;36minsta_crawling\u001b[1;34m(word, n)\u001b[0m\n\u001b[0;32m     58\u001b[0m             \u001b[0mresults\u001b[0m\u001b[1;33m.\u001b[0m\u001b[0mappend\u001b[0m\u001b[1;33m(\u001b[0m\u001b[0mdata\u001b[0m\u001b[1;33m)\u001b[0m\u001b[1;33m\u001b[0m\u001b[1;33m\u001b[0m\u001b[0m\n\u001b[1;32m---> 59\u001b[1;33m             \u001b[0mmove_next\u001b[0m\u001b[1;33m(\u001b[0m\u001b[0mdriver\u001b[0m\u001b[1;33m)\u001b[0m\u001b[1;33m\u001b[0m\u001b[1;33m\u001b[0m\u001b[0m\n\u001b[0m\u001b[0;32m     60\u001b[0m \u001b[1;33m\u001b[0m\u001b[0m\n",
      "\u001b[1;32m~\\AppData\\Local\\Temp/ipykernel_30188/1011266273.py\u001b[0m in \u001b[0;36mmove_next\u001b[1;34m(driver)\u001b[0m\n\u001b[0;32m     35\u001b[0m \u001b[1;32mdef\u001b[0m \u001b[0mmove_next\u001b[0m\u001b[1;33m(\u001b[0m\u001b[0mdriver\u001b[0m\u001b[1;33m)\u001b[0m\u001b[1;33m:\u001b[0m\u001b[1;33m\u001b[0m\u001b[1;33m\u001b[0m\u001b[0m\n\u001b[1;32m---> 36\u001b[1;33m     \u001b[0mright\u001b[0m \u001b[1;33m=\u001b[0m \u001b[0mdriver\u001b[0m\u001b[1;33m.\u001b[0m\u001b[0mfind_element\u001b[0m\u001b[1;33m(\u001b[0m\u001b[0mBy\u001b[0m\u001b[1;33m.\u001b[0m\u001b[0mCSS_SELECTOR\u001b[0m\u001b[1;33m,\u001b[0m\u001b[1;34m\"div._aaqg\"\u001b[0m\u001b[1;33m)\u001b[0m\u001b[1;33m\u001b[0m\u001b[1;33m\u001b[0m\u001b[0m\n\u001b[0m\u001b[0;32m     37\u001b[0m \u001b[1;33m\u001b[0m\u001b[0m\n",
      "\u001b[1;32mC:\\ProgramData\\Anaconda3\\lib\\site-packages\\selenium\\webdriver\\remote\\webdriver.py\u001b[0m in \u001b[0;36mfind_element\u001b[1;34m(self, by, value)\u001b[0m\n\u001b[0;32m    856\u001b[0m \u001b[1;33m\u001b[0m\u001b[0m\n\u001b[1;32m--> 857\u001b[1;33m         return self.execute(Command.FIND_ELEMENT, {\n\u001b[0m\u001b[0;32m    858\u001b[0m             \u001b[1;34m'using'\u001b[0m\u001b[1;33m:\u001b[0m \u001b[0mby\u001b[0m\u001b[1;33m,\u001b[0m\u001b[1;33m\u001b[0m\u001b[1;33m\u001b[0m\u001b[0m\n",
      "\u001b[1;32mC:\\ProgramData\\Anaconda3\\lib\\site-packages\\selenium\\webdriver\\remote\\webdriver.py\u001b[0m in \u001b[0;36mexecute\u001b[1;34m(self, driver_command, params)\u001b[0m\n\u001b[0;32m    434\u001b[0m         \u001b[1;32mif\u001b[0m \u001b[0mresponse\u001b[0m\u001b[1;33m:\u001b[0m\u001b[1;33m\u001b[0m\u001b[1;33m\u001b[0m\u001b[0m\n\u001b[1;32m--> 435\u001b[1;33m             \u001b[0mself\u001b[0m\u001b[1;33m.\u001b[0m\u001b[0merror_handler\u001b[0m\u001b[1;33m.\u001b[0m\u001b[0mcheck_response\u001b[0m\u001b[1;33m(\u001b[0m\u001b[0mresponse\u001b[0m\u001b[1;33m)\u001b[0m\u001b[1;33m\u001b[0m\u001b[1;33m\u001b[0m\u001b[0m\n\u001b[0m\u001b[0;32m    436\u001b[0m             response['value'] = self._unwrap_value(\n",
      "\u001b[1;32mC:\\ProgramData\\Anaconda3\\lib\\site-packages\\selenium\\webdriver\\remote\\errorhandler.py\u001b[0m in \u001b[0;36mcheck_response\u001b[1;34m(self, response)\u001b[0m\n\u001b[0;32m    246\u001b[0m             \u001b[1;32mraise\u001b[0m \u001b[0mexception_class\u001b[0m\u001b[1;33m(\u001b[0m\u001b[0mmessage\u001b[0m\u001b[1;33m,\u001b[0m \u001b[0mscreen\u001b[0m\u001b[1;33m,\u001b[0m \u001b[0mstacktrace\u001b[0m\u001b[1;33m,\u001b[0m \u001b[0malert_text\u001b[0m\u001b[1;33m)\u001b[0m  \u001b[1;31m# type: ignore[call-arg]  # mypy is not smart enough here\u001b[0m\u001b[1;33m\u001b[0m\u001b[1;33m\u001b[0m\u001b[0m\n\u001b[1;32m--> 247\u001b[1;33m         \u001b[1;32mraise\u001b[0m \u001b[0mexception_class\u001b[0m\u001b[1;33m(\u001b[0m\u001b[0mmessage\u001b[0m\u001b[1;33m,\u001b[0m \u001b[0mscreen\u001b[0m\u001b[1;33m,\u001b[0m \u001b[0mstacktrace\u001b[0m\u001b[1;33m)\u001b[0m\u001b[1;33m\u001b[0m\u001b[1;33m\u001b[0m\u001b[0m\n\u001b[0m\u001b[0;32m    248\u001b[0m \u001b[1;33m\u001b[0m\u001b[0m\n",
      "\u001b[1;31mNoSuchElementException\u001b[0m: Message: no such element: Unable to locate element: {\"method\":\"css selector\",\"selector\":\"div._aaqg\"}\n  (Session info: chrome=106.0.5249.119)\nStacktrace:\nBacktrace:\n\tOrdinal0 [0x00DA1ED3+2236115]\n\tOrdinal0 [0x00D392F1+1807089]\n\tOrdinal0 [0x00C466FD+812797]\n\tOrdinal0 [0x00C755DF+1005023]\n\tOrdinal0 [0x00C757CB+1005515]\n\tOrdinal0 [0x00CA7632+1209906]\n\tOrdinal0 [0x00C91AD4+1120980]\n\tOrdinal0 [0x00CA59E2+1202658]\n\tOrdinal0 [0x00C918A6+1120422]\n\tOrdinal0 [0x00C6A73D+960317]\n\tOrdinal0 [0x00C6B71F+964383]\n\tGetHandleVerifier [0x0104E7E2+2743074]\n\tGetHandleVerifier [0x010408D4+2685972]\n\tGetHandleVerifier [0x00E32BAA+532202]\n\tGetHandleVerifier [0x00E31990+527568]\n\tOrdinal0 [0x00D4080C+1837068]\n\tOrdinal0 [0x00D44CD8+1854680]\n\tOrdinal0 [0x00D44DC5+1854917]\n\tOrdinal0 [0x00D4ED64+1895780]\n\tBaseThreadInitThunk [0x763FFA29+25]\n\tRtlGetAppContainerNamedObjectPath [0x775D7BBE+286]\n\tRtlGetAppContainerNamedObjectPath [0x775D7B8E+238]\n",
      "\nDuring handling of the above exception, another exception occurred:\n",
      "\u001b[1;31mNoSuchElementException\u001b[0m                    Traceback (most recent call last)",
      "\u001b[1;32m~\\AppData\\Local\\Temp/ipykernel_30188/617786647.py\u001b[0m in \u001b[0;36m<module>\u001b[1;34m\u001b[0m\n\u001b[1;32m----> 1\u001b[1;33m \u001b[0mresults\u001b[0m \u001b[1;33m=\u001b[0m \u001b[0minsta_crawling\u001b[0m\u001b[1;33m(\u001b[0m\u001b[1;34m\"쏘카\"\u001b[0m\u001b[1;33m,\u001b[0m \u001b[1;36m500\u001b[0m\u001b[1;33m)\u001b[0m\u001b[1;33m\u001b[0m\u001b[1;33m\u001b[0m\u001b[0m\n\u001b[0m\u001b[0;32m      2\u001b[0m \u001b[1;31m# results_df.to_excel('1_crawling_jejudoMatJip.xlsx')abs\u001b[0m\u001b[1;33m\u001b[0m\u001b[1;33m\u001b[0m\u001b[0m\n",
      "\u001b[1;32m~\\AppData\\Local\\Temp/ipykernel_30188/1011266273.py\u001b[0m in \u001b[0;36minsta_crawling\u001b[1;34m(word, n)\u001b[0m\n\u001b[0;32m     61\u001b[0m         \u001b[1;32mexcept\u001b[0m\u001b[1;33m:\u001b[0m\u001b[1;33m\u001b[0m\u001b[1;33m\u001b[0m\u001b[0m\n\u001b[0;32m     62\u001b[0m             \u001b[0mtime\u001b[0m\u001b[1;33m.\u001b[0m\u001b[0msleep\u001b[0m\u001b[1;33m(\u001b[0m\u001b[1;36m2\u001b[0m\u001b[1;33m)\u001b[0m\u001b[1;33m\u001b[0m\u001b[1;33m\u001b[0m\u001b[0m\n\u001b[1;32m---> 63\u001b[1;33m             \u001b[0mmove_next\u001b[0m\u001b[1;33m(\u001b[0m\u001b[0mdriver\u001b[0m\u001b[1;33m)\u001b[0m\u001b[1;33m\u001b[0m\u001b[1;33m\u001b[0m\u001b[0m\n\u001b[0m\u001b[0;32m     64\u001b[0m \u001b[1;33m\u001b[0m\u001b[0m\n\u001b[0;32m     65\u001b[0m     \u001b[1;32mreturn\u001b[0m\u001b[1;33m(\u001b[0m\u001b[0mresults\u001b[0m\u001b[1;33m)\u001b[0m\u001b[1;33m\u001b[0m\u001b[1;33m\u001b[0m\u001b[0m\n",
      "\u001b[1;32m~\\AppData\\Local\\Temp/ipykernel_30188/1011266273.py\u001b[0m in \u001b[0;36mmove_next\u001b[1;34m(driver)\u001b[0m\n\u001b[0;32m     34\u001b[0m \u001b[1;33m\u001b[0m\u001b[0m\n\u001b[0;32m     35\u001b[0m \u001b[1;32mdef\u001b[0m \u001b[0mmove_next\u001b[0m\u001b[1;33m(\u001b[0m\u001b[0mdriver\u001b[0m\u001b[1;33m)\u001b[0m\u001b[1;33m:\u001b[0m\u001b[1;33m\u001b[0m\u001b[1;33m\u001b[0m\u001b[0m\n\u001b[1;32m---> 36\u001b[1;33m     \u001b[0mright\u001b[0m \u001b[1;33m=\u001b[0m \u001b[0mdriver\u001b[0m\u001b[1;33m.\u001b[0m\u001b[0mfind_element\u001b[0m\u001b[1;33m(\u001b[0m\u001b[0mBy\u001b[0m\u001b[1;33m.\u001b[0m\u001b[0mCSS_SELECTOR\u001b[0m\u001b[1;33m,\u001b[0m\u001b[1;34m\"div._aaqg\"\u001b[0m\u001b[1;33m)\u001b[0m\u001b[1;33m\u001b[0m\u001b[1;33m\u001b[0m\u001b[0m\n\u001b[0m\u001b[0;32m     37\u001b[0m \u001b[1;33m\u001b[0m\u001b[0m\n\u001b[0;32m     38\u001b[0m     \u001b[0mright\u001b[0m\u001b[1;33m.\u001b[0m\u001b[0mclick\u001b[0m\u001b[1;33m(\u001b[0m\u001b[1;33m)\u001b[0m\u001b[1;33m\u001b[0m\u001b[1;33m\u001b[0m\u001b[0m\n",
      "\u001b[1;32mC:\\ProgramData\\Anaconda3\\lib\\site-packages\\selenium\\webdriver\\remote\\webdriver.py\u001b[0m in \u001b[0;36mfind_element\u001b[1;34m(self, by, value)\u001b[0m\n\u001b[0;32m    855\u001b[0m             \u001b[0mvalue\u001b[0m \u001b[1;33m=\u001b[0m \u001b[1;34m'[name=\"%s\"]'\u001b[0m \u001b[1;33m%\u001b[0m \u001b[0mvalue\u001b[0m\u001b[1;33m\u001b[0m\u001b[1;33m\u001b[0m\u001b[0m\n\u001b[0;32m    856\u001b[0m \u001b[1;33m\u001b[0m\u001b[0m\n\u001b[1;32m--> 857\u001b[1;33m         return self.execute(Command.FIND_ELEMENT, {\n\u001b[0m\u001b[0;32m    858\u001b[0m             \u001b[1;34m'using'\u001b[0m\u001b[1;33m:\u001b[0m \u001b[0mby\u001b[0m\u001b[1;33m,\u001b[0m\u001b[1;33m\u001b[0m\u001b[1;33m\u001b[0m\u001b[0m\n\u001b[0;32m    859\u001b[0m             'value': value})['value']\n",
      "\u001b[1;32mC:\\ProgramData\\Anaconda3\\lib\\site-packages\\selenium\\webdriver\\remote\\webdriver.py\u001b[0m in \u001b[0;36mexecute\u001b[1;34m(self, driver_command, params)\u001b[0m\n\u001b[0;32m    433\u001b[0m         \u001b[0mresponse\u001b[0m \u001b[1;33m=\u001b[0m \u001b[0mself\u001b[0m\u001b[1;33m.\u001b[0m\u001b[0mcommand_executor\u001b[0m\u001b[1;33m.\u001b[0m\u001b[0mexecute\u001b[0m\u001b[1;33m(\u001b[0m\u001b[0mdriver_command\u001b[0m\u001b[1;33m,\u001b[0m \u001b[0mparams\u001b[0m\u001b[1;33m)\u001b[0m\u001b[1;33m\u001b[0m\u001b[1;33m\u001b[0m\u001b[0m\n\u001b[0;32m    434\u001b[0m         \u001b[1;32mif\u001b[0m \u001b[0mresponse\u001b[0m\u001b[1;33m:\u001b[0m\u001b[1;33m\u001b[0m\u001b[1;33m\u001b[0m\u001b[0m\n\u001b[1;32m--> 435\u001b[1;33m             \u001b[0mself\u001b[0m\u001b[1;33m.\u001b[0m\u001b[0merror_handler\u001b[0m\u001b[1;33m.\u001b[0m\u001b[0mcheck_response\u001b[0m\u001b[1;33m(\u001b[0m\u001b[0mresponse\u001b[0m\u001b[1;33m)\u001b[0m\u001b[1;33m\u001b[0m\u001b[1;33m\u001b[0m\u001b[0m\n\u001b[0m\u001b[0;32m    436\u001b[0m             response['value'] = self._unwrap_value(\n\u001b[0;32m    437\u001b[0m                 response.get('value', None))\n",
      "\u001b[1;32mC:\\ProgramData\\Anaconda3\\lib\\site-packages\\selenium\\webdriver\\remote\\errorhandler.py\u001b[0m in \u001b[0;36mcheck_response\u001b[1;34m(self, response)\u001b[0m\n\u001b[0;32m    245\u001b[0m                 \u001b[0malert_text\u001b[0m \u001b[1;33m=\u001b[0m \u001b[0mvalue\u001b[0m\u001b[1;33m[\u001b[0m\u001b[1;34m'alert'\u001b[0m\u001b[1;33m]\u001b[0m\u001b[1;33m.\u001b[0m\u001b[0mget\u001b[0m\u001b[1;33m(\u001b[0m\u001b[1;34m'text'\u001b[0m\u001b[1;33m)\u001b[0m\u001b[1;33m\u001b[0m\u001b[1;33m\u001b[0m\u001b[0m\n\u001b[0;32m    246\u001b[0m             \u001b[1;32mraise\u001b[0m \u001b[0mexception_class\u001b[0m\u001b[1;33m(\u001b[0m\u001b[0mmessage\u001b[0m\u001b[1;33m,\u001b[0m \u001b[0mscreen\u001b[0m\u001b[1;33m,\u001b[0m \u001b[0mstacktrace\u001b[0m\u001b[1;33m,\u001b[0m \u001b[0malert_text\u001b[0m\u001b[1;33m)\u001b[0m  \u001b[1;31m# type: ignore[call-arg]  # mypy is not smart enough here\u001b[0m\u001b[1;33m\u001b[0m\u001b[1;33m\u001b[0m\u001b[0m\n\u001b[1;32m--> 247\u001b[1;33m         \u001b[1;32mraise\u001b[0m \u001b[0mexception_class\u001b[0m\u001b[1;33m(\u001b[0m\u001b[0mmessage\u001b[0m\u001b[1;33m,\u001b[0m \u001b[0mscreen\u001b[0m\u001b[1;33m,\u001b[0m \u001b[0mstacktrace\u001b[0m\u001b[1;33m)\u001b[0m\u001b[1;33m\u001b[0m\u001b[1;33m\u001b[0m\u001b[0m\n\u001b[0m\u001b[0;32m    248\u001b[0m \u001b[1;33m\u001b[0m\u001b[0m\n\u001b[0;32m    249\u001b[0m     \u001b[1;32mdef\u001b[0m \u001b[0m_value_or_default\u001b[0m\u001b[1;33m(\u001b[0m\u001b[0mself\u001b[0m\u001b[1;33m,\u001b[0m \u001b[0mobj\u001b[0m\u001b[1;33m:\u001b[0m \u001b[0mMapping\u001b[0m\u001b[1;33m[\u001b[0m\u001b[0m_KT\u001b[0m\u001b[1;33m,\u001b[0m \u001b[0m_VT\u001b[0m\u001b[1;33m]\u001b[0m\u001b[1;33m,\u001b[0m \u001b[0mkey\u001b[0m\u001b[1;33m:\u001b[0m \u001b[0m_KT\u001b[0m\u001b[1;33m,\u001b[0m \u001b[0mdefault\u001b[0m\u001b[1;33m:\u001b[0m \u001b[0m_VT\u001b[0m\u001b[1;33m)\u001b[0m \u001b[1;33m->\u001b[0m \u001b[0m_VT\u001b[0m\u001b[1;33m:\u001b[0m\u001b[1;33m\u001b[0m\u001b[1;33m\u001b[0m\u001b[0m\n",
      "\u001b[1;31mNoSuchElementException\u001b[0m: Message: no such element: Unable to locate element: {\"method\":\"css selector\",\"selector\":\"div._aaqg\"}\n  (Session info: chrome=106.0.5249.119)\nStacktrace:\nBacktrace:\n\tOrdinal0 [0x00DA1ED3+2236115]\n\tOrdinal0 [0x00D392F1+1807089]\n\tOrdinal0 [0x00C466FD+812797]\n\tOrdinal0 [0x00C755DF+1005023]\n\tOrdinal0 [0x00C757CB+1005515]\n\tOrdinal0 [0x00CA7632+1209906]\n\tOrdinal0 [0x00C91AD4+1120980]\n\tOrdinal0 [0x00CA59E2+1202658]\n\tOrdinal0 [0x00C918A6+1120422]\n\tOrdinal0 [0x00C6A73D+960317]\n\tOrdinal0 [0x00C6B71F+964383]\n\tGetHandleVerifier [0x0104E7E2+2743074]\n\tGetHandleVerifier [0x010408D4+2685972]\n\tGetHandleVerifier [0x00E32BAA+532202]\n\tGetHandleVerifier [0x00E31990+527568]\n\tOrdinal0 [0x00D4080C+1837068]\n\tOrdinal0 [0x00D44CD8+1854680]\n\tOrdinal0 [0x00D44DC5+1854917]\n\tOrdinal0 [0x00D4ED64+1895780]\n\tBaseThreadInitThunk [0x763FFA29+25]\n\tRtlGetAppContainerNamedObjectPath [0x775D7BBE+286]\n\tRtlGetAppContainerNamedObjectPath [0x775D7B8E+238]\n"
     ]
    }
   ],
   "source": [
    "results = insta_crawling(\"쏘카\", 500)\n",
    "# results_df.to_excel('1_crawling_jejudoMatJip.xlsx')abs"
   ]
  },
  {
   "cell_type": "code",
   "execution_count": null,
   "id": "ddf28c86",
   "metadata": {},
   "outputs": [],
   "source": [
    "results_df = pd.DataFrame(results)\n",
    "results_df.columns = ['content','tags']"
   ]
  },
  {
   "cell_type": "markdown",
   "id": "0b480386",
   "metadata": {},
   "source": [
    "### 파일명 변경 해주세요!"
   ]
  },
  {
   "cell_type": "code",
   "execution_count": null,
   "id": "3a4e37f7",
   "metadata": {},
   "outputs": [],
   "source": [
    "f = open('쏘카.txt','w',encoding='UTF-8')\n",
    "\n",
    "all_str = \"\"\n",
    "for item in results_df['tags'].values:\n",
    "    str = ' '.join(item)\n",
    "    all_str += str\n",
    "    \n",
    "#     remove_tags = ['오운완','오수완','수린이','수영인','수영','수영일기','일기']\n",
    "#     for n in remove_tags:\n",
    "#         all_str = all_str.replace(n,'',-1)\n",
    "#     all_str\n",
    "    \n",
    "f.write(all_str)\n",
    "\n",
    "f.close()"
   ]
  },
  {
   "cell_type": "code",
   "execution_count": null,
   "id": "2719a74b",
   "metadata": {},
   "outputs": [],
   "source": [
    "from wordcloud import WordCloud\n",
    "import matplotlib.font_manager as fm\n",
    "path = \"c:/Windows/Fonts/malgun.ttf\"\n",
    "\n",
    "wc = WordCloud(font_path=path, width=600, height=600,background_color='black',colormap='hsv')\n",
    "wc.generate(all_str)\n",
    "\n",
    "\n",
    "wc.to_file(\"쏘카.png\")"
   ]
  },
  {
   "cell_type": "code",
   "execution_count": null,
   "id": "d1472ffb",
   "metadata": {},
   "outputs": [],
   "source": []
  }
 ],
 "metadata": {
  "kernelspec": {
   "display_name": "Python 3 (ipykernel)",
   "language": "python",
   "name": "python3"
  },
  "language_info": {
   "codemirror_mode": {
    "name": "ipython",
    "version": 3
   },
   "file_extension": ".py",
   "mimetype": "text/x-python",
   "name": "python",
   "nbconvert_exporter": "python",
   "pygments_lexer": "ipython3",
   "version": "3.9.7"
  }
 },
 "nbformat": 4,
 "nbformat_minor": 5
}
