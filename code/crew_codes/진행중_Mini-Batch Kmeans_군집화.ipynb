{
 "cells": [
  {
   "cell_type": "code",
   "execution_count": 47,
   "id": "6bcec111",
   "metadata": {},
   "outputs": [],
   "source": [
    "import pandas as pd\n",
    "import numpy as np\n",
    "import seaborn as sns\n",
    "sns.set()\n",
    "from matplotlib import pyplot as plt\n",
    "from sklearn.cluster import KMeans\n",
    "from sklearn.cluster import MiniBatchKMeans\n",
    "from sklearn.datasets import make_blobs\n",
    "from sklearn.metrics import silhouette_samples, silhouette_score"
   ]
  },
  {
   "cell_type": "code",
   "execution_count": 14,
   "id": "68407a21",
   "metadata": {},
   "outputs": [
    {
     "data": {
      "text/html": [
       "<div>\n",
       "<style scoped>\n",
       "    .dataframe tbody tr th:only-of-type {\n",
       "        vertical-align: middle;\n",
       "    }\n",
       "\n",
       "    .dataframe tbody tr th {\n",
       "        vertical-align: top;\n",
       "    }\n",
       "\n",
       "    .dataframe thead th {\n",
       "        text-align: right;\n",
       "    }\n",
       "</style>\n",
       "<table border=\"1\" class=\"dataframe\">\n",
       "  <thead>\n",
       "    <tr style=\"text-align: right;\">\n",
       "      <th></th>\n",
       "      <th>A</th>\n",
       "      <th>B</th>\n",
       "      <th>C</th>\n",
       "      <th>D</th>\n",
       "    </tr>\n",
       "  </thead>\n",
       "  <tbody>\n",
       "    <tr>\n",
       "      <th>사직동</th>\n",
       "      <td>0.756808</td>\n",
       "      <td>0.837151</td>\n",
       "      <td>0.367741</td>\n",
       "      <td>0.856218</td>\n",
       "    </tr>\n",
       "    <tr>\n",
       "      <th>삼청동</th>\n",
       "      <td>0.827742</td>\n",
       "      <td>0.304679</td>\n",
       "      <td>0.923518</td>\n",
       "      <td>0.000679</td>\n",
       "    </tr>\n",
       "    <tr>\n",
       "      <th>부암동</th>\n",
       "      <td>0.568917</td>\n",
       "      <td>0.924518</td>\n",
       "      <td>0.056251</td>\n",
       "      <td>0.260088</td>\n",
       "    </tr>\n",
       "    <tr>\n",
       "      <th>평창동</th>\n",
       "      <td>0.580705</td>\n",
       "      <td>0.584580</td>\n",
       "      <td>0.844815</td>\n",
       "      <td>0.060866</td>\n",
       "    </tr>\n",
       "    <tr>\n",
       "      <th>무악동</th>\n",
       "      <td>0.139818</td>\n",
       "      <td>0.303443</td>\n",
       "      <td>0.598331</td>\n",
       "      <td>0.312935</td>\n",
       "    </tr>\n",
       "    <tr>\n",
       "      <th>...</th>\n",
       "      <td>...</td>\n",
       "      <td>...</td>\n",
       "      <td>...</td>\n",
       "      <td>...</td>\n",
       "    </tr>\n",
       "    <tr>\n",
       "      <th>성내3동</th>\n",
       "      <td>0.080882</td>\n",
       "      <td>0.473552</td>\n",
       "      <td>0.109079</td>\n",
       "      <td>0.319963</td>\n",
       "    </tr>\n",
       "    <tr>\n",
       "      <th>둔촌1동</th>\n",
       "      <td>0.879560</td>\n",
       "      <td>0.419096</td>\n",
       "      <td>0.563044</td>\n",
       "      <td>0.629431</td>\n",
       "    </tr>\n",
       "    <tr>\n",
       "      <th>둔촌2동</th>\n",
       "      <td>0.984323</td>\n",
       "      <td>0.984479</td>\n",
       "      <td>0.826605</td>\n",
       "      <td>0.679809</td>\n",
       "    </tr>\n",
       "    <tr>\n",
       "      <th>상일1동</th>\n",
       "      <td>0.479461</td>\n",
       "      <td>0.830551</td>\n",
       "      <td>0.686072</td>\n",
       "      <td>0.301943</td>\n",
       "    </tr>\n",
       "    <tr>\n",
       "      <th>상일2동</th>\n",
       "      <td>0.115110</td>\n",
       "      <td>0.631008</td>\n",
       "      <td>0.212660</td>\n",
       "      <td>0.261508</td>\n",
       "    </tr>\n",
       "  </tbody>\n",
       "</table>\n",
       "<p>426 rows × 4 columns</p>\n",
       "</div>"
      ],
      "text/plain": [
       "             A         B         C         D\n",
       "사직동   0.756808  0.837151  0.367741  0.856218\n",
       "삼청동   0.827742  0.304679  0.923518  0.000679\n",
       "부암동   0.568917  0.924518  0.056251  0.260088\n",
       "평창동   0.580705  0.584580  0.844815  0.060866\n",
       "무악동   0.139818  0.303443  0.598331  0.312935\n",
       "...        ...       ...       ...       ...\n",
       "성내3동  0.080882  0.473552  0.109079  0.319963\n",
       "둔촌1동  0.879560  0.419096  0.563044  0.629431\n",
       "둔촌2동  0.984323  0.984479  0.826605  0.679809\n",
       "상일1동  0.479461  0.830551  0.686072  0.301943\n",
       "상일2동  0.115110  0.631008  0.212660  0.261508\n",
       "\n",
       "[426 rows x 4 columns]"
      ]
     },
     "execution_count": 14,
     "metadata": {},
     "output_type": "execute_result"
    }
   ],
   "source": [
    "tmp_df = pd.read_csv('tmp_data.csv', index_col=0)\n",
    "tmp_df"
   ]
  },
  {
   "cell_type": "code",
   "execution_count": 40,
   "id": "8f3e04dc",
   "metadata": {},
   "outputs": [],
   "source": [
    "X, y = make_blobs(n_samples=150000, cluster_std=[1.0, 2.5, 0.5], random_state=170)"
   ]
  },
  {
   "cell_type": "code",
   "execution_count": 50,
   "id": "ed416115",
   "metadata": {},
   "outputs": [
    {
     "name": "stderr",
     "output_type": "stream",
     "text": [
      "C:\\Users\\Yeon\\anaconda3\\lib\\site-packages\\sklearn\\cluster\\_kmeans.py:1043: UserWarning: MiniBatchKMeans is known to have a memory leak on Windows with MKL, when there are less chunks than available threads. You can prevent it by setting batch_size >= 1024 or by setting the environment variable OMP_NUM_THREADS=2\n",
      "  warnings.warn(\n",
      "C:\\Users\\Yeon\\anaconda3\\lib\\site-packages\\sklearn\\cluster\\_kmeans.py:1043: UserWarning: MiniBatchKMeans is known to have a memory leak on Windows with MKL, when there are less chunks than available threads. You can prevent it by setting batch_size >= 1024 or by setting the environment variable OMP_NUM_THREADS=2\n",
      "  warnings.warn(\n"
     ]
    },
    {
     "data": {
      "text/plain": [
       "MiniBatchKMeans(batch_size=1000, n_clusters=10)"
      ]
     },
     "execution_count": 50,
     "metadata": {},
     "output_type": "execute_result"
    }
   ],
   "source": [
    "data = tmp_df\n",
    "mini = MiniBatchKMeans(n_clusters=10, batch_size=1000, compute_labels=True).fit(tmp_df)\n",
    "mini.fit(data)"
   ]
  },
  {
   "cell_type": "code",
   "execution_count": 51,
   "id": "26eb5c7c",
   "metadata": {},
   "outputs": [
    {
     "name": "stdout",
     "output_type": "stream",
     "text": [
      "[6 1 6 1 2 4 6 8 3 6 2 0 9 6 2 7 7 7 7 7 1 7 1 8 4 5 7 3 6 5 9 7 7 6 1 3 9\n",
      " 0 0 9 1 7 7 3 1 3 4 0 9 2 8 8 9 8 4 7 0 7 4 7 0 8 8 1 3 7 7 6 0 4 6 3 0 2\n",
      " 4 6 7 8 7 7 4 4 4 4 2 6 2 9 1 5 4 1 4 4 3 2 7 4 8 8 1 4 3 4 3 1 6 5 0 4 0\n",
      " 3 2 6 4 4 5 6 2 0 6 7 1 1 9 5 0 2 3 8 9 2 8 6 2 7 3 9 7 0 5 6 6 1 5 8 1 5\n",
      " 0 1 1 6 0 9 2 0 2 5 7 7 4 8 0 5 2 9 9 4 8 5 5 0 0 4 1 1 0 3 8 6 8 0 9 3 2\n",
      " 8 1 8 1 7 5 7 3 0 9 7 4 0 0 0 9 5 9 8 8 2 7 5 3 2 3 8 5 7 2 1 4 1 2 0 4 1\n",
      " 8 4 8 9 8 3 4 8 5 7 9 0 7 1 0 7 0 4 5 2 0 1 4 2 5 4 8 3 2 4 7 0 7 2 7 7 4\n",
      " 4 3 8 0 1 6 7 0 7 0 5 5 2 4 5 4 9 1 8 8 8 3 5 2 0 1 9 4 4 6 4 4 2 2 3 5 1\n",
      " 4 3 5 4 0 3 4 4 8 6 7 1 5 7 8 3 3 3 5 6 2 7 4 6 5 8 7 3 9 4 1 9 8 5 0 7 4\n",
      " 3 4 0 3 9 4 3 4 4 8 9 0 5 7 0 6 1 8 1 3 3 1 9 1 7 2 4 5 7 6 4 7 9 5 2 7 4\n",
      " 1 6 7 3 4 4 7 5 2 7 9 3 3 4 0 0 7 0 9 0 5 1 3 5 5 2 1 5 4 1 6 0 9 4 2 1 3\n",
      " 5 6 1 0 1 6 4 2 7 6 1 2 2 0 2 8 6 7 2]\n"
     ]
    }
   ],
   "source": [
    "print(mini.labels_)"
   ]
  },
  {
   "cell_type": "code",
   "execution_count": 52,
   "id": "ec674f9e",
   "metadata": {},
   "outputs": [],
   "source": [
    "tmp_df['cluster'] = mini.labels_"
   ]
  },
  {
   "cell_type": "code",
   "execution_count": 53,
   "id": "71d02fc1",
   "metadata": {},
   "outputs": [
    {
     "data": {
      "text/html": [
       "<div>\n",
       "<style scoped>\n",
       "    .dataframe tbody tr th:only-of-type {\n",
       "        vertical-align: middle;\n",
       "    }\n",
       "\n",
       "    .dataframe tbody tr th {\n",
       "        vertical-align: top;\n",
       "    }\n",
       "\n",
       "    .dataframe thead th {\n",
       "        text-align: right;\n",
       "    }\n",
       "</style>\n",
       "<table border=\"1\" class=\"dataframe\">\n",
       "  <thead>\n",
       "    <tr style=\"text-align: right;\">\n",
       "      <th></th>\n",
       "      <th>A</th>\n",
       "      <th>B</th>\n",
       "      <th>C</th>\n",
       "      <th>D</th>\n",
       "      <th>Cluster</th>\n",
       "    </tr>\n",
       "    <tr>\n",
       "      <th>cluster</th>\n",
       "      <th></th>\n",
       "      <th></th>\n",
       "      <th></th>\n",
       "      <th></th>\n",
       "      <th></th>\n",
       "    </tr>\n",
       "  </thead>\n",
       "  <tbody>\n",
       "    <tr>\n",
       "      <th>0</th>\n",
       "      <td>47</td>\n",
       "      <td>47</td>\n",
       "      <td>47</td>\n",
       "      <td>47</td>\n",
       "      <td>47</td>\n",
       "    </tr>\n",
       "    <tr>\n",
       "      <th>1</th>\n",
       "      <td>45</td>\n",
       "      <td>45</td>\n",
       "      <td>45</td>\n",
       "      <td>45</td>\n",
       "      <td>45</td>\n",
       "    </tr>\n",
       "    <tr>\n",
       "      <th>2</th>\n",
       "      <td>40</td>\n",
       "      <td>40</td>\n",
       "      <td>40</td>\n",
       "      <td>40</td>\n",
       "      <td>40</td>\n",
       "    </tr>\n",
       "    <tr>\n",
       "      <th>3</th>\n",
       "      <td>39</td>\n",
       "      <td>39</td>\n",
       "      <td>39</td>\n",
       "      <td>39</td>\n",
       "      <td>39</td>\n",
       "    </tr>\n",
       "    <tr>\n",
       "      <th>4</th>\n",
       "      <td>60</td>\n",
       "      <td>60</td>\n",
       "      <td>60</td>\n",
       "      <td>60</td>\n",
       "      <td>60</td>\n",
       "    </tr>\n",
       "    <tr>\n",
       "      <th>5</th>\n",
       "      <td>39</td>\n",
       "      <td>39</td>\n",
       "      <td>39</td>\n",
       "      <td>39</td>\n",
       "      <td>39</td>\n",
       "    </tr>\n",
       "    <tr>\n",
       "      <th>6</th>\n",
       "      <td>33</td>\n",
       "      <td>33</td>\n",
       "      <td>33</td>\n",
       "      <td>33</td>\n",
       "      <td>33</td>\n",
       "    </tr>\n",
       "    <tr>\n",
       "      <th>7</th>\n",
       "      <td>55</td>\n",
       "      <td>55</td>\n",
       "      <td>55</td>\n",
       "      <td>55</td>\n",
       "      <td>55</td>\n",
       "    </tr>\n",
       "    <tr>\n",
       "      <th>8</th>\n",
       "      <td>38</td>\n",
       "      <td>38</td>\n",
       "      <td>38</td>\n",
       "      <td>38</td>\n",
       "      <td>38</td>\n",
       "    </tr>\n",
       "    <tr>\n",
       "      <th>9</th>\n",
       "      <td>30</td>\n",
       "      <td>30</td>\n",
       "      <td>30</td>\n",
       "      <td>30</td>\n",
       "      <td>30</td>\n",
       "    </tr>\n",
       "  </tbody>\n",
       "</table>\n",
       "</div>"
      ],
      "text/plain": [
       "          A   B   C   D  Cluster\n",
       "cluster                         \n",
       "0        47  47  47  47       47\n",
       "1        45  45  45  45       45\n",
       "2        40  40  40  40       40\n",
       "3        39  39  39  39       39\n",
       "4        60  60  60  60       60\n",
       "5        39  39  39  39       39\n",
       "6        33  33  33  33       33\n",
       "7        55  55  55  55       55\n",
       "8        38  38  38  38       38\n",
       "9        30  30  30  30       30"
      ]
     },
     "execution_count": 53,
     "metadata": {},
     "output_type": "execute_result"
    }
   ],
   "source": [
    "tmp_df.groupby('cluster').count()"
   ]
  },
  {
   "cell_type": "code",
   "execution_count": 54,
   "id": "c2313cc5",
   "metadata": {},
   "outputs": [
    {
     "name": "stdout",
     "output_type": "stream",
     "text": [
      "\n",
      "Silhouette Analysis Score:0.733\n"
     ]
    }
   ],
   "source": [
    "score_samples = silhouette_samples(data, tmp_df['cluster'])\n",
    "tmp_df['silhouette_coeff']=score_samples\n",
    "\n",
    "print()\n",
    "\n",
    "average_score = silhouette_score(data, tmp_df['cluster'])\n",
    "print('Silhouette Analysis Score:{0:.3f}'.format(average_score))"
   ]
  },
  {
   "cell_type": "code",
   "execution_count": 55,
   "id": "a73eeb71",
   "metadata": {},
   "outputs": [
    {
     "data": {
      "text/plain": [
       "cluster\n",
       "0    0.779250\n",
       "1    0.716610\n",
       "2    0.681829\n",
       "3    0.813718\n",
       "4    0.670809\n",
       "5    0.754183\n",
       "6    0.794045\n",
       "7    0.747844\n",
       "8    0.682435\n",
       "9    0.725399\n",
       "Name: silhouette_coeff, dtype: float64"
      ]
     },
     "execution_count": 55,
     "metadata": {},
     "output_type": "execute_result"
    }
   ],
   "source": [
    "tmp_df.groupby('cluster')['silhouette_coeff'].mean()"
   ]
  },
  {
   "cell_type": "code",
   "execution_count": 42,
   "id": "886337c7",
   "metadata": {},
   "outputs": [],
   "source": [
    "t_array = tmp_df.to_numpy()"
   ]
  },
  {
   "cell_type": "code",
   "execution_count": 46,
   "id": "081b6244",
   "metadata": {},
   "outputs": [
    {
     "ename": "IndexError",
     "evalue": "index 63300 is out of bounds for axis 0 with size 426",
     "output_type": "error",
     "traceback": [
      "\u001b[1;31m---------------------------------------------------------------------------\u001b[0m",
      "\u001b[1;31mIndexError\u001b[0m                                Traceback (most recent call last)",
      "Input \u001b[1;32mIn [46]\u001b[0m, in \u001b[0;36m<cell line: 3>\u001b[1;34m()\u001b[0m\n\u001b[0;32m      1\u001b[0m idx \u001b[38;5;241m=\u001b[39m np\u001b[38;5;241m.\u001b[39mrandom\u001b[38;5;241m.\u001b[39mrandint(\u001b[38;5;241m150000\u001b[39m, size\u001b[38;5;241m=\u001b[39m\u001b[38;5;241m300\u001b[39m)\n\u001b[0;32m      2\u001b[0m plt\u001b[38;5;241m.\u001b[39msubplot(\u001b[38;5;241m122\u001b[39m)\n\u001b[1;32m----> 3\u001b[0m plt\u001b[38;5;241m.\u001b[39mscatter(\u001b[43mt_array\u001b[49m\u001b[43m[\u001b[49m\u001b[43midx\u001b[49m\u001b[43m,\u001b[49m\u001b[43m \u001b[49m\u001b[38;5;241;43m0\u001b[39;49m\u001b[43m]\u001b[49m, t_array[idx, \u001b[38;5;241m1\u001b[39m], c\u001b[38;5;241m=\u001b[39mmini\u001b[38;5;241m.\u001b[39mlabels_[idx])\n\u001b[0;32m      4\u001b[0m plt\u001b[38;5;241m.\u001b[39mtitle(\u001b[38;5;124m\"\u001b[39m\u001b[38;5;124m미니배치 K-평균 군집화\u001b[39m\u001b[38;5;124m\"\u001b[39m)\n\u001b[0;32m      5\u001b[0m plt\u001b[38;5;241m.\u001b[39mtight_layout()\n",
      "\u001b[1;31mIndexError\u001b[0m: index 63300 is out of bounds for axis 0 with size 426"
     ]
    },
    {
     "data": {
      "image/png": "[encoded data removed]",
      "text/plain": [
       "<Figure size 432x288 with 1 Axes>"
      ]
     },
     "metadata": {},
     "output_type": "display_data"
    }
   ],
   "source": [
    "idx = np.random.randint(150000, size=300)\n",
    "plt.subplot(122)\n",
    "plt.scatter(t_array[idx, 0], t_array[idx, 1], c=mini.labels_[idx])\n",
    "plt.title(\"미니배치 K-평균 군집화\")\n",
    "plt.tight_layout()\n",
    "plt.show()"
   ]
  },
  {
   "cell_type": "code",
   "execution_count": null,
   "id": "e0dd8a84",
   "metadata": {},
   "outputs": [],
   "source": []
  },
  {
   "cell_type": "code",
   "execution_count": null,
   "id": "c226828f",
   "metadata": {},
   "outputs": [],
   "source": []
  },
  {
   "cell_type": "code",
   "execution_count": null,
   "id": "d2ef075a",
   "metadata": {},
   "outputs": [],
   "source": []
  },
  {
   "cell_type": "code",
   "execution_count": null,
   "id": "13fc33b5",
   "metadata": {},
   "outputs": [],
   "source": []
  },
  {
   "cell_type": "code",
   "execution_count": null,
   "id": "e752be8f",
   "metadata": {},
   "outputs": [],
   "source": []
  }
 ],
 "metadata": {
  "kernelspec": {
   "display_name": "Python 3 (ipykernel)",
   "language": "python",
   "name": "python3"
  },
  "language_info": {
   "codemirror_mode": {
    "name": "ipython",
    "version": 3
   },
   "file_extension": ".py",
   "mimetype": "text/x-python",
   "name": "python",
   "nbconvert_exporter": "python",
   "pygments_lexer": "ipython3",
   "version": "3.9.12"
  }
 },
 "nbformat": 4,
 "nbformat_minor": 5
}
