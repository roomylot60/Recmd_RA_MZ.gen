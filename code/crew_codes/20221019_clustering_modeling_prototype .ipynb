{
 "cells": [
  {
   "cell_type": "code",
   "execution_count": 71,
   "metadata": {
    "scrolled": true
   },
   "outputs": [],
   "source": [
    "import pandas as pd\n",
    "import numpy as np\n",
    "import matplotlib.pyplot as plt\n",
    "import seaborn as sns\n",
    "import scipy.stats as ss\n",
    "from urllib.request import urlopen  \n",
    "from bs4 import BeautifulSoup \n",
    "import requests\n",
    "import pprint\n",
    "import json\n",
    "import ssl\n",
    "import matplotlib.gridspec as gridspec\n",
    "ssl._create_default_https_context = ssl._create_unverified_context\n",
    "from sklearn.cluster import KMeans\n",
    "import warnings\n",
    "warnings.filterwarnings(\"ignore\")\n",
    "from IPython.core.interactiveshell import InteractiveShell\n",
    "InteractiveShell.ast_node_interactivity = \"all\"\n",
    "from sklearn.preprocessing import StandardScaler\n",
    "from sklearn.model_selection import train_test_split\n",
    "from sklearn.linear_model import LinearRegression\n",
    "from sklearn.metrics import r2_score, mean_absolute_error\n",
    "from matplotlib import font_manager, rc\n",
    "font_path = \"C:/Windows/Fonts/NGULIM.TTF\"\n",
    "font = font_manager.FontProperties(fname=font_path).get_name()\n",
    "rc('font', family=font)\n",
    "import pandas as pd\n",
    "import glob, os\n",
    "from nltk import word_tokenize, sent_tokenize\n",
    "import nltk\n",
    "import string\n",
    "import numpy as np\n",
    "import sys  \n",
    "from numpy import dot\n",
    "from numpy.linalg import norm\n",
    "import numpy as np\n",
    "from sklearn.metrics.pairwise import cosine_similarity\n",
    "from sklearn.cluster import OPTICS, cluster_optics_dbscan\n",
    "from sklearn.decomposition import PCA\n",
    "from sklearn.cluster import AgglomerativeClustering\n",
    "import scipy.cluster.hierarchy as sch\n",
    "from scipy.cluster.hierarchy import linkage, dendrogram\n",
    "import warnings\n",
    "warnings.filterwarnings(\"ignore\")\n",
    "from IPython.core.interactiveshell import InteractiveShell\n",
    "InteractiveShell.ast_node_interactivity = \"all\"\n",
    "from sklearn.preprocessing import StandardScaler\n",
    "from sklearn.model_selection import train_test_split\n",
    "from sklearn.linear_model import LinearRegression\n",
    "from sklearn.metrics import r2_score, mean_absolute_error\n",
    "from matplotlib import font_manager, rc\n",
    "from sklearn.preprocessing import LabelEncoder"
   ]
  },
  {
   "cell_type": "code",
   "execution_count": 84,
   "metadata": {},
   "outputs": [
    {
     "data": {
      "text/html": [
       "<div>\n",
       "<style scoped>\n",
       "    .dataframe tbody tr th:only-of-type {\n",
       "        vertical-align: middle;\n",
       "    }\n",
       "\n",
       "    .dataframe tbody tr th {\n",
       "        vertical-align: top;\n",
       "    }\n",
       "\n",
       "    .dataframe thead th {\n",
       "        text-align: right;\n",
       "    }\n",
       "</style>\n",
       "<table border=\"1\" class=\"dataframe\">\n",
       "  <thead>\n",
       "    <tr style=\"text-align: right;\">\n",
       "      <th></th>\n",
       "      <th>동명</th>\n",
       "      <th>A</th>\n",
       "      <th>B</th>\n",
       "      <th>C</th>\n",
       "      <th>D</th>\n",
       "    </tr>\n",
       "  </thead>\n",
       "  <tbody>\n",
       "    <tr>\n",
       "      <th>0</th>\n",
       "      <td>사직동</td>\n",
       "      <td>0.756808</td>\n",
       "      <td>0.837151</td>\n",
       "      <td>0.367741</td>\n",
       "      <td>0.856218</td>\n",
       "    </tr>\n",
       "    <tr>\n",
       "      <th>1</th>\n",
       "      <td>삼청동</td>\n",
       "      <td>0.827742</td>\n",
       "      <td>0.304679</td>\n",
       "      <td>0.923518</td>\n",
       "      <td>0.000679</td>\n",
       "    </tr>\n",
       "    <tr>\n",
       "      <th>2</th>\n",
       "      <td>부암동</td>\n",
       "      <td>0.568917</td>\n",
       "      <td>0.924518</td>\n",
       "      <td>0.056251</td>\n",
       "      <td>0.260088</td>\n",
       "    </tr>\n",
       "    <tr>\n",
       "      <th>3</th>\n",
       "      <td>평창동</td>\n",
       "      <td>0.580705</td>\n",
       "      <td>0.584580</td>\n",
       "      <td>0.844815</td>\n",
       "      <td>0.060866</td>\n",
       "    </tr>\n",
       "    <tr>\n",
       "      <th>4</th>\n",
       "      <td>무악동</td>\n",
       "      <td>0.139818</td>\n",
       "      <td>0.303443</td>\n",
       "      <td>0.598331</td>\n",
       "      <td>0.312935</td>\n",
       "    </tr>\n",
       "    <tr>\n",
       "      <th>...</th>\n",
       "      <td>...</td>\n",
       "      <td>...</td>\n",
       "      <td>...</td>\n",
       "      <td>...</td>\n",
       "      <td>...</td>\n",
       "    </tr>\n",
       "    <tr>\n",
       "      <th>421</th>\n",
       "      <td>성내3동</td>\n",
       "      <td>0.080882</td>\n",
       "      <td>0.473552</td>\n",
       "      <td>0.109079</td>\n",
       "      <td>0.319963</td>\n",
       "    </tr>\n",
       "    <tr>\n",
       "      <th>422</th>\n",
       "      <td>둔촌1동</td>\n",
       "      <td>0.879560</td>\n",
       "      <td>0.419096</td>\n",
       "      <td>0.563044</td>\n",
       "      <td>0.629431</td>\n",
       "    </tr>\n",
       "    <tr>\n",
       "      <th>423</th>\n",
       "      <td>둔촌2동</td>\n",
       "      <td>0.984323</td>\n",
       "      <td>0.984479</td>\n",
       "      <td>0.826605</td>\n",
       "      <td>0.679809</td>\n",
       "    </tr>\n",
       "    <tr>\n",
       "      <th>424</th>\n",
       "      <td>상일1동</td>\n",
       "      <td>0.479461</td>\n",
       "      <td>0.830551</td>\n",
       "      <td>0.686072</td>\n",
       "      <td>0.301943</td>\n",
       "    </tr>\n",
       "    <tr>\n",
       "      <th>425</th>\n",
       "      <td>상일2동</td>\n",
       "      <td>0.115110</td>\n",
       "      <td>0.631008</td>\n",
       "      <td>0.212660</td>\n",
       "      <td>0.261508</td>\n",
       "    </tr>\n",
       "  </tbody>\n",
       "</table>\n",
       "<p>426 rows × 5 columns</p>\n",
       "</div>"
      ],
      "text/plain": [
       "       동명         A         B         C         D\n",
       "0     사직동  0.756808  0.837151  0.367741  0.856218\n",
       "1     삼청동  0.827742  0.304679  0.923518  0.000679\n",
       "2     부암동  0.568917  0.924518  0.056251  0.260088\n",
       "3     평창동  0.580705  0.584580  0.844815  0.060866\n",
       "4     무악동  0.139818  0.303443  0.598331  0.312935\n",
       "..    ...       ...       ...       ...       ...\n",
       "421  성내3동  0.080882  0.473552  0.109079  0.319963\n",
       "422  둔촌1동  0.879560  0.419096  0.563044  0.629431\n",
       "423  둔촌2동  0.984323  0.984479  0.826605  0.679809\n",
       "424  상일1동  0.479461  0.830551  0.686072  0.301943\n",
       "425  상일2동  0.115110  0.631008  0.212660  0.261508\n",
       "\n",
       "[426 rows x 5 columns]"
      ]
     },
     "execution_count": 84,
     "metadata": {},
     "output_type": "execute_result"
    },
    {
     "data": {
      "text/html": [
       "<div>\n",
       "<style scoped>\n",
       "    .dataframe tbody tr th:only-of-type {\n",
       "        vertical-align: middle;\n",
       "    }\n",
       "\n",
       "    .dataframe tbody tr th {\n",
       "        vertical-align: top;\n",
       "    }\n",
       "\n",
       "    .dataframe thead th {\n",
       "        text-align: right;\n",
       "    }\n",
       "</style>\n",
       "<table border=\"1\" class=\"dataframe\">\n",
       "  <thead>\n",
       "    <tr style=\"text-align: right;\">\n",
       "      <th></th>\n",
       "      <th>동명</th>\n",
       "      <th>A</th>\n",
       "      <th>B</th>\n",
       "      <th>C</th>\n",
       "      <th>D</th>\n",
       "    </tr>\n",
       "  </thead>\n",
       "  <tbody>\n",
       "    <tr>\n",
       "      <th>0</th>\n",
       "      <td>사직동</td>\n",
       "      <td>0.756808</td>\n",
       "      <td>0.837151</td>\n",
       "      <td>0.367741</td>\n",
       "      <td>0.856218</td>\n",
       "    </tr>\n",
       "    <tr>\n",
       "      <th>1</th>\n",
       "      <td>삼청동</td>\n",
       "      <td>0.827742</td>\n",
       "      <td>0.304679</td>\n",
       "      <td>0.923518</td>\n",
       "      <td>0.000679</td>\n",
       "    </tr>\n",
       "    <tr>\n",
       "      <th>2</th>\n",
       "      <td>부암동</td>\n",
       "      <td>0.568917</td>\n",
       "      <td>0.924518</td>\n",
       "      <td>0.056251</td>\n",
       "      <td>0.260088</td>\n",
       "    </tr>\n",
       "    <tr>\n",
       "      <th>3</th>\n",
       "      <td>평창동</td>\n",
       "      <td>0.580705</td>\n",
       "      <td>0.584580</td>\n",
       "      <td>0.844815</td>\n",
       "      <td>0.060866</td>\n",
       "    </tr>\n",
       "    <tr>\n",
       "      <th>4</th>\n",
       "      <td>무악동</td>\n",
       "      <td>0.139818</td>\n",
       "      <td>0.303443</td>\n",
       "      <td>0.598331</td>\n",
       "      <td>0.312935</td>\n",
       "    </tr>\n",
       "    <tr>\n",
       "      <th>...</th>\n",
       "      <td>...</td>\n",
       "      <td>...</td>\n",
       "      <td>...</td>\n",
       "      <td>...</td>\n",
       "      <td>...</td>\n",
       "    </tr>\n",
       "    <tr>\n",
       "      <th>421</th>\n",
       "      <td>성내3동</td>\n",
       "      <td>0.080882</td>\n",
       "      <td>0.473552</td>\n",
       "      <td>0.109079</td>\n",
       "      <td>0.319963</td>\n",
       "    </tr>\n",
       "    <tr>\n",
       "      <th>422</th>\n",
       "      <td>둔촌1동</td>\n",
       "      <td>0.879560</td>\n",
       "      <td>0.419096</td>\n",
       "      <td>0.563044</td>\n",
       "      <td>0.629431</td>\n",
       "    </tr>\n",
       "    <tr>\n",
       "      <th>423</th>\n",
       "      <td>둔촌2동</td>\n",
       "      <td>0.984323</td>\n",
       "      <td>0.984479</td>\n",
       "      <td>0.826605</td>\n",
       "      <td>0.679809</td>\n",
       "    </tr>\n",
       "    <tr>\n",
       "      <th>424</th>\n",
       "      <td>상일1동</td>\n",
       "      <td>0.479461</td>\n",
       "      <td>0.830551</td>\n",
       "      <td>0.686072</td>\n",
       "      <td>0.301943</td>\n",
       "    </tr>\n",
       "    <tr>\n",
       "      <th>425</th>\n",
       "      <td>상일2동</td>\n",
       "      <td>0.115110</td>\n",
       "      <td>0.631008</td>\n",
       "      <td>0.212660</td>\n",
       "      <td>0.261508</td>\n",
       "    </tr>\n",
       "  </tbody>\n",
       "</table>\n",
       "<p>426 rows × 5 columns</p>\n",
       "</div>"
      ],
      "text/plain": [
       "       동명         A         B         C         D\n",
       "0     사직동  0.756808  0.837151  0.367741  0.856218\n",
       "1     삼청동  0.827742  0.304679  0.923518  0.000679\n",
       "2     부암동  0.568917  0.924518  0.056251  0.260088\n",
       "3     평창동  0.580705  0.584580  0.844815  0.060866\n",
       "4     무악동  0.139818  0.303443  0.598331  0.312935\n",
       "..    ...       ...       ...       ...       ...\n",
       "421  성내3동  0.080882  0.473552  0.109079  0.319963\n",
       "422  둔촌1동  0.879560  0.419096  0.563044  0.629431\n",
       "423  둔촌2동  0.984323  0.984479  0.826605  0.679809\n",
       "424  상일1동  0.479461  0.830551  0.686072  0.301943\n",
       "425  상일2동  0.115110  0.631008  0.212660  0.261508\n",
       "\n",
       "[426 rows x 5 columns]"
      ]
     },
     "execution_count": 84,
     "metadata": {},
     "output_type": "execute_result"
    }
   ],
   "source": [
    "cluster_01 = pd.read_csv('Data/tmp_data.csv')\n",
    "cluster_01.columns = ['동명', 'A', 'B', 'C', 'D']\n",
    "cluster_01\n",
    "cluster_02= cluster_01.copy()\n"
   ]
  },
  {
   "cell_type": "code",
   "execution_count": 89,
   "metadata": {},
   "outputs": [
    {
     "data": {
      "text/html": [
       "<div>\n",
       "<style scoped>\n",
       "    .dataframe tbody tr th:only-of-type {\n",
       "        vertical-align: middle;\n",
       "    }\n",
       "\n",
       "    .dataframe tbody tr th {\n",
       "        vertical-align: top;\n",
       "    }\n",
       "\n",
       "    .dataframe thead th {\n",
       "        text-align: right;\n",
       "    }\n",
       "</style>\n",
       "<table border=\"1\" class=\"dataframe\">\n",
       "  <thead>\n",
       "    <tr style=\"text-align: right;\">\n",
       "      <th></th>\n",
       "      <th>0</th>\n",
       "      <th>1</th>\n",
       "      <th>2</th>\n",
       "      <th>3</th>\n",
       "      <th>4</th>\n",
       "      <th>5</th>\n",
       "      <th>6</th>\n",
       "      <th>7</th>\n",
       "      <th>8</th>\n",
       "      <th>9</th>\n",
       "      <th>...</th>\n",
       "      <th>416</th>\n",
       "      <th>417</th>\n",
       "      <th>418</th>\n",
       "      <th>419</th>\n",
       "      <th>420</th>\n",
       "      <th>421</th>\n",
       "      <th>422</th>\n",
       "      <th>423</th>\n",
       "      <th>424</th>\n",
       "      <th>425</th>\n",
       "    </tr>\n",
       "  </thead>\n",
       "  <tbody>\n",
       "    <tr>\n",
       "      <th>0</th>\n",
       "      <td>1.000000</td>\n",
       "      <td>0.653662</td>\n",
       "      <td>0.885154</td>\n",
       "      <td>0.746867</td>\n",
       "      <td>0.768944</td>\n",
       "      <td>0.890179</td>\n",
       "      <td>0.886748</td>\n",
       "      <td>0.831463</td>\n",
       "      <td>0.899056</td>\n",
       "      <td>0.978722</td>\n",
       "      <td>...</td>\n",
       "      <td>0.994885</td>\n",
       "      <td>0.724334</td>\n",
       "      <td>0.955967</td>\n",
       "      <td>0.910550</td>\n",
       "      <td>0.942153</td>\n",
       "      <td>0.897644</td>\n",
       "      <td>0.934002</td>\n",
       "      <td>0.955327</td>\n",
       "      <td>0.880757</td>\n",
       "      <td>0.865167</td>\n",
       "    </tr>\n",
       "    <tr>\n",
       "      <th>1</th>\n",
       "      <td>0.653662</td>\n",
       "      <td>1.000000</td>\n",
       "      <td>0.563792</td>\n",
       "      <td>0.953583</td>\n",
       "      <td>0.790956</td>\n",
       "      <td>0.445529</td>\n",
       "      <td>0.406144</td>\n",
       "      <td>0.471973</td>\n",
       "      <td>0.867437</td>\n",
       "      <td>0.670794</td>\n",
       "      <td>...</td>\n",
       "      <td>0.653519</td>\n",
       "      <td>0.872964</td>\n",
       "      <td>0.497639</td>\n",
       "      <td>0.436230</td>\n",
       "      <td>0.653247</td>\n",
       "      <td>0.416149</td>\n",
       "      <td>0.835753</td>\n",
       "      <td>0.837709</td>\n",
       "      <td>0.825852</td>\n",
       "      <td>0.523167</td>\n",
       "    </tr>\n",
       "    <tr>\n",
       "      <th>2</th>\n",
       "      <td>0.885154</td>\n",
       "      <td>0.563792</td>\n",
       "      <td>1.000000</td>\n",
       "      <td>0.707314</td>\n",
       "      <td>0.564275</td>\n",
       "      <td>0.597302</td>\n",
       "      <td>0.959694</td>\n",
       "      <td>0.514532</td>\n",
       "      <td>0.832616</td>\n",
       "      <td>0.951552</td>\n",
       "      <td>...</td>\n",
       "      <td>0.925708</td>\n",
       "      <td>0.449084</td>\n",
       "      <td>0.741571</td>\n",
       "      <td>0.695961</td>\n",
       "      <td>0.825276</td>\n",
       "      <td>0.873009</td>\n",
       "      <td>0.751673</td>\n",
       "      <td>0.862856</td>\n",
       "      <td>0.851020</td>\n",
       "      <td>0.899961</td>\n",
       "    </tr>\n",
       "    <tr>\n",
       "      <th>3</th>\n",
       "      <td>0.746867</td>\n",
       "      <td>0.953583</td>\n",
       "      <td>0.707314</td>\n",
       "      <td>1.000000</td>\n",
       "      <td>0.879663</td>\n",
       "      <td>0.507442</td>\n",
       "      <td>0.603283</td>\n",
       "      <td>0.444930</td>\n",
       "      <td>0.863485</td>\n",
       "      <td>0.762116</td>\n",
       "      <td>...</td>\n",
       "      <td>0.763833</td>\n",
       "      <td>0.862655</td>\n",
       "      <td>0.595399</td>\n",
       "      <td>0.576830</td>\n",
       "      <td>0.659185</td>\n",
       "      <td>0.627278</td>\n",
       "      <td>0.833369</td>\n",
       "      <td>0.909299</td>\n",
       "      <td>0.946880</td>\n",
       "      <td>0.737291</td>\n",
       "    </tr>\n",
       "    <tr>\n",
       "      <th>4</th>\n",
       "      <td>0.768944</td>\n",
       "      <td>0.790956</td>\n",
       "      <td>0.564275</td>\n",
       "      <td>0.879663</td>\n",
       "      <td>1.000000</td>\n",
       "      <td>0.725589</td>\n",
       "      <td>0.583664</td>\n",
       "      <td>0.595826</td>\n",
       "      <td>0.711914</td>\n",
       "      <td>0.688967</td>\n",
       "      <td>...</td>\n",
       "      <td>0.756356</td>\n",
       "      <td>0.945335</td>\n",
       "      <td>0.754264</td>\n",
       "      <td>0.795463</td>\n",
       "      <td>0.595915</td>\n",
       "      <td>0.723991</td>\n",
       "      <td>0.807122</td>\n",
       "      <td>0.864525</td>\n",
       "      <td>0.898647</td>\n",
       "      <td>0.763255</td>\n",
       "    </tr>\n",
       "    <tr>\n",
       "      <th>...</th>\n",
       "      <td>...</td>\n",
       "      <td>...</td>\n",
       "      <td>...</td>\n",
       "      <td>...</td>\n",
       "      <td>...</td>\n",
       "      <td>...</td>\n",
       "      <td>...</td>\n",
       "      <td>...</td>\n",
       "      <td>...</td>\n",
       "      <td>...</td>\n",
       "      <td>...</td>\n",
       "      <td>...</td>\n",
       "      <td>...</td>\n",
       "      <td>...</td>\n",
       "      <td>...</td>\n",
       "      <td>...</td>\n",
       "      <td>...</td>\n",
       "      <td>...</td>\n",
       "      <td>...</td>\n",
       "      <td>...</td>\n",
       "      <td>...</td>\n",
       "    </tr>\n",
       "    <tr>\n",
       "      <th>421</th>\n",
       "      <td>0.897644</td>\n",
       "      <td>0.416149</td>\n",
       "      <td>0.873009</td>\n",
       "      <td>0.627278</td>\n",
       "      <td>0.723991</td>\n",
       "      <td>0.782094</td>\n",
       "      <td>0.962392</td>\n",
       "      <td>0.600882</td>\n",
       "      <td>0.665041</td>\n",
       "      <td>0.871784</td>\n",
       "      <td>...</td>\n",
       "      <td>0.916969</td>\n",
       "      <td>0.540870</td>\n",
       "      <td>0.880763</td>\n",
       "      <td>0.914210</td>\n",
       "      <td>0.718176</td>\n",
       "      <td>1.000000</td>\n",
       "      <td>0.702945</td>\n",
       "      <td>0.827420</td>\n",
       "      <td>0.844094</td>\n",
       "      <td>0.974985</td>\n",
       "    </tr>\n",
       "    <tr>\n",
       "      <th>422</th>\n",
       "      <td>0.934002</td>\n",
       "      <td>0.835753</td>\n",
       "      <td>0.751673</td>\n",
       "      <td>0.833369</td>\n",
       "      <td>0.807122</td>\n",
       "      <td>0.836637</td>\n",
       "      <td>0.684115</td>\n",
       "      <td>0.854139</td>\n",
       "      <td>0.963515</td>\n",
       "      <td>0.908978</td>\n",
       "      <td>...</td>\n",
       "      <td>0.912460</td>\n",
       "      <td>0.864656</td>\n",
       "      <td>0.869196</td>\n",
       "      <td>0.790998</td>\n",
       "      <td>0.940168</td>\n",
       "      <td>0.702945</td>\n",
       "      <td>1.000000</td>\n",
       "      <td>0.959168</td>\n",
       "      <td>0.857733</td>\n",
       "      <td>0.695774</td>\n",
       "    </tr>\n",
       "    <tr>\n",
       "      <th>423</th>\n",
       "      <td>0.955327</td>\n",
       "      <td>0.837709</td>\n",
       "      <td>0.862856</td>\n",
       "      <td>0.909299</td>\n",
       "      <td>0.864525</td>\n",
       "      <td>0.781142</td>\n",
       "      <td>0.812697</td>\n",
       "      <td>0.724599</td>\n",
       "      <td>0.951699</td>\n",
       "      <td>0.949762</td>\n",
       "      <td>...</td>\n",
       "      <td>0.958426</td>\n",
       "      <td>0.837194</td>\n",
       "      <td>0.859234</td>\n",
       "      <td>0.817890</td>\n",
       "      <td>0.888503</td>\n",
       "      <td>0.827420</td>\n",
       "      <td>0.959168</td>\n",
       "      <td>1.000000</td>\n",
       "      <td>0.964721</td>\n",
       "      <td>0.855157</td>\n",
       "    </tr>\n",
       "    <tr>\n",
       "      <th>424</th>\n",
       "      <td>0.880757</td>\n",
       "      <td>0.825852</td>\n",
       "      <td>0.851020</td>\n",
       "      <td>0.946880</td>\n",
       "      <td>0.898647</td>\n",
       "      <td>0.662189</td>\n",
       "      <td>0.814996</td>\n",
       "      <td>0.543134</td>\n",
       "      <td>0.866608</td>\n",
       "      <td>0.883410</td>\n",
       "      <td>...</td>\n",
       "      <td>0.901989</td>\n",
       "      <td>0.808701</td>\n",
       "      <td>0.766156</td>\n",
       "      <td>0.767476</td>\n",
       "      <td>0.745725</td>\n",
       "      <td>0.844094</td>\n",
       "      <td>0.857733</td>\n",
       "      <td>0.964721</td>\n",
       "      <td>1.000000</td>\n",
       "      <td>0.911751</td>\n",
       "    </tr>\n",
       "    <tr>\n",
       "      <th>425</th>\n",
       "      <td>0.865167</td>\n",
       "      <td>0.523167</td>\n",
       "      <td>0.899961</td>\n",
       "      <td>0.737291</td>\n",
       "      <td>0.763255</td>\n",
       "      <td>0.671309</td>\n",
       "      <td>0.951812</td>\n",
       "      <td>0.479976</td>\n",
       "      <td>0.696693</td>\n",
       "      <td>0.865384</td>\n",
       "      <td>...</td>\n",
       "      <td>0.899468</td>\n",
       "      <td>0.570659</td>\n",
       "      <td>0.795831</td>\n",
       "      <td>0.834486</td>\n",
       "      <td>0.672531</td>\n",
       "      <td>0.974985</td>\n",
       "      <td>0.695774</td>\n",
       "      <td>0.855157</td>\n",
       "      <td>0.911751</td>\n",
       "      <td>1.000000</td>\n",
       "    </tr>\n",
       "  </tbody>\n",
       "</table>\n",
       "<p>426 rows × 426 columns</p>\n",
       "</div>"
      ],
      "text/plain": [
       "          0         1         2         3         4         5         6    \\\n",
       "0    1.000000  0.653662  0.885154  0.746867  0.768944  0.890179  0.886748   \n",
       "1    0.653662  1.000000  0.563792  0.953583  0.790956  0.445529  0.406144   \n",
       "2    0.885154  0.563792  1.000000  0.707314  0.564275  0.597302  0.959694   \n",
       "3    0.746867  0.953583  0.707314  1.000000  0.879663  0.507442  0.603283   \n",
       "4    0.768944  0.790956  0.564275  0.879663  1.000000  0.725589  0.583664   \n",
       "..        ...       ...       ...       ...       ...       ...       ...   \n",
       "421  0.897644  0.416149  0.873009  0.627278  0.723991  0.782094  0.962392   \n",
       "422  0.934002  0.835753  0.751673  0.833369  0.807122  0.836637  0.684115   \n",
       "423  0.955327  0.837709  0.862856  0.909299  0.864525  0.781142  0.812697   \n",
       "424  0.880757  0.825852  0.851020  0.946880  0.898647  0.662189  0.814996   \n",
       "425  0.865167  0.523167  0.899961  0.737291  0.763255  0.671309  0.951812   \n",
       "\n",
       "          7         8         9    ...       416       417       418  \\\n",
       "0    0.831463  0.899056  0.978722  ...  0.994885  0.724334  0.955967   \n",
       "1    0.471973  0.867437  0.670794  ...  0.653519  0.872964  0.497639   \n",
       "2    0.514532  0.832616  0.951552  ...  0.925708  0.449084  0.741571   \n",
       "3    0.444930  0.863485  0.762116  ...  0.763833  0.862655  0.595399   \n",
       "4    0.595826  0.711914  0.688967  ...  0.756356  0.945335  0.754264   \n",
       "..        ...       ...       ...  ...       ...       ...       ...   \n",
       "421  0.600882  0.665041  0.871784  ...  0.916969  0.540870  0.880763   \n",
       "422  0.854139  0.963515  0.908978  ...  0.912460  0.864656  0.869196   \n",
       "423  0.724599  0.951699  0.949762  ...  0.958426  0.837194  0.859234   \n",
       "424  0.543134  0.866608  0.883410  ...  0.901989  0.808701  0.766156   \n",
       "425  0.479976  0.696693  0.865384  ...  0.899468  0.570659  0.795831   \n",
       "\n",
       "          419       420       421       422       423       424       425  \n",
       "0    0.910550  0.942153  0.897644  0.934002  0.955327  0.880757  0.865167  \n",
       "1    0.436230  0.653247  0.416149  0.835753  0.837709  0.825852  0.523167  \n",
       "2    0.695961  0.825276  0.873009  0.751673  0.862856  0.851020  0.899961  \n",
       "3    0.576830  0.659185  0.627278  0.833369  0.909299  0.946880  0.737291  \n",
       "4    0.795463  0.595915  0.723991  0.807122  0.864525  0.898647  0.763255  \n",
       "..        ...       ...       ...       ...       ...       ...       ...  \n",
       "421  0.914210  0.718176  1.000000  0.702945  0.827420  0.844094  0.974985  \n",
       "422  0.790998  0.940168  0.702945  1.000000  0.959168  0.857733  0.695774  \n",
       "423  0.817890  0.888503  0.827420  0.959168  1.000000  0.964721  0.855157  \n",
       "424  0.767476  0.745725  0.844094  0.857733  0.964721  1.000000  0.911751  \n",
       "425  0.834486  0.672531  0.974985  0.695774  0.855157  0.911751  1.000000  \n",
       "\n",
       "[426 rows x 426 columns]"
      ]
     },
     "execution_count": 89,
     "metadata": {},
     "output_type": "execute_result"
    }
   ],
   "source": [
    "cluster_02 = cluster_02.drop(['동명'], axis=1)\n",
    "df_cosine=pd.DataFrame(cosine_similarity(cluster_02,dense_output=True))\n",
    "df_cosine"
   ]
  },
  {
   "cell_type": "code",
   "execution_count": 90,
   "metadata": {},
   "outputs": [
    {
     "data": {
      "text/plain": [
       "<Figure size 720x432 with 0 Axes>"
      ]
     },
     "execution_count": 90,
     "metadata": {},
     "output_type": "execute_result"
    },
    {
     "data": {
      "text/plain": [
       "KMeans(n_clusters=1, random_state=0)"
      ]
     },
     "execution_count": 90,
     "metadata": {},
     "output_type": "execute_result"
    },
    {
     "data": {
      "text/plain": [
       "KMeans(n_clusters=2, random_state=0)"
      ]
     },
     "execution_count": 90,
     "metadata": {},
     "output_type": "execute_result"
    },
    {
     "data": {
      "text/plain": [
       "KMeans(n_clusters=3, random_state=0)"
      ]
     },
     "execution_count": 90,
     "metadata": {},
     "output_type": "execute_result"
    },
    {
     "data": {
      "text/plain": [
       "KMeans(n_clusters=4, random_state=0)"
      ]
     },
     "execution_count": 90,
     "metadata": {},
     "output_type": "execute_result"
    },
    {
     "data": {
      "text/plain": [
       "KMeans(n_clusters=5, random_state=0)"
      ]
     },
     "execution_count": 90,
     "metadata": {},
     "output_type": "execute_result"
    },
    {
     "data": {
      "text/plain": [
       "KMeans(n_clusters=6, random_state=0)"
      ]
     },
     "execution_count": 90,
     "metadata": {},
     "output_type": "execute_result"
    },
    {
     "data": {
      "text/plain": [
       "KMeans(n_clusters=7, random_state=0)"
      ]
     },
     "execution_count": 90,
     "metadata": {},
     "output_type": "execute_result"
    },
    {
     "data": {
      "text/plain": [
       "KMeans(random_state=0)"
      ]
     },
     "execution_count": 90,
     "metadata": {},
     "output_type": "execute_result"
    },
    {
     "data": {
      "text/plain": [
       "KMeans(n_clusters=9, random_state=0)"
      ]
     },
     "execution_count": 90,
     "metadata": {},
     "output_type": "execute_result"
    },
    {
     "data": {
      "text/plain": [
       "KMeans(n_clusters=10, random_state=0)"
      ]
     },
     "execution_count": 90,
     "metadata": {},
     "output_type": "execute_result"
    },
    {
     "data": {
      "text/plain": [
       "[<matplotlib.lines.Line2D at 0x25485ba74a8>]"
      ]
     },
     "execution_count": 90,
     "metadata": {},
     "output_type": "execute_result"
    },
    {
     "data": {
      "text/plain": [
       "Text(0.5,1,'The Elbow Method')"
      ]
     },
     "execution_count": 90,
     "metadata": {},
     "output_type": "execute_result"
    },
    {
     "data": {
      "text/plain": [
       "Text(0.5,0,'Number of clusters')"
      ]
     },
     "execution_count": 90,
     "metadata": {},
     "output_type": "execute_result"
    },
    {
     "data": {
      "text/plain": [
       "Text(0,0.5,'CS')"
      ]
     },
     "execution_count": 90,
     "metadata": {},
     "output_type": "execute_result"
    },
    {
     "data": {
      "image/png": "[encoded data removed]",
      "text/plain": [
       "<Figure size 720x432 with 1 Axes>"
      ]
     },
     "metadata": {
      "needs_background": "light"
     },
     "output_type": "display_data"
    }
   ],
   "source": [
    "from sklearn.cluster import KMeans\n",
    "cs = []\n",
    "plt.figure(figsize=(10,6))\n",
    "for i in range(1, 11):\n",
    "    kmeans = KMeans(n_clusters = i, init = 'k-means++', max_iter = 300, n_init = 10, random_state = 0)\n",
    "    kmeans.fit(df_cosine)\n",
    "    cs.append(kmeans.inertia_)\n",
    "plt.plot(range(1, 11), cs)\n",
    "plt.title('The Elbow Method')\n",
    "plt.xlabel('Number of clusters')\n",
    "plt.ylabel('CS')\n",
    "plt.show()"
   ]
  },
  {
   "cell_type": "code",
   "execution_count": 92,
   "metadata": {},
   "outputs": [
    {
     "data": {
      "text/plain": [
       "array([0, 1, 6, 1, 3, 7, 9, 7, 3, 8, 5, 0, 3, 8, 7, 6, 8, 4, 6, 6, 5, 6,\n",
       "       5, 5, 9, 4, 4, 2, 8, 4, 3, 4, 6, 9, 1, 0, 3, 0, 2, 4, 1, 4, 4, 2,\n",
       "       1, 2, 8, 0, 3, 2, 5, 2, 3, 5, 2, 4, 0, 8, 2, 4, 0, 5, 5, 3, 2, 8,\n",
       "       4, 8, 3, 8, 8, 5, 0, 7, 3, 9, 6, 2, 4, 6, 7, 9, 2, 9, 3, 8, 7, 3,\n",
       "       1, 1, 2, 1, 3, 9, 2, 1, 4, 0, 5, 2, 5, 0, 2, 8, 5, 1, 9, 3, 7, 0,\n",
       "       0, 2, 8, 8, 9, 2, 3, 9, 5, 0, 0, 4, 4, 1, 3, 4, 7, 5, 2, 2, 3, 9,\n",
       "       5, 8, 3, 4, 4, 3, 6, 7, 3, 9, 8, 1, 4, 2, 5, 4, 7, 1, 4, 8, 0, 3,\n",
       "       3, 9, 8, 4, 4, 6, 9, 5, 9, 3, 6, 3, 2, 0, 2, 1, 1, 7, 2, 0, 5, 1,\n",
       "       0, 8, 2, 8, 5, 0, 4, 2, 2, 2, 1, 2, 1, 4, 8, 6, 3, 7, 2, 4, 2, 2,\n",
       "       0, 9, 3, 1, 8, 2, 5, 6, 4, 4, 5, 3, 0, 5, 3, 4, 3, 1, 2, 1, 2, 0,\n",
       "       3, 5, 5, 3, 5, 3, 2, 3, 8, 5, 1, 4, 4, 7, 4, 1, 0, 4, 0, 8, 3, 3,\n",
       "       9, 5, 8, 2, 1, 6, 5, 7, 4, 8, 8, 7, 4, 2, 4, 6, 3, 9, 8, 2, 2, 1,\n",
       "       9, 4, 7, 8, 7, 8, 4, 3, 8, 1, 0, 3, 1, 5, 2, 5, 7, 3, 3, 0, 5, 3,\n",
       "       0, 3, 9, 9, 3, 7, 3, 3, 4, 1, 0, 3, 1, 2, 7, 3, 7, 2, 7, 0, 4, 1,\n",
       "       8, 6, 2, 3, 2, 8, 4, 8, 9, 6, 0, 9, 3, 2, 6, 5, 3, 0, 1, 8, 5, 3,\n",
       "       0, 6, 7, 2, 2, 2, 5, 4, 8, 2, 2, 0, 2, 3, 8, 8, 4, 0, 9, 5, 2, 1,\n",
       "       5, 5, 1, 3, 1, 4, 5, 2, 1, 4, 8, 2, 4, 4, 1, 9, 4, 0, 1, 3, 4, 3,\n",
       "       9, 2, 6, 4, 3, 8, 8, 3, 3, 9, 0, 0, 4, 2, 5, 7, 3, 1, 2, 4, 4, 5,\n",
       "       1, 1, 2, 5, 3, 2, 3, 8, 5, 1, 5, 3, 8, 1, 8, 1, 8, 9, 3, 6, 8, 5,\n",
       "       0, 0, 0, 9, 2, 3, 4, 6])"
      ]
     },
     "metadata": {},
     "output_type": "display_data"
    },
    {
     "data": {
      "text/plain": [
       "array([0, 1, 2, 3, 4, 5, 6, 7, 8, 9])"
      ]
     },
     "metadata": {},
     "output_type": "display_data"
    },
    {
     "data": {
      "text/html": [
       "<div>\n",
       "<style scoped>\n",
       "    .dataframe tbody tr th:only-of-type {\n",
       "        vertical-align: middle;\n",
       "    }\n",
       "\n",
       "    .dataframe tbody tr th {\n",
       "        vertical-align: top;\n",
       "    }\n",
       "\n",
       "    .dataframe thead th {\n",
       "        text-align: right;\n",
       "    }\n",
       "</style>\n",
       "<table border=\"1\" class=\"dataframe\">\n",
       "  <thead>\n",
       "    <tr style=\"text-align: right;\">\n",
       "      <th></th>\n",
       "      <th>동명</th>\n",
       "      <th>Cluster</th>\n",
       "    </tr>\n",
       "  </thead>\n",
       "  <tbody>\n",
       "    <tr>\n",
       "      <th>0</th>\n",
       "      <td>사직동</td>\n",
       "      <td>0</td>\n",
       "    </tr>\n",
       "    <tr>\n",
       "      <th>1</th>\n",
       "      <td>삼청동</td>\n",
       "      <td>1</td>\n",
       "    </tr>\n",
       "    <tr>\n",
       "      <th>2</th>\n",
       "      <td>부암동</td>\n",
       "      <td>6</td>\n",
       "    </tr>\n",
       "    <tr>\n",
       "      <th>3</th>\n",
       "      <td>평창동</td>\n",
       "      <td>1</td>\n",
       "    </tr>\n",
       "    <tr>\n",
       "      <th>4</th>\n",
       "      <td>무악동</td>\n",
       "      <td>3</td>\n",
       "    </tr>\n",
       "    <tr>\n",
       "      <th>...</th>\n",
       "      <td>...</td>\n",
       "      <td>...</td>\n",
       "    </tr>\n",
       "    <tr>\n",
       "      <th>421</th>\n",
       "      <td>성내3동</td>\n",
       "      <td>9</td>\n",
       "    </tr>\n",
       "    <tr>\n",
       "      <th>422</th>\n",
       "      <td>둔촌1동</td>\n",
       "      <td>2</td>\n",
       "    </tr>\n",
       "    <tr>\n",
       "      <th>423</th>\n",
       "      <td>둔촌2동</td>\n",
       "      <td>3</td>\n",
       "    </tr>\n",
       "    <tr>\n",
       "      <th>424</th>\n",
       "      <td>상일1동</td>\n",
       "      <td>4</td>\n",
       "    </tr>\n",
       "    <tr>\n",
       "      <th>425</th>\n",
       "      <td>상일2동</td>\n",
       "      <td>6</td>\n",
       "    </tr>\n",
       "  </tbody>\n",
       "</table>\n",
       "<p>426 rows × 2 columns</p>\n",
       "</div>"
      ],
      "text/plain": [
       "       동명  Cluster\n",
       "0     사직동        0\n",
       "1     삼청동        1\n",
       "2     부암동        6\n",
       "3     평창동        1\n",
       "4     무악동        3\n",
       "..    ...      ...\n",
       "421  성내3동        9\n",
       "422  둔촌1동        2\n",
       "423  둔촌2동        3\n",
       "424  상일1동        4\n",
       "425  상일2동        6\n",
       "\n",
       "[426 rows x 2 columns]"
      ]
     },
     "execution_count": 92,
     "metadata": {},
     "output_type": "execute_result"
    }
   ],
   "source": [
    "data = df_cosine\n",
    "pca = PCA(2)\n",
    "#Transform the data\n",
    "transform = pca.fit_transform(data)\n",
    " \n",
    "#Initialize the class object\n",
    "kmeans = KMeans(n_clusters= 10)\n",
    " \n",
    "#predict the labels of clusters.\n",
    "label = kmeans.fit_predict(transform)\n",
    " \n",
    "#Getting unique labels\n",
    "u_labels = np.unique(label)\n",
    "\n",
    "display (label)\n",
    "display (u_labels)\n",
    "\n",
    "data={'동명':cluster_01['동명'],'Cluster':label}\n",
    "company_list=pd.DataFrame(data)\n",
    "company_list"
   ]
  },
  {
   "cell_type": "code",
   "execution_count": 93,
   "metadata": {},
   "outputs": [
    {
     "data": {
      "text/plain": [
       "array([[ 1.6307065 ,  0.66089623],\n",
       "       [-2.30506032, -0.65736549],\n",
       "       [-0.17990058,  1.9608152 ],\n",
       "       [-0.4930406 , -0.15747799],\n",
       "       [-0.67528972, -2.08553896],\n",
       "       [-2.19316332,  1.18721724],\n",
       "       [ 1.69042605, -2.63367216],\n",
       "       [ 1.78306551,  2.77677065],\n",
       "       [ 0.94374764, -0.84715974],\n",
       "       [ 2.95887798, -0.52035409]])"
      ]
     },
     "execution_count": 93,
     "metadata": {},
     "output_type": "execute_result"
    }
   ],
   "source": [
    "kmeans.cluster_centers_"
   ]
  },
  {
   "cell_type": "code",
   "execution_count": 94,
   "metadata": {},
   "outputs": [
    {
     "data": {
      "text/plain": [
       "<Figure size 720x432 with 0 Axes>"
      ]
     },
     "execution_count": 94,
     "metadata": {},
     "output_type": "execute_result"
    },
    {
     "data": {
      "text/plain": [
       "<matplotlib.collections.PathCollection at 0x25485ea2ac8>"
      ]
     },
     "execution_count": 94,
     "metadata": {},
     "output_type": "execute_result"
    },
    {
     "data": {
      "text/plain": [
       "<matplotlib.collections.PathCollection at 0x25485ea2f98>"
      ]
     },
     "execution_count": 94,
     "metadata": {},
     "output_type": "execute_result"
    },
    {
     "data": {
      "text/plain": [
       "<matplotlib.collections.PathCollection at 0x25485eab390>"
      ]
     },
     "execution_count": 94,
     "metadata": {},
     "output_type": "execute_result"
    },
    {
     "data": {
      "text/plain": [
       "<matplotlib.collections.PathCollection at 0x25485eab748>"
      ]
     },
     "execution_count": 94,
     "metadata": {},
     "output_type": "execute_result"
    },
    {
     "data": {
      "text/plain": [
       "<matplotlib.collections.PathCollection at 0x25485ea2a90>"
      ]
     },
     "execution_count": 94,
     "metadata": {},
     "output_type": "execute_result"
    },
    {
     "data": {
      "text/plain": [
       "<matplotlib.collections.PathCollection at 0x25485eabda0>"
      ]
     },
     "execution_count": 94,
     "metadata": {},
     "output_type": "execute_result"
    },
    {
     "data": {
      "text/plain": [
       "<matplotlib.collections.PathCollection at 0x25485eabfd0>"
      ]
     },
     "execution_count": 94,
     "metadata": {},
     "output_type": "execute_result"
    },
    {
     "data": {
      "text/plain": [
       "<matplotlib.collections.PathCollection at 0x25485eb84e0>"
      ]
     },
     "execution_count": 94,
     "metadata": {},
     "output_type": "execute_result"
    },
    {
     "data": {
      "text/plain": [
       "<matplotlib.collections.PathCollection at 0x25485eb8828>"
      ]
     },
     "execution_count": 94,
     "metadata": {},
     "output_type": "execute_result"
    },
    {
     "data": {
      "text/plain": [
       "<matplotlib.collections.PathCollection at 0x25485eb87b8>"
      ]
     },
     "execution_count": 94,
     "metadata": {},
     "output_type": "execute_result"
    },
    {
     "data": {
      "text/plain": [
       "<matplotlib.collections.PathCollection at 0x25485eb8f98>"
      ]
     },
     "execution_count": 94,
     "metadata": {},
     "output_type": "execute_result"
    },
    {
     "data": {
      "text/plain": [
       "<matplotlib.legend.Legend at 0x25485ebf2e8>"
      ]
     },
     "execution_count": 94,
     "metadata": {},
     "output_type": "execute_result"
    },
    {
     "data": {
      "image/png": "[encoded data removed]",
      "text/plain": [
       "<Figure size 720x432 with 1 Axes>"
      ]
     },
     "metadata": {
      "needs_background": "light"
     },
     "output_type": "display_data"
    }
   ],
   "source": [
    "#plotting the results:\n",
    "plt.figure(figsize=(10,6))\n",
    "for i in u_labels:\n",
    "    plt.scatter(transform[label == i , 0] , transform[label == i , 1] , label = i)\n",
    "plt.scatter(kmeans.cluster_centers_[:,0],kmeans.cluster_centers_[:,1],color='purple',marker='+',label='centroid')\n",
    "plt.legend()\n",
    "plt.savefig('cluster.png')\n",
    "plt.show()"
   ]
  },
  {
   "cell_type": "code",
   "execution_count": 97,
   "metadata": {},
   "outputs": [
    {
     "data": {
      "text/html": [
       "<div>\n",
       "<style scoped>\n",
       "    .dataframe tbody tr th:only-of-type {\n",
       "        vertical-align: middle;\n",
       "    }\n",
       "\n",
       "    .dataframe tbody tr th {\n",
       "        vertical-align: top;\n",
       "    }\n",
       "\n",
       "    .dataframe thead th {\n",
       "        text-align: right;\n",
       "    }\n",
       "</style>\n",
       "<table border=\"1\" class=\"dataframe\">\n",
       "  <thead>\n",
       "    <tr style=\"text-align: right;\">\n",
       "      <th></th>\n",
       "      <th>A</th>\n",
       "      <th>B</th>\n",
       "      <th>C</th>\n",
       "      <th>D</th>\n",
       "    </tr>\n",
       "  </thead>\n",
       "  <tbody>\n",
       "    <tr>\n",
       "      <th>426</th>\n",
       "      <td>0.1</td>\n",
       "      <td>0.2</td>\n",
       "      <td>0.4</td>\n",
       "      <td>0.3</td>\n",
       "    </tr>\n",
       "  </tbody>\n",
       "</table>\n",
       "</div>"
      ],
      "text/plain": [
       "       A    B    C    D\n",
       "426  0.1  0.2  0.4  0.3"
      ]
     },
     "execution_count": 97,
     "metadata": {},
     "output_type": "execute_result"
    }
   ],
   "source": [
    "input_data = { \"A\" : 0.1, \"B\" : 0.2 ,\"C\": 0.4, \"D\":0.3}\n",
    "user_data = pd.DataFrame(input_data, index=[len(cluster_02)])\n",
    "user_data"
   ]
  }
 ],
 "metadata": {
  "kernelspec": {
   "display_name": "Python 3 (ipykernel)",
   "language": "python",
   "name": "python3"
  },
  "language_info": {
   "codemirror_mode": {
    "name": "ipython",
    "version": 3
   },
   "file_extension": ".py",
   "mimetype": "text/x-python",
   "name": "python",
   "nbconvert_exporter": "python",
   "pygments_lexer": "ipython3",
   "version": "3.9.7"
  }
 },
 "nbformat": 4,
 "nbformat_minor": 2
}
