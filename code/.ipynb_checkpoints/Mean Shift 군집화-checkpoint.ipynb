{
 "cells": [
  {
   "cell_type": "markdown",
   "id": "670d3bb7",
   "metadata": {},
   "source": [
    "## Mean Shift 군집화"
   ]
  },
  {
   "cell_type": "code",
   "execution_count": 14,
   "id": "6f485281",
   "metadata": {},
   "outputs": [],
   "source": [
    "import pandas as pd\n",
    "import numpy as np\n",
    "import matplotlib.pyplot as plt\n",
    "%matplotlib inline\n",
    "from sklearn.datasets import make_blobs\n",
    "from sklearn.cluster import estimate_bandwidth\n",
    "from sklearn.cluster import MeanShift\n",
    "from sklearn.metrics import silhouette_samples, silhouette_score"
   ]
  },
  {
   "cell_type": "code",
   "execution_count": 2,
   "id": "91e7dde1",
   "metadata": {
    "collapsed": true
   },
   "outputs": [
    {
     "data": {
      "text/html": [
       "<div>\n",
       "<style scoped>\n",
       "    .dataframe tbody tr th:only-of-type {\n",
       "        vertical-align: middle;\n",
       "    }\n",
       "\n",
       "    .dataframe tbody tr th {\n",
       "        vertical-align: top;\n",
       "    }\n",
       "\n",
       "    .dataframe thead th {\n",
       "        text-align: right;\n",
       "    }\n",
       "</style>\n",
       "<table border=\"1\" class=\"dataframe\">\n",
       "  <thead>\n",
       "    <tr style=\"text-align: right;\">\n",
       "      <th></th>\n",
       "      <th>A</th>\n",
       "      <th>B</th>\n",
       "      <th>C</th>\n",
       "      <th>D</th>\n",
       "    </tr>\n",
       "  </thead>\n",
       "  <tbody>\n",
       "    <tr>\n",
       "      <th>사직동</th>\n",
       "      <td>0.756808</td>\n",
       "      <td>0.837151</td>\n",
       "      <td>0.367741</td>\n",
       "      <td>0.856218</td>\n",
       "    </tr>\n",
       "    <tr>\n",
       "      <th>삼청동</th>\n",
       "      <td>0.827742</td>\n",
       "      <td>0.304679</td>\n",
       "      <td>0.923518</td>\n",
       "      <td>0.000679</td>\n",
       "    </tr>\n",
       "    <tr>\n",
       "      <th>부암동</th>\n",
       "      <td>0.568917</td>\n",
       "      <td>0.924518</td>\n",
       "      <td>0.056251</td>\n",
       "      <td>0.260088</td>\n",
       "    </tr>\n",
       "    <tr>\n",
       "      <th>평창동</th>\n",
       "      <td>0.580705</td>\n",
       "      <td>0.584580</td>\n",
       "      <td>0.844815</td>\n",
       "      <td>0.060866</td>\n",
       "    </tr>\n",
       "    <tr>\n",
       "      <th>무악동</th>\n",
       "      <td>0.139818</td>\n",
       "      <td>0.303443</td>\n",
       "      <td>0.598331</td>\n",
       "      <td>0.312935</td>\n",
       "    </tr>\n",
       "    <tr>\n",
       "      <th>...</th>\n",
       "      <td>...</td>\n",
       "      <td>...</td>\n",
       "      <td>...</td>\n",
       "      <td>...</td>\n",
       "    </tr>\n",
       "    <tr>\n",
       "      <th>성내3동</th>\n",
       "      <td>0.080882</td>\n",
       "      <td>0.473552</td>\n",
       "      <td>0.109079</td>\n",
       "      <td>0.319963</td>\n",
       "    </tr>\n",
       "    <tr>\n",
       "      <th>둔촌1동</th>\n",
       "      <td>0.879560</td>\n",
       "      <td>0.419096</td>\n",
       "      <td>0.563044</td>\n",
       "      <td>0.629431</td>\n",
       "    </tr>\n",
       "    <tr>\n",
       "      <th>둔촌2동</th>\n",
       "      <td>0.984323</td>\n",
       "      <td>0.984479</td>\n",
       "      <td>0.826605</td>\n",
       "      <td>0.679809</td>\n",
       "    </tr>\n",
       "    <tr>\n",
       "      <th>상일1동</th>\n",
       "      <td>0.479461</td>\n",
       "      <td>0.830551</td>\n",
       "      <td>0.686072</td>\n",
       "      <td>0.301943</td>\n",
       "    </tr>\n",
       "    <tr>\n",
       "      <th>상일2동</th>\n",
       "      <td>0.115110</td>\n",
       "      <td>0.631008</td>\n",
       "      <td>0.212660</td>\n",
       "      <td>0.261508</td>\n",
       "    </tr>\n",
       "  </tbody>\n",
       "</table>\n",
       "<p>426 rows × 4 columns</p>\n",
       "</div>"
      ],
      "text/plain": [
       "             A         B         C         D\n",
       "사직동   0.756808  0.837151  0.367741  0.856218\n",
       "삼청동   0.827742  0.304679  0.923518  0.000679\n",
       "부암동   0.568917  0.924518  0.056251  0.260088\n",
       "평창동   0.580705  0.584580  0.844815  0.060866\n",
       "무악동   0.139818  0.303443  0.598331  0.312935\n",
       "...        ...       ...       ...       ...\n",
       "성내3동  0.080882  0.473552  0.109079  0.319963\n",
       "둔촌1동  0.879560  0.419096  0.563044  0.629431\n",
       "둔촌2동  0.984323  0.984479  0.826605  0.679809\n",
       "상일1동  0.479461  0.830551  0.686072  0.301943\n",
       "상일2동  0.115110  0.631008  0.212660  0.261508\n",
       "\n",
       "[426 rows x 4 columns]"
      ]
     },
     "execution_count": 2,
     "metadata": {},
     "output_type": "execute_result"
    }
   ],
   "source": [
    "tmp_df = pd.read_csv('tmp_data.csv', index_col=0)\n",
    "\n",
    "tmp_df"
   ]
  },
  {
   "cell_type": "code",
   "execution_count": 3,
   "id": "3a3994a0",
   "metadata": {
    "collapsed": true
   },
   "outputs": [
    {
     "name": "stdout",
     "output_type": "stream",
     "text": [
      "<class 'pandas.core.frame.DataFrame'>\n",
      "Index: 426 entries, 사직동 to 상일2동\n",
      "Data columns (total 4 columns):\n",
      " #   Column  Non-Null Count  Dtype  \n",
      "---  ------  --------------  -----  \n",
      " 0   A       426 non-null    float64\n",
      " 1   B       426 non-null    float64\n",
      " 2   C       426 non-null    float64\n",
      " 3   D       426 non-null    float64\n",
      "dtypes: float64(4)\n",
      "memory usage: 16.6+ KB\n"
     ]
    }
   ],
   "source": [
    "tmp_df.info()"
   ]
  },
  {
   "cell_type": "code",
   "execution_count": 4,
   "id": "6c053770",
   "metadata": {
    "collapsed": true
   },
   "outputs": [
    {
     "data": {
      "text/plain": [
       "pandas.core.frame.DataFrame"
      ]
     },
     "execution_count": 4,
     "metadata": {},
     "output_type": "execute_result"
    }
   ],
   "source": [
    "type(tmp_df)"
   ]
  },
  {
   "cell_type": "code",
   "execution_count": 5,
   "id": "724e8f5b",
   "metadata": {
    "collapsed": true
   },
   "outputs": [],
   "source": [
    "import numpy as np \n",
    "t_array = tmp_df.to_numpy()"
   ]
  },
  {
   "cell_type": "code",
   "execution_count": 6,
   "id": "0fc82037",
   "metadata": {},
   "outputs": [
    {
     "name": "stdout",
     "output_type": "stream",
     "text": [
      "cluster labels 유형: [0 1 2 3 4 5 6 7 8 9]\n"
     ]
    }
   ],
   "source": [
    "# 클러스터가 3인 데이터 생성\n",
    "# X,y = make_blobs(n_samples=200, n_features=2, centers=3, \n",
    "#                  cluster_std=0.8, random_state=0)\n",
    "\n",
    "# meanshift를 수행하는데 bandwidth=0.37로 세팅\n",
    "meanshift= MeanShift(bandwidth=0.37)\n",
    "cluster_labels = meanshift.fit_predict(t_array)\n",
    "print('cluster labels 유형:', np.unique(cluster_labels))"
   ]
  },
  {
   "cell_type": "code",
   "execution_count": 71,
   "id": "def78178",
   "metadata": {},
   "outputs": [
    {
     "name": "stdout",
     "output_type": "stream",
     "text": [
      "최적의 bandwidth 값: 0.617\n"
     ]
    }
   ],
   "source": [
    "from sklearn.cluster import estimate_bandwidth\n",
    "\n",
    "bandwidth = estimate_bandwidth(t_array, quantile=0.25) # quantile: meanshift의 샘플링 비율\n",
    "print('최적의 bandwidth 값:', round(bandwidth,3))"
   ]
  },
  {
   "cell_type": "code",
   "execution_count": 10,
   "id": "782552ed",
   "metadata": {},
   "outputs": [
    {
     "data": {
      "text/html": [
       "<div>\n",
       "<style scoped>\n",
       "    .dataframe tbody tr th:only-of-type {\n",
       "        vertical-align: middle;\n",
       "    }\n",
       "\n",
       "    .dataframe tbody tr th {\n",
       "        vertical-align: top;\n",
       "    }\n",
       "\n",
       "    .dataframe thead th {\n",
       "        text-align: right;\n",
       "    }\n",
       "</style>\n",
       "<table border=\"1\" class=\"dataframe\">\n",
       "  <thead>\n",
       "    <tr style=\"text-align: right;\">\n",
       "      <th></th>\n",
       "      <th>A</th>\n",
       "      <th>B</th>\n",
       "      <th>C</th>\n",
       "      <th>D</th>\n",
       "      <th>target</th>\n",
       "    </tr>\n",
       "  </thead>\n",
       "  <tbody>\n",
       "    <tr>\n",
       "      <th>0</th>\n",
       "      <td>0.756808</td>\n",
       "      <td>0.837151</td>\n",
       "      <td>0.367741</td>\n",
       "      <td>0.856218</td>\n",
       "      <td>5</td>\n",
       "    </tr>\n",
       "    <tr>\n",
       "      <th>1</th>\n",
       "      <td>0.827742</td>\n",
       "      <td>0.304679</td>\n",
       "      <td>0.923518</td>\n",
       "      <td>0.000679</td>\n",
       "      <td>1</td>\n",
       "    </tr>\n",
       "    <tr>\n",
       "      <th>2</th>\n",
       "      <td>0.568917</td>\n",
       "      <td>0.924518</td>\n",
       "      <td>0.056251</td>\n",
       "      <td>0.260088</td>\n",
       "      <td>0</td>\n",
       "    </tr>\n",
       "    <tr>\n",
       "      <th>3</th>\n",
       "      <td>0.580705</td>\n",
       "      <td>0.584580</td>\n",
       "      <td>0.844815</td>\n",
       "      <td>0.060866</td>\n",
       "      <td>0</td>\n",
       "    </tr>\n",
       "    <tr>\n",
       "      <th>4</th>\n",
       "      <td>0.139818</td>\n",
       "      <td>0.303443</td>\n",
       "      <td>0.598331</td>\n",
       "      <td>0.312935</td>\n",
       "      <td>6</td>\n",
       "    </tr>\n",
       "    <tr>\n",
       "      <th>...</th>\n",
       "      <td>...</td>\n",
       "      <td>...</td>\n",
       "      <td>...</td>\n",
       "      <td>...</td>\n",
       "      <td>...</td>\n",
       "    </tr>\n",
       "    <tr>\n",
       "      <th>421</th>\n",
       "      <td>0.080882</td>\n",
       "      <td>0.473552</td>\n",
       "      <td>0.109079</td>\n",
       "      <td>0.319963</td>\n",
       "      <td>4</td>\n",
       "    </tr>\n",
       "    <tr>\n",
       "      <th>422</th>\n",
       "      <td>0.879560</td>\n",
       "      <td>0.419096</td>\n",
       "      <td>0.563044</td>\n",
       "      <td>0.629431</td>\n",
       "      <td>2</td>\n",
       "    </tr>\n",
       "    <tr>\n",
       "      <th>423</th>\n",
       "      <td>0.984323</td>\n",
       "      <td>0.984479</td>\n",
       "      <td>0.826605</td>\n",
       "      <td>0.679809</td>\n",
       "      <td>3</td>\n",
       "    </tr>\n",
       "    <tr>\n",
       "      <th>424</th>\n",
       "      <td>0.479461</td>\n",
       "      <td>0.830551</td>\n",
       "      <td>0.686072</td>\n",
       "      <td>0.301943</td>\n",
       "      <td>0</td>\n",
       "    </tr>\n",
       "    <tr>\n",
       "      <th>425</th>\n",
       "      <td>0.115110</td>\n",
       "      <td>0.631008</td>\n",
       "      <td>0.212660</td>\n",
       "      <td>0.261508</td>\n",
       "      <td>4</td>\n",
       "    </tr>\n",
       "  </tbody>\n",
       "</table>\n",
       "<p>426 rows × 5 columns</p>\n",
       "</div>"
      ],
      "text/plain": [
       "            A         B         C         D  target\n",
       "0    0.756808  0.837151  0.367741  0.856218       5\n",
       "1    0.827742  0.304679  0.923518  0.000679       1\n",
       "2    0.568917  0.924518  0.056251  0.260088       0\n",
       "3    0.580705  0.584580  0.844815  0.060866       0\n",
       "4    0.139818  0.303443  0.598331  0.312935       6\n",
       "..        ...       ...       ...       ...     ...\n",
       "421  0.080882  0.473552  0.109079  0.319963       4\n",
       "422  0.879560  0.419096  0.563044  0.629431       2\n",
       "423  0.984323  0.984479  0.826605  0.679809       3\n",
       "424  0.479461  0.830551  0.686072  0.301943       0\n",
       "425  0.115110  0.631008  0.212660  0.261508       4\n",
       "\n",
       "[426 rows x 5 columns]"
      ]
     },
     "execution_count": 10,
     "metadata": {},
     "output_type": "execute_result"
    }
   ],
   "source": [
    "clusterDF = pd.DataFrame(data=t_array, columns=['A','B','C','D'])\n",
    "clusterDF['target'] = cluster_labels\n",
    "clusterDF\n",
    "# # estimate_bandwidth()로 최적의 bandwidth 계산\n",
    "# best_bandwidth = estimate_bandwidth(t_array, quantile=0.25)\n",
    "\n",
    "# meanshift = MeanShift(best_bandwidth)\n",
    "# cluster_labels = meanshift.fit_predict(t_array)\n",
    "# print('cluster labels 유형:',np.unique(cluster_labels))"
   ]
  },
  {
   "cell_type": "code",
   "execution_count": 21,
   "id": "1482a649",
   "metadata": {},
   "outputs": [
    {
     "name": "stdout",
     "output_type": "stream",
     "text": [
      "\n",
      "Silhouette Analysis Score:0.183\n"
     ]
    }
   ],
   "source": [
    "data = tmp_df\n",
    "score_samples = silhouette_samples(data, clusterDF['target'])\n",
    "clusterDF['silhouette_coeff']=score_samples\n",
    "\n",
    "print()\n",
    "\n",
    "average_score = silhouette_score(data, clusterDF['target'])\n",
    "print('Silhouette Analysis Score:{0:.3f}'.format(average_score))"
   ]
  },
  {
   "cell_type": "code",
   "execution_count": 22,
   "id": "4342c071",
   "metadata": {},
   "outputs": [
    {
     "data": {
      "text/plain": [
       "target\n",
       "0    0.191687\n",
       "1    0.248753\n",
       "2    0.160168\n",
       "3    0.210818\n",
       "4    0.168524\n",
       "5    0.121070\n",
       "6    0.207531\n",
       "7    0.209604\n",
       "8    0.103418\n",
       "9    0.262033\n",
       "Name: silhouette_coeff, dtype: float64"
      ]
     },
     "execution_count": 22,
     "metadata": {},
     "output_type": "execute_result"
    }
   ],
   "source": [
    "clusterDF.groupby('target')['silhouette_coeff'].mean()"
   ]
  },
  {
   "cell_type": "code",
   "execution_count": 23,
   "id": "b95bb501",
   "metadata": {},
   "outputs": [],
   "source": [
    "tmp_df = pd.read_csv('tmp_data.csv', index_col=0)\n",
    "data = tmp_df"
   ]
  },
  {
   "cell_type": "code",
   "execution_count": 24,
   "id": "e8a8f8d6",
   "metadata": {},
   "outputs": [],
   "source": [
    "meanshift= MeanShift(bandwidth=0.37)\n",
    "cluster_labels = meanshift.fit_predict(t_array)"
   ]
  },
  {
   "cell_type": "code",
   "execution_count": 25,
   "id": "6a345e1f",
   "metadata": {},
   "outputs": [
    {
     "data": {
      "text/plain": [
       "array([5, 1, 0, 0, 6, 8, 5, 2, 7, 5, 6, 5, 3, 5, 4, 0, 7, 0, 5, 5, 1, 5,\n",
       "       1, 1, 5, 0, 0, 4, 3, 0, 3, 0, 0, 5, 6, 7, 3, 5, 8, 9, 6, 0, 0, 7,\n",
       "       1, 7, 9, 5, 0, 4, 1, 2, 3, 1, 8, 0, 5, 4, 8, 0, 2, 1, 8, 6, 7, 4,\n",
       "       0, 2, 3, 9, 3, 7, 2, 4, 9, 5, 0, 8, 0, 5, 8, 5, 8, 5, 4, 2, 4, 1,\n",
       "       6, 1, 8, 1, 9, 5, 7, 6, 0, 4, 1, 8, 6, 8, 7, 9, 1, 1, 5, 2, 2, 4,\n",
       "       5, 2, 4, 5, 5, 8, 3, 5, 6, 2, 2, 0, 0, 1, 3, 0, 8, 6, 7, 8, 3, 4,\n",
       "       6, 5, 4, 4, 7, 3, 5, 2, 0, 5, 5, 0, 0, 2, 1, 0, 2, 1, 6, 2, 2, 1,\n",
       "       4, 5, 4, 0, 6, 0, 5, 1, 5, 0, 4, 3, 8, 4, 2, 1, 1, 2, 3, 4, 1, 6,\n",
       "       5, 2, 2, 5, 1, 3, 9, 7, 4, 2, 6, 4, 6, 0, 7, 0, 7, 8, 3, 0, 8, 8,\n",
       "       2, 5, 3, 1, 9, 8, 8, 4, 6, 0, 6, 4, 4, 1, 0, 7, 4, 6, 8, 7, 6, 5,\n",
       "       9, 1, 1, 9, 1, 9, 8, 7, 9, 6, 1, 0, 0, 2, 0, 1, 5, 0, 8, 9, 0, 6,\n",
       "       5, 1, 9, 8, 1, 5, 1, 4, 4, 9, 0, 8, 0, 4, 0, 0, 9, 5, 7, 2, 8, 1,\n",
       "       5, 0, 2, 5, 2, 0, 0, 6, 9, 0, 4, 9, 6, 1, 2, 1, 2, 3, 6, 2, 1, 3,\n",
       "       4, 9, 5, 5, 9, 4, 6, 4, 0, 6, 5, 7, 1, 8, 8, 2, 8, 8, 8, 2, 0, 6,\n",
       "       0, 0, 2, 7, 7, 7, 0, 0, 4, 4, 4, 5, 0, 8, 5, 7, 3, 4, 6, 3, 6, 3,\n",
       "       2, 0, 8, 7, 8, 8, 7, 3, 9, 7, 8, 9, 2, 3, 7, 0, 0, 5, 5, 1, 2, 6,\n",
       "       7, 7, 0, 3, 6, 0, 6, 8, 1, 0, 0, 8, 0, 9, 1, 4, 0, 5, 6, 3, 7, 7,\n",
       "       5, 4, 5, 0, 6, 0, 9, 2, 7, 5, 5, 5, 6, 2, 3, 2, 3, 6, 4, 0, 0, 6,\n",
       "       1, 1, 8, 1, 3, 8, 3, 5, 6, 6, 7, 0, 5, 1, 2, 1, 3, 4, 6, 0, 5, 6,\n",
       "       4, 4, 2, 4, 2, 3, 0, 4], dtype=int64)"
      ]
     },
     "execution_count": 25,
     "metadata": {},
     "output_type": "execute_result"
    }
   ],
   "source": [
    "meanshift.labels_"
   ]
  },
  {
   "cell_type": "code",
   "execution_count": 27,
   "id": "683a8b02",
   "metadata": {},
   "outputs": [],
   "source": [
    "clusterDF['target'] = meanshift.labels_"
   ]
  },
  {
   "cell_type": "code",
   "execution_count": 28,
   "id": "1ff88e99",
   "metadata": {},
   "outputs": [
    {
     "data": {
      "text/html": [
       "<div>\n",
       "<style scoped>\n",
       "    .dataframe tbody tr th:only-of-type {\n",
       "        vertical-align: middle;\n",
       "    }\n",
       "\n",
       "    .dataframe tbody tr th {\n",
       "        vertical-align: top;\n",
       "    }\n",
       "\n",
       "    .dataframe thead th {\n",
       "        text-align: right;\n",
       "    }\n",
       "</style>\n",
       "<table border=\"1\" class=\"dataframe\">\n",
       "  <thead>\n",
       "    <tr style=\"text-align: right;\">\n",
       "      <th></th>\n",
       "      <th>A</th>\n",
       "      <th>B</th>\n",
       "      <th>C</th>\n",
       "      <th>D</th>\n",
       "      <th>meanshift_label</th>\n",
       "      <th>silhouette_coeff</th>\n",
       "    </tr>\n",
       "    <tr>\n",
       "      <th>target</th>\n",
       "      <th></th>\n",
       "      <th></th>\n",
       "      <th></th>\n",
       "      <th></th>\n",
       "      <th></th>\n",
       "      <th></th>\n",
       "    </tr>\n",
       "  </thead>\n",
       "  <tbody>\n",
       "    <tr>\n",
       "      <th>0</th>\n",
       "      <td>69</td>\n",
       "      <td>69</td>\n",
       "      <td>69</td>\n",
       "      <td>69</td>\n",
       "      <td>69</td>\n",
       "      <td>69</td>\n",
       "    </tr>\n",
       "    <tr>\n",
       "      <th>1</th>\n",
       "      <td>46</td>\n",
       "      <td>46</td>\n",
       "      <td>46</td>\n",
       "      <td>46</td>\n",
       "      <td>46</td>\n",
       "      <td>46</td>\n",
       "    </tr>\n",
       "    <tr>\n",
       "      <th>2</th>\n",
       "      <td>41</td>\n",
       "      <td>41</td>\n",
       "      <td>41</td>\n",
       "      <td>41</td>\n",
       "      <td>41</td>\n",
       "      <td>41</td>\n",
       "    </tr>\n",
       "    <tr>\n",
       "      <th>3</th>\n",
       "      <td>31</td>\n",
       "      <td>31</td>\n",
       "      <td>31</td>\n",
       "      <td>31</td>\n",
       "      <td>31</td>\n",
       "      <td>31</td>\n",
       "    </tr>\n",
       "    <tr>\n",
       "      <th>4</th>\n",
       "      <td>44</td>\n",
       "      <td>44</td>\n",
       "      <td>44</td>\n",
       "      <td>44</td>\n",
       "      <td>44</td>\n",
       "      <td>44</td>\n",
       "    </tr>\n",
       "    <tr>\n",
       "      <th>5</th>\n",
       "      <td>56</td>\n",
       "      <td>56</td>\n",
       "      <td>56</td>\n",
       "      <td>56</td>\n",
       "      <td>56</td>\n",
       "      <td>56</td>\n",
       "    </tr>\n",
       "    <tr>\n",
       "      <th>6</th>\n",
       "      <td>42</td>\n",
       "      <td>42</td>\n",
       "      <td>42</td>\n",
       "      <td>42</td>\n",
       "      <td>42</td>\n",
       "      <td>42</td>\n",
       "    </tr>\n",
       "    <tr>\n",
       "      <th>7</th>\n",
       "      <td>33</td>\n",
       "      <td>33</td>\n",
       "      <td>33</td>\n",
       "      <td>33</td>\n",
       "      <td>33</td>\n",
       "      <td>33</td>\n",
       "    </tr>\n",
       "    <tr>\n",
       "      <th>8</th>\n",
       "      <td>40</td>\n",
       "      <td>40</td>\n",
       "      <td>40</td>\n",
       "      <td>40</td>\n",
       "      <td>40</td>\n",
       "      <td>40</td>\n",
       "    </tr>\n",
       "    <tr>\n",
       "      <th>9</th>\n",
       "      <td>24</td>\n",
       "      <td>24</td>\n",
       "      <td>24</td>\n",
       "      <td>24</td>\n",
       "      <td>24</td>\n",
       "      <td>24</td>\n",
       "    </tr>\n",
       "  </tbody>\n",
       "</table>\n",
       "</div>"
      ],
      "text/plain": [
       "         A   B   C   D  meanshift_label  silhouette_coeff\n",
       "target                                                   \n",
       "0       69  69  69  69               69                69\n",
       "1       46  46  46  46               46                46\n",
       "2       41  41  41  41               41                41\n",
       "3       31  31  31  31               31                31\n",
       "4       44  44  44  44               44                44\n",
       "5       56  56  56  56               56                56\n",
       "6       42  42  42  42               42                42\n",
       "7       33  33  33  33               33                33\n",
       "8       40  40  40  40               40                40\n",
       "9       24  24  24  24               24                24"
      ]
     },
     "execution_count": 28,
     "metadata": {},
     "output_type": "execute_result"
    }
   ],
   "source": [
    "clusterDF.groupby('target').count()"
   ]
  },
  {
   "cell_type": "code",
   "execution_count": 30,
   "id": "cbad1505",
   "metadata": {},
   "outputs": [
    {
     "name": "stdout",
     "output_type": "stream",
     "text": [
      "\n",
      "Silhouette Analysis Score:0.183\n"
     ]
    }
   ],
   "source": [
    "score_samples = silhouette_samples(data, clusterDF['target'])\n",
    "tmp_df['silhouette_coeff']=score_samples\n",
    "\n",
    "print()\n",
    "\n",
    "average_score = silhouette_score(data, clusterDF['target'])\n",
    "print('Silhouette Analysis Score:{0:.3f}'.format(average_score))"
   ]
  },
  {
   "cell_type": "code",
   "execution_count": null,
   "id": "004378ef",
   "metadata": {},
   "outputs": [],
   "source": []
  },
  {
   "cell_type": "code",
   "execution_count": null,
   "id": "4374b319",
   "metadata": {},
   "outputs": [],
   "source": []
  },
  {
   "cell_type": "code",
   "execution_count": null,
   "id": "dc6de71f",
   "metadata": {},
   "outputs": [],
   "source": []
  }
 ],
 "metadata": {
  "kernelspec": {
   "display_name": "Python 3 (ipykernel)",
   "language": "python",
   "name": "python3"
  },
  "language_info": {
   "codemirror_mode": {
    "name": "ipython",
    "version": 3
   },
   "file_extension": ".py",
   "mimetype": "text/x-python",
   "name": "python",
   "nbconvert_exporter": "python",
   "pygments_lexer": "ipython3",
   "version": "3.9.7"
  }
 },
 "nbformat": 4,
 "nbformat_minor": 5
}
