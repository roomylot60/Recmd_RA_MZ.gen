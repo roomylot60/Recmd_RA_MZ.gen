{
 "cells": [
  {
   "cell_type": "markdown",
   "id": "82a18b6f",
   "metadata": {},
   "source": [
    "### 크롬드라이버 설치 (버전에 맞게) - 구글링\n",
    "- 인스타그램 크롬이 뜨면 로그인해주세요.\n",
    "- 하나씩 천천히 블록 실행해주세요."
   ]
  },
  {
   "cell_type": "code",
   "execution_count": 1,
   "id": "befc26f9",
   "metadata": {},
   "outputs": [],
   "source": [
    "from selenium.webdriver.common.by import By\n",
    "from selenium import webdriver\n",
    "from selenium.webdriver.chrome.service import Service\n",
    "from bs4 import BeautifulSoup\n",
    "\n",
    "import pandas as pd\n",
    "import numpy as np\n",
    "import time\n",
    "\n",
    "ser = Service('chromedriver.exe')\n",
    "driver = webdriver.Chrome(service = ser)\n",
    "\n",
    "url = 'https://www.instagram.com/'\n",
    "driver.get(url)"
   ]
  },
  {
   "cell_type": "code",
   "execution_count": 2,
   "id": "756236e3",
   "metadata": {},
   "outputs": [],
   "source": [
    "def insta_searching(word):\n",
    "    url = 'https://www.instagram.com/explore/tags/{}/'.format(word)\n",
    "    return(url)\n",
    "\n",
    "from selenium.webdriver.common.by import By\n",
    "\n",
    "def select_first(driver):\n",
    "    # 웹페이지에 접속해서 첫번째 게시글 해당하는 tag 선택해줘\n",
    "    first = driver.find_element(By.CSS_SELECTOR, 'div._aagu')\n",
    "\n",
    "    first.click()\n",
    "    time.sleep(3)\n",
    "\n",
    "import re\n",
    "def get_content(driver):\n",
    "    html_insta = driver.page_source\n",
    "    soup = BeautifulSoup(html_insta, 'html.parser')\n",
    "\n",
    "    try:\n",
    "        content = soup.select('div._a9zs > span ')[0].text\n",
    "        print(content)\n",
    "\n",
    "    except:\n",
    "        content = \" \"\n",
    "\n",
    "    try:\n",
    "        tags = re.findall(r'#[^\\s#,\\\\]+',content)\n",
    "    except:\n",
    "        tags = \" \"\n",
    "\n",
    "    data = [content, tags]\n",
    "    print(data ,\"!!!\")\n",
    "    return(data)\n",
    "\n",
    "def move_next(driver):\n",
    "    right = driver.find_element(By.CSS_SELECTOR,\"div._aaqg\")\n",
    "\n",
    "    right.click()\n",
    "    time.sleep(3)\n",
    "\n",
    "def insta_crawling(word, n):\n",
    "\n",
    "    url = insta_searching(word)\n",
    "    driver.get(url)\n",
    "    time.sleep(8)\n",
    "\n",
    "\n",
    "    # 첫 사진 선택\n",
    "    select_first(driver)\n",
    "    time.sleep(5)\n",
    "\n",
    "\n",
    "    results = []\n",
    "    for i in range(n):\n",
    "        try:\n",
    "            data = get_content(driver)\n",
    "            print(data, \"*\")\n",
    "            results.append(data)\n",
    "            move_next(driver)\n",
    "\n",
    "        except:\n",
    "            time.sleep(2)\n",
    "            move_next(driver)\n",
    "\n",
    "    return(results)\n"
   ]
  },
  {
   "cell_type": "code",
   "execution_count": null,
   "id": "9d8ce088",
   "metadata": {},
   "outputs": [],
   "source": []
  },
  {
   "cell_type": "markdown",
   "id": "908e1812",
   "metadata": {},
   "source": [
    "### 본인이 검색하고 싶은 단어, 개수 insta_crawling()함수에다가"
   ]
  },
  {
   "cell_type": "code",
   "execution_count": null,
   "id": "bd977ae7",
   "metadata": {
    "scrolled": true
   },
   "outputs": [
    {
     "name": "stdout",
     "output_type": "stream",
     "text": [
      "차 안에서 깨어나는내 안의 흑염…ㄹ..ㅛㅇ….다들 쏘카 반납할 때 쓰레기는 스스로 버리고 차 안에서 담배 안 피는 어른이가 되어주세요🥲 차밑에 숨기고 간 쓰레기 우리가 다 치웠따 문디드라!\n",
      "['차 안에서 깨어나는내 안의 흑염…ㄹ..ㅛㅇ….다들 쏘카 반납할 때 쓰레기는 스스로 버리고 차 안에서 담배 안 피는 어른이가 되어주세요🥲 차밑에 숨기고 간 쓰레기 우리가 다 치웠따 문디드라!', []] !!!\n",
      "['차 안에서 깨어나는내 안의 흑염…ㄹ..ㅛㅇ….다들 쏘카 반납할 때 쓰레기는 스스로 버리고 차 안에서 담배 안 피는 어른이가 되어주세요🥲 차밑에 숨기고 간 쓰레기 우리가 다 치웠따 문디드라!', []] *\n",
      "🚦고수의운전면허 서울대입구역점🚦어제 합격하신 우리 회원님이 주신 선물💝엄청 기뻐하셨는데 덩달아 신났던 하루였는데이렇게 감사하게도 선물도 주시고😍너무너무 잘 마실게용 회원님💕#고수의운전면허서울대입구역점 #고수의운전면허 #서울대입구역 #숭실대입구역 #운전면허학원 #관악구운전면허 #봉천동운전면허 #서울대입구운전면허 #사당운전면허 #운전면허 #강남운전면허시험장 #강서운전면허시험장 #서부운전면허시험장 #도봉운전면허시험장 #2종보통 #1종보통 #도로주행 #기능시험 #실내운전연습장 #실내운전 #장롱면허 #졸업생 #대학생 #고등학생 #수능 #쏘카\n",
      "['🚦고수의운전면허 서울대입구역점🚦어제 합격하신 우리 회원님이 주신 선물💝엄청 기뻐하셨는데 덩달아 신났던 하루였는데이렇게 감사하게도 선물도 주시고😍너무너무 잘 마실게용 회원님💕#고수의운전면허서울대입구역점 #고수의운전면허 #서울대입구역 #숭실대입구역 #운전면허학원 #관악구운전면허 #봉천동운전면허 #서울대입구운전면허 #사당운전면허 #운전면허 #강남운전면허시험장 #강서운전면허시험장 #서부운전면허시험장 #도봉운전면허시험장 #2종보통 #1종보통 #도로주행 #기능시험 #실내운전연습장 #실내운전 #장롱면허 #졸업생 #대학생 #고등학생 #수능 #쏘카', ['#고수의운전면허서울대입구역점', '#고수의운전면허', '#서울대입구역', '#숭실대입구역', '#운전면허학원', '#관악구운전면허', '#봉천동운전면허', '#서울대입구운전면허', '#사당운전면허', '#운전면허', '#강남운전면허시험장', '#강서운전면허시험장', '#서부운전면허시험장', '#도봉운전면허시험장', '#2종보통', '#1종보통', '#도로주행', '#기능시험', '#실내운전연습장', '#실내운전', '#장롱면허', '#졸업생', '#대학생', '#고등학생', '#수능', '#쏘카']] !!!\n",
      "['🚦고수의운전면허 서울대입구역점🚦어제 합격하신 우리 회원님이 주신 선물💝엄청 기뻐하셨는데 덩달아 신났던 하루였는데이렇게 감사하게도 선물도 주시고😍너무너무 잘 마실게용 회원님💕#고수의운전면허서울대입구역점 #고수의운전면허 #서울대입구역 #숭실대입구역 #운전면허학원 #관악구운전면허 #봉천동운전면허 #서울대입구운전면허 #사당운전면허 #운전면허 #강남운전면허시험장 #강서운전면허시험장 #서부운전면허시험장 #도봉운전면허시험장 #2종보통 #1종보통 #도로주행 #기능시험 #실내운전연습장 #실내운전 #장롱면허 #졸업생 #대학생 #고등학생 #수능 #쏘카', ['#고수의운전면허서울대입구역점', '#고수의운전면허', '#서울대입구역', '#숭실대입구역', '#운전면허학원', '#관악구운전면허', '#봉천동운전면허', '#서울대입구운전면허', '#사당운전면허', '#운전면허', '#강남운전면허시험장', '#강서운전면허시험장', '#서부운전면허시험장', '#도봉운전면허시험장', '#2종보통', '#1종보통', '#도로주행', '#기능시험', '#실내운전연습장', '#실내운전', '#장롱면허', '#졸업생', '#대학생', '#고등학생', '#수능', '#쏘카']] *\n",
      "토레스, 왜 이제 왔니~묵직해 보이는 겉모습만큼 정숙성도 뛰어나고주행성능도 탄탄한 차!나는 오늘 명차를 만났다. #첫차 로 갖고 싶은 #토레스. #쌍용자동차 #쌍용차 #쌍용토레스 #토레스 #차사진 #차사진그램 #차스타그램 #카스타그램 #붕붕이 #ssangyong #ssangyongmotor #ssangyong_torres #korea #사진 #사진스타그램 #아이폰카메라 #아이폰13프로맥스시에라블루 #쏘카 #쏘카_토레스\n",
      "['토레스, 왜 이제 왔니~묵직해 보이는 겉모습만큼 정숙성도 뛰어나고주행성능도 탄탄한 차!나는 오늘 명차를 만났다. #첫차 로 갖고 싶은 #토레스. #쌍용자동차 #쌍용차 #쌍용토레스 #토레스 #차사진 #차사진그램 #차스타그램 #카스타그램 #붕붕이 #ssangyong #ssangyongmotor #ssangyong_torres #korea #사진 #사진스타그램 #아이폰카메라 #아이폰13프로맥스시에라블루 #쏘카 #쏘카_토레스', ['#첫차', '#토레스.', '#쌍용자동차', '#쌍용차', '#쌍용토레스', '#토레스', '#차사진', '#차사진그램', '#차스타그램', '#카스타그램', '#붕붕이', '#ssangyong', '#ssangyongmotor', '#ssangyong_torres', '#korea', '#사진', '#사진스타그램', '#아이폰카메라', '#아이폰13프로맥스시에라블루', '#쏘카', '#쏘카_토레스']] !!!\n",
      "['토레스, 왜 이제 왔니~묵직해 보이는 겉모습만큼 정숙성도 뛰어나고주행성능도 탄탄한 차!나는 오늘 명차를 만났다. #첫차 로 갖고 싶은 #토레스. #쌍용자동차 #쌍용차 #쌍용토레스 #토레스 #차사진 #차사진그램 #차스타그램 #카스타그램 #붕붕이 #ssangyong #ssangyongmotor #ssangyong_torres #korea #사진 #사진스타그램 #아이폰카메라 #아이폰13프로맥스시에라블루 #쏘카 #쏘카_토레스', ['#첫차', '#토레스.', '#쌍용자동차', '#쌍용차', '#쌍용토레스', '#토레스', '#차사진', '#차사진그램', '#차스타그램', '#카스타그램', '#붕붕이', '#ssangyong', '#ssangyongmotor', '#ssangyong_torres', '#korea', '#사진', '#사진스타그램', '#아이폰카메라', '#아이폰13프로맥스시에라블루', '#쏘카', '#쏘카_토레스']] *\n",
      "카페 노티드(@cafeknotted)와 쏘카(@socarsharing)가 만났습니다.💛 카페 노티드 제주 애월에서 진행되는 이번 협업은 아트카를 포함해 한정 도넛을 만나볼 수 있는데요. 제주 쏘카스테이션에는 두 브랜드의 아트웍을 활용한 캐스퍼도 이용할 수 있다고 하네요.💨 협업 기간은 오늘부터 오는 9월 30일까지, 보다 자세한 내용은 카페 노티드 계정 프로필 링크에서 확인해 보세요. 📸 카페 노티드📍제주 제주시 애월읍 애월로1길 24-9\n",
      "['카페 노티드(@cafeknotted)와 쏘카(@socarsharing)가 만났습니다.💛 카페 노티드 제주 애월에서 진행되는 이번 협업은 아트카를 포함해 한정 도넛을 만나볼 수 있는데요. 제주 쏘카스테이션에는 두 브랜드의 아트웍을 활용한 캐스퍼도 이용할 수 있다고 하네요.💨 협업 기간은 오늘부터 오는 9월 30일까지, 보다 자세한 내용은 카페 노티드 계정 프로필 링크에서 확인해 보세요. 📸 카페 노티드📍제주 제주시 애월읍 애월로1길 24-9', []] !!!\n",
      "['카페 노티드(@cafeknotted)와 쏘카(@socarsharing)가 만났습니다.💛 카페 노티드 제주 애월에서 진행되는 이번 협업은 아트카를 포함해 한정 도넛을 만나볼 수 있는데요. 제주 쏘카스테이션에는 두 브랜드의 아트웍을 활용한 캐스퍼도 이용할 수 있다고 하네요.💨 협업 기간은 오늘부터 오는 9월 30일까지, 보다 자세한 내용은 카페 노티드 계정 프로필 링크에서 확인해 보세요. 📸 카페 노티드📍제주 제주시 애월읍 애월로1길 24-9', []] *\n"
     ]
    }
   ],
   "source": [
    "results = insta_crawling(\"쏘카\", 500)\n",
    "# results_df.to_excel('1_crawling_jejudoMatJip.xlsx')abs"
   ]
  },
  {
   "cell_type": "code",
   "execution_count": null,
   "id": "141f1c92",
   "metadata": {},
   "outputs": [],
   "source": [
    "results_df = pd.DataFrame(results)\n",
    "results_df.columns = ['content','tags']"
   ]
  },
  {
   "cell_type": "markdown",
   "id": "0b480386",
   "metadata": {},
   "source": [
    "### 파일명 변경 해주세요!"
   ]
  },
  {
   "cell_type": "code",
   "execution_count": null,
   "id": "3a4e37f7",
   "metadata": {},
   "outputs": [],
   "source": [
    "f = open('쏘카.txt','w',encoding='UTF-8')\n",
    "\n",
    "all_str = \"\"\n",
    "for item in results_df['tags'].values:\n",
    "    str = ' '.join(item)\n",
    "    all_str += str\n",
    "    \n",
    "#     remove_tags = ['오운완','오수완','수린이','수영인','수영','수영일기','일기']\n",
    "#     for n in remove_tags:\n",
    "#         all_str = all_str.replace(n,'',-1)\n",
    "#     all_str\n",
    "    \n",
    "f.write(all_str)\n",
    "\n",
    "f.close()"
   ]
  },
  {
   "cell_type": "code",
   "execution_count": null,
   "id": "2719a74b",
   "metadata": {},
   "outputs": [],
   "source": [
    "from wordcloud import WordCloud\n",
    "import matplotlib.font_manager as fm\n",
    "path = \"c:/Windows/Fonts/malgun.ttf\"\n",
    "\n",
    "wc = WordCloud(font_path=path, width=600, height=600,background_color='black',colormap='hsv')\n",
    "wc.generate(all_str)\n",
    "\n",
    "\n",
    "wc.to_file(\"쏘카.png\")"
   ]
  },
  {
   "cell_type": "code",
   "execution_count": null,
   "id": "d1472ffb",
   "metadata": {},
   "outputs": [],
   "source": []
  }
 ],
 "metadata": {
  "kernelspec": {
   "display_name": "Python 3 (ipykernel)",
   "language": "python",
   "name": "python3"
  },
  "language_info": {
   "codemirror_mode": {
    "name": "ipython",
    "version": 3
   },
   "file_extension": ".py",
   "mimetype": "text/x-python",
   "name": "python",
   "nbconvert_exporter": "python",
   "pygments_lexer": "ipython3",
   "version": "3.9.7"
  }
 },
 "nbformat": 4,
 "nbformat_minor": 5
}
