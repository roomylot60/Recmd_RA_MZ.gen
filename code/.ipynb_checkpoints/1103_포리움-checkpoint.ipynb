{
 "cells": [
  {
   "cell_type": "code",
   "execution_count": 62,
   "id": "db836151",
   "metadata": {},
   "outputs": [],
   "source": [
    "import pandas as pd\n"
   ]
  },
  {
   "cell_type": "code",
   "execution_count": 77,
   "id": "ab641a64",
   "metadata": {},
   "outputs": [],
   "source": [
    "ad_dong_df = pd.read_csv(\"행정동_컬럼추가_최종ver.csv\",index_col=0)\n",
    "ad_dong_df.rename(columns={\"인구수\" : \"MZ_POP_CNT\"},inplace=True)\n",
    "ad_dong_code = ad_dong_df.iloc[:,:3]\n",
    "ad_dong_code['GU_DONG'] = ad_dong_code['GU'] + ad_dong_code['DONG']\n",
    "ad_dong_code.to_excel(\"1103_dong_code.xlsx\")"
   ]
  },
  {
   "cell_type": "code",
   "execution_count": 64,
   "id": "cdd137da",
   "metadata": {},
   "outputs": [],
   "source": [
    "dong_loc = pd.read_excel(\"서울시행정동좌표.xlsx\")\n",
    "dong_loc['GU_DONG'] = dong_loc['gu'] + dong_loc['dong']\n",
    "dong_loc.drop([\"sido\",'gu','dong','code'],axis=1,inplace=True)"
   ]
  },
  {
   "cell_type": "code",
   "execution_count": 65,
   "id": "8b86d98c",
   "metadata": {},
   "outputs": [
    {
     "data": {
      "text/plain": [
       "{'강동구상일1동', '강동구상일2동', '구로구항동'}"
      ]
     },
     "execution_count": 65,
     "metadata": {},
     "output_type": "execute_result"
    }
   ],
   "source": [
    "merge_df = pd.merge(ad_dong_code, dong_loc, on=\"GU_DONG\")\n",
    "set(ad_dong_code['GU_DONG'].values) - set(merge_df['GU_DONG'].values)\n"
   ]
  },
  {
   "cell_type": "code",
   "execution_count": 71,
   "id": "1b87e36c",
   "metadata": {},
   "outputs": [
    {
     "data": {
      "text/html": [
       "<div>\n",
       "<style scoped>\n",
       "    .dataframe tbody tr th:only-of-type {\n",
       "        vertical-align: middle;\n",
       "    }\n",
       "\n",
       "    .dataframe tbody tr th {\n",
       "        vertical-align: top;\n",
       "    }\n",
       "\n",
       "    .dataframe thead th {\n",
       "        text-align: right;\n",
       "    }\n",
       "</style>\n",
       "<table border=\"1\" class=\"dataframe\">\n",
       "  <thead>\n",
       "    <tr style=\"text-align: right;\">\n",
       "      <th></th>\n",
       "      <th>GU</th>\n",
       "      <th>DONG</th>\n",
       "      <th>DONG_CODE</th>\n",
       "      <th>GU_DONG</th>\n",
       "    </tr>\n",
       "  </thead>\n",
       "  <tbody>\n",
       "    <tr>\n",
       "      <th>275</th>\n",
       "      <td>구로구</td>\n",
       "      <td>항동</td>\n",
       "      <td>1153080000</td>\n",
       "      <td>구로구항동</td>\n",
       "    </tr>\n",
       "  </tbody>\n",
       "</table>\n",
       "</div>"
      ],
      "text/plain": [
       "      GU DONG   DONG_CODE GU_DONG\n",
       "275  구로구   항동  1153080000   구로구항동"
      ]
     },
     "execution_count": 71,
     "metadata": {},
     "output_type": "execute_result"
    }
   ],
   "source": [
    "ad_dong_code[ad_dong_code['GU_DONG']=='구로구항동']"
   ]
  },
  {
   "cell_type": "code",
   "execution_count": 73,
   "id": "05df1681",
   "metadata": {},
   "outputs": [
    {
     "data": {
      "text/html": [
       "<div>\n",
       "<style scoped>\n",
       "    .dataframe tbody tr th:only-of-type {\n",
       "        vertical-align: middle;\n",
       "    }\n",
       "\n",
       "    .dataframe tbody tr th {\n",
       "        vertical-align: top;\n",
       "    }\n",
       "\n",
       "    .dataframe thead th {\n",
       "        text-align: right;\n",
       "    }\n",
       "</style>\n",
       "<table border=\"1\" class=\"dataframe\">\n",
       "  <thead>\n",
       "    <tr style=\"text-align: right;\">\n",
       "      <th></th>\n",
       "      <th>lat</th>\n",
       "      <th>lng</th>\n",
       "      <th>GU_DONG</th>\n",
       "    </tr>\n",
       "  </thead>\n",
       "  <tbody>\n",
       "  </tbody>\n",
       "</table>\n",
       "</div>"
      ],
      "text/plain": [
       "Empty DataFrame\n",
       "Columns: [lat, lng, GU_DONG]\n",
       "Index: []"
      ]
     },
     "execution_count": 73,
     "metadata": {},
     "output_type": "execute_result"
    }
   ],
   "source": [
    "dong_loc[dong_loc['GU_DONG']=='']"
   ]
  },
  {
   "cell_type": "code",
   "execution_count": 69,
   "id": "e1c23247",
   "metadata": {},
   "outputs": [],
   "source": [
    "merge_df.drop(\"DONG_CODE\",axis=1,inplace=True)"
   ]
  },
  {
   "cell_type": "code",
   "execution_count": 72,
   "id": "9805af16",
   "metadata": {},
   "outputs": [
    {
     "ename": "SyntaxError",
     "evalue": "invalid syntax (2414609575.py, line 1)",
     "output_type": "error",
     "traceback": [
      "\u001b[1;36m  Input \u001b[1;32mIn [72]\u001b[1;36m\u001b[0m\n\u001b[1;33m    rem_df  = pd.DataFrame(\"GU\" : ['강동구','강동구','구로구'],\u001b[0m\n\u001b[1;37m                                ^\u001b[0m\n\u001b[1;31mSyntaxError\u001b[0m\u001b[1;31m:\u001b[0m invalid syntax\n"
     ]
    }
   ],
   "source": [
    "rem_df  = pd.DataFrame(\"GU\" : ['강동구','강동구','구로구'],\n",
    "                      \"DONG\" : ['상일1동','상일2동','항동'],\n",
    "                      \"DONG_CODE\" : ['1174052500','1174052600','1153080000'],\n",
    "                       \"lat\" : ['37.550583','37.550583',],\n",
    "                       \"lng\" : [\"127.168797\",\"127.168797\"]\n",
    "                      )"
   ]
  },
  {
   "cell_type": "code",
   "execution_count": 74,
   "id": "3a7e0988",
   "metadata": {},
   "outputs": [],
   "source": [
    "import numpy as np\n",
    "import pandas as pd\n",
    "import json\n",
    "import folium"
   ]
  },
  {
   "cell_type": "code",
   "execution_count": 76,
   "id": "52a47e0d",
   "metadata": {},
   "outputs": [],
   "source": [
    "geo_path = (\"dong.json\")\n",
    "geo_str = json.load(open(geo_path, encoding=\"utf-8\"))"
   ]
  },
  {
   "cell_type": "code",
   "execution_count": null,
   "id": "074c34ef",
   "metadata": {},
   "outputs": [],
   "source": [
    "seoul_map = folium.Map(location=[37.5502, 126.982], zoom_start = 10)\n",
    "\n",
    "folium.Choropleth(\n",
    "    geo_data = geo_str,\n",
    "    data = greenery,\n",
    "    columns = [\"자치구\", \"녹지면적\"],\n",
    "    fill_color = \"Blues\",\n",
    "    key_on = \"properties.name\"\n",
    ").add_to(seoul_map)\n",
    "\n",
    "seoul_map"
   ]
  }
 ],
 "metadata": {
  "kernelspec": {
   "display_name": "Python 3 (ipykernel)",
   "language": "python",
   "name": "python3"
  },
  "language_info": {
   "codemirror_mode": {
    "name": "ipython",
    "version": 3
   },
   "file_extension": ".py",
   "mimetype": "text/x-python",
   "name": "python",
   "nbconvert_exporter": "python",
   "pygments_lexer": "ipython3",
   "version": "3.9.7"
  }
 },
 "nbformat": 4,
 "nbformat_minor": 5
}
