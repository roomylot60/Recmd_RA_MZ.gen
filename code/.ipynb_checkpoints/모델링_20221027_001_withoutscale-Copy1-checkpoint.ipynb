{
 "cells": [
  {
   "cell_type": "markdown",
   "id": "aff76b59",
   "metadata": {},
   "source": [
    "# 모델링"
   ]
  },
  {
   "cell_type": "code",
   "execution_count": 1,
   "id": "a827ef93",
   "metadata": {
    "scrolled": true
   },
   "outputs": [],
   "source": [
    "import pandas as pd\n",
    "import numpy as np\n",
    "import matplotlib.pyplot as plt\n",
    "import seaborn as sns\n",
    "import scipy.stats as ss\n",
    "from numpy import unique\n",
    "from urllib.request import urlopen  \n",
    "from bs4 import BeautifulSoup \n",
    "import requests\n",
    "from sklearn.datasets import make_blobs\n",
    "from sklearn.cluster import KMeans\n",
    "from sklearn.metrics import silhouette_samples, silhouette_score\n",
    "\n",
    "import matplotlib.pyplot as plt\n",
    "import matplotlib.cm as cm\n",
    "import math\n",
    "from sklearn.cluster import AgglomerativeClustering\n",
    "import pprint\n",
    "from sklearn.metrics import silhouette_score\n",
    "from numpy import where\n",
    "from matplotlib import pyplot\n",
    "import json\n",
    "from sklearn.cluster import DBSCAN\n",
    "import ssl\n",
    "import matplotlib.gridspec as gridspec\n",
    "ssl._create_default_https_context = ssl._create_unverified_context\n",
    "from sklearn.cluster import KMeans\n",
    "import warnings\n",
    "from scipy.spatial import distance\n",
    "warnings.filterwarnings(\"ignore\")\n",
    "from IPython.core.interactiveshell import InteractiveShell\n",
    "InteractiveShell.ast_node_interactivity = \"all\"\n",
    "from sklearn.preprocessing import StandardScaler\n",
    "from sklearn.model_selection import train_test_split\n",
    "from sklearn.linear_model import LinearRegression\n",
    "from sklearn.metrics import r2_score, mean_absolute_error\n",
    "from matplotlib import font_manager, rc\n",
    "font_path = \"C:/Windows/Fonts/NGULIM.TTF\"\n",
    "font = font_manager.FontProperties(fname=font_path).get_name()\n",
    "rc('font', family=font)\n",
    "from math import *\n",
    "import glob, os\n",
    "from matplotlib import pyplot as plt\n",
    "from sklearn.cluster import AgglomerativeClustering\n",
    "import scipy.cluster.hierarchy as sch\n",
    "from scipy.cluster.hierarchy import dendrogram, linkage\n",
    "from scipy.spatial import distance\n",
    "from sklearn.cluster import AffinityPropagation\n",
    "\n",
    "import string\n",
    "import sys  \n",
    "from numpy import dot\n",
    "from numpy.linalg import norm\n",
    "from sklearn.metrics.pairwise import cosine_similarity\n",
    "from sklearn.cluster import OPTICS, cluster_optics_dbscan\n",
    "from sklearn.decomposition import PCA\n",
    "from sklearn.cluster import AgglomerativeClustering\n",
    "import scipy.cluster.hierarchy as sch\n",
    "from scipy.cluster.hierarchy import linkage, dendrogram\n",
    "import warnings\n",
    "warnings.filterwarnings(\"ignore\")\n",
    "from IPython.core.interactiveshell import InteractiveShell\n",
    "InteractiveShell.ast_node_interactivity = \"all\"\n",
    "from sklearn.preprocessing import StandardScaler\n",
    "from sklearn.model_selection import train_test_split\n",
    "from sklearn.linear_model import LinearRegression\n",
    "from sklearn.metrics import r2_score, mean_absolute_error\n",
    "from matplotlib import font_manager, rc\n",
    "from sklearn.preprocessing import LabelEncoder\n",
    "%matplotlib inline\n",
    "from scipy.stats import pearsonr\n",
    "from sklearn.preprocessing import MinMaxScaler"
   ]
  },
  {
   "cell_type": "markdown",
   "id": "7447035c",
   "metadata": {},
   "source": [
    "## 1. 데이터 로드 및 전처리"
   ]
  },
  {
   "cell_type": "markdown",
   "id": "596a5226",
   "metadata": {},
   "source": [
    "### 1.1. 데이터 로드"
   ]
  },
  {
   "cell_type": "code",
   "execution_count": 3,
   "id": "66477cd1",
   "metadata": {
    "scrolled": true
   },
   "outputs": [
    {
     "data": {
      "text/plain": [
       "Index(['Unnamed: 0', 'SUBWAY_NUM', 'STARBUCKS_NUM', 'SPORT_NUM',\n",
       "       'SAFE_DLVR_NUM', 'MC_NUM', 'KINDER_NUM', 'KIDS_NUM', 'GYM_NUM',\n",
       "       'GOLF_NUM', 'ACADEMY_NUM', 'ANIMAL_HSPT_NUM', 'BIKE_NUM', 'CAFE',\n",
       "       'CAR_SHR_NUM', 'CCTV_NUM', 'CHILD_MED_NUM', 'CON_NUM', 'DPTM_NUM', 'GU',\n",
       "       'DONG', 'DONG_CODE', 'BUS_CNT'],\n",
       "      dtype='object')"
      ]
     },
     "execution_count": 3,
     "metadata": {},
     "output_type": "execute_result"
    },
    {
     "data": {
      "text/html": [
       "<div>\n",
       "<style scoped>\n",
       "    .dataframe tbody tr th:only-of-type {\n",
       "        vertical-align: middle;\n",
       "    }\n",
       "\n",
       "    .dataframe tbody tr th {\n",
       "        vertical-align: top;\n",
       "    }\n",
       "\n",
       "    .dataframe thead th {\n",
       "        text-align: right;\n",
       "    }\n",
       "</style>\n",
       "<table border=\"1\" class=\"dataframe\">\n",
       "  <thead>\n",
       "    <tr style=\"text-align: right;\">\n",
       "      <th></th>\n",
       "      <th>Unnamed: 0</th>\n",
       "      <th>SUBWAY_NUM</th>\n",
       "      <th>STARBUCKS_NUM</th>\n",
       "      <th>SPORT_NUM</th>\n",
       "      <th>SAFE_DLVR_NUM</th>\n",
       "      <th>MC_NUM</th>\n",
       "      <th>KINDER_NUM</th>\n",
       "      <th>KIDS_NUM</th>\n",
       "      <th>GYM_NUM</th>\n",
       "      <th>GOLF_NUM</th>\n",
       "      <th>...</th>\n",
       "      <th>CAR_SHR_NUM</th>\n",
       "      <th>CCTV_NUM</th>\n",
       "      <th>CHILD_MED_NUM</th>\n",
       "      <th>CON_NUM</th>\n",
       "      <th>DPTM_NUM</th>\n",
       "      <th>GU</th>\n",
       "      <th>DONG</th>\n",
       "      <th>DONG_CODE</th>\n",
       "      <th>BUS_CNT</th>\n",
       "      <th>GU_DONG</th>\n",
       "    </tr>\n",
       "  </thead>\n",
       "  <tbody>\n",
       "    <tr>\n",
       "      <th>0</th>\n",
       "      <td>0</td>\n",
       "      <td>0.333333</td>\n",
       "      <td>0.333333</td>\n",
       "      <td>0.0</td>\n",
       "      <td>1.000000</td>\n",
       "      <td>0.0</td>\n",
       "      <td>0.000000</td>\n",
       "      <td>0.000000</td>\n",
       "      <td>0.0</td>\n",
       "      <td>0.000000</td>\n",
       "      <td>...</td>\n",
       "      <td>1.000000</td>\n",
       "      <td>56.666667</td>\n",
       "      <td>7.333333</td>\n",
       "      <td>2.000000</td>\n",
       "      <td>0.0</td>\n",
       "      <td>종로구</td>\n",
       "      <td>청운효자동</td>\n",
       "      <td>1111051500</td>\n",
       "      <td>14.0</td>\n",
       "      <td>종로구청운효자동</td>\n",
       "    </tr>\n",
       "    <tr>\n",
       "      <th>1</th>\n",
       "      <td>1</td>\n",
       "      <td>1.333333</td>\n",
       "      <td>7.333333</td>\n",
       "      <td>0.0</td>\n",
       "      <td>0.000000</td>\n",
       "      <td>0.0</td>\n",
       "      <td>10.000000</td>\n",
       "      <td>0.000000</td>\n",
       "      <td>18.0</td>\n",
       "      <td>3.000000</td>\n",
       "      <td>...</td>\n",
       "      <td>5.000000</td>\n",
       "      <td>41.666667</td>\n",
       "      <td>10.333333</td>\n",
       "      <td>10.000000</td>\n",
       "      <td>0.0</td>\n",
       "      <td>종로구</td>\n",
       "      <td>사직동</td>\n",
       "      <td>1111053000</td>\n",
       "      <td>16.0</td>\n",
       "      <td>종로구사직동</td>\n",
       "    </tr>\n",
       "    <tr>\n",
       "      <th>2</th>\n",
       "      <td>2</td>\n",
       "      <td>0.000000</td>\n",
       "      <td>1.000000</td>\n",
       "      <td>1.0</td>\n",
       "      <td>0.000000</td>\n",
       "      <td>0.0</td>\n",
       "      <td>10.000000</td>\n",
       "      <td>0.000000</td>\n",
       "      <td>3.0</td>\n",
       "      <td>0.000000</td>\n",
       "      <td>...</td>\n",
       "      <td>1.000000</td>\n",
       "      <td>22.000000</td>\n",
       "      <td>1.000000</td>\n",
       "      <td>1.000000</td>\n",
       "      <td>0.0</td>\n",
       "      <td>종로구</td>\n",
       "      <td>삼청동</td>\n",
       "      <td>1111054000</td>\n",
       "      <td>11.0</td>\n",
       "      <td>종로구삼청동</td>\n",
       "    </tr>\n",
       "    <tr>\n",
       "      <th>3</th>\n",
       "      <td>3</td>\n",
       "      <td>0.000000</td>\n",
       "      <td>0.000000</td>\n",
       "      <td>0.0</td>\n",
       "      <td>0.000000</td>\n",
       "      <td>0.0</td>\n",
       "      <td>0.000000</td>\n",
       "      <td>0.000000</td>\n",
       "      <td>2.0</td>\n",
       "      <td>2.000000</td>\n",
       "      <td>...</td>\n",
       "      <td>5.000000</td>\n",
       "      <td>41.000000</td>\n",
       "      <td>5.000000</td>\n",
       "      <td>4.000000</td>\n",
       "      <td>0.0</td>\n",
       "      <td>종로구</td>\n",
       "      <td>부암동</td>\n",
       "      <td>1111055000</td>\n",
       "      <td>9.0</td>\n",
       "      <td>종로구부암동</td>\n",
       "    </tr>\n",
       "    <tr>\n",
       "      <th>4</th>\n",
       "      <td>4</td>\n",
       "      <td>0.000000</td>\n",
       "      <td>1.000000</td>\n",
       "      <td>0.0</td>\n",
       "      <td>0.000000</td>\n",
       "      <td>0.0</td>\n",
       "      <td>0.000000</td>\n",
       "      <td>0.000000</td>\n",
       "      <td>5.0</td>\n",
       "      <td>5.000000</td>\n",
       "      <td>...</td>\n",
       "      <td>0.000000</td>\n",
       "      <td>21.000000</td>\n",
       "      <td>10.000000</td>\n",
       "      <td>3.000000</td>\n",
       "      <td>0.0</td>\n",
       "      <td>종로구</td>\n",
       "      <td>평창동</td>\n",
       "      <td>1111056000</td>\n",
       "      <td>37.0</td>\n",
       "      <td>종로구평창동</td>\n",
       "    </tr>\n",
       "    <tr>\n",
       "      <th>...</th>\n",
       "      <td>...</td>\n",
       "      <td>...</td>\n",
       "      <td>...</td>\n",
       "      <td>...</td>\n",
       "      <td>...</td>\n",
       "      <td>...</td>\n",
       "      <td>...</td>\n",
       "      <td>...</td>\n",
       "      <td>...</td>\n",
       "      <td>...</td>\n",
       "      <td>...</td>\n",
       "      <td>...</td>\n",
       "      <td>...</td>\n",
       "      <td>...</td>\n",
       "      <td>...</td>\n",
       "      <td>...</td>\n",
       "      <td>...</td>\n",
       "      <td>...</td>\n",
       "      <td>...</td>\n",
       "      <td>...</td>\n",
       "      <td>...</td>\n",
       "    </tr>\n",
       "    <tr>\n",
       "      <th>421</th>\n",
       "      <td>421</td>\n",
       "      <td>1.333333</td>\n",
       "      <td>1.333333</td>\n",
       "      <td>0.0</td>\n",
       "      <td>0.666667</td>\n",
       "      <td>0.0</td>\n",
       "      <td>16.666667</td>\n",
       "      <td>0.666667</td>\n",
       "      <td>10.0</td>\n",
       "      <td>4.666667</td>\n",
       "      <td>...</td>\n",
       "      <td>6.666667</td>\n",
       "      <td>52.000000</td>\n",
       "      <td>4.000000</td>\n",
       "      <td>19.333333</td>\n",
       "      <td>0.0</td>\n",
       "      <td>강동구</td>\n",
       "      <td>성내2동</td>\n",
       "      <td>1174065000</td>\n",
       "      <td>11.0</td>\n",
       "      <td>강동구성내2동</td>\n",
       "    </tr>\n",
       "    <tr>\n",
       "      <th>422</th>\n",
       "      <td>422</td>\n",
       "      <td>1.333333</td>\n",
       "      <td>1.333333</td>\n",
       "      <td>0.0</td>\n",
       "      <td>0.666667</td>\n",
       "      <td>0.0</td>\n",
       "      <td>16.666667</td>\n",
       "      <td>0.666667</td>\n",
       "      <td>10.0</td>\n",
       "      <td>4.666667</td>\n",
       "      <td>...</td>\n",
       "      <td>6.666667</td>\n",
       "      <td>52.000000</td>\n",
       "      <td>4.000000</td>\n",
       "      <td>19.333333</td>\n",
       "      <td>0.0</td>\n",
       "      <td>강동구</td>\n",
       "      <td>성내3동</td>\n",
       "      <td>1174066000</td>\n",
       "      <td>9.0</td>\n",
       "      <td>강동구성내3동</td>\n",
       "    </tr>\n",
       "    <tr>\n",
       "      <th>423</th>\n",
       "      <td>423</td>\n",
       "      <td>0.000000</td>\n",
       "      <td>2.000000</td>\n",
       "      <td>0.0</td>\n",
       "      <td>1.000000</td>\n",
       "      <td>0.0</td>\n",
       "      <td>20.000000</td>\n",
       "      <td>1.000000</td>\n",
       "      <td>18.0</td>\n",
       "      <td>9.000000</td>\n",
       "      <td>...</td>\n",
       "      <td>10.000000</td>\n",
       "      <td>119.000000</td>\n",
       "      <td>10.000000</td>\n",
       "      <td>38.000000</td>\n",
       "      <td>0.0</td>\n",
       "      <td>강동구</td>\n",
       "      <td>길동</td>\n",
       "      <td>1174068500</td>\n",
       "      <td>28.0</td>\n",
       "      <td>강동구길동</td>\n",
       "    </tr>\n",
       "    <tr>\n",
       "      <th>424</th>\n",
       "      <td>424</td>\n",
       "      <td>0.500000</td>\n",
       "      <td>0.000000</td>\n",
       "      <td>0.0</td>\n",
       "      <td>0.000000</td>\n",
       "      <td>0.5</td>\n",
       "      <td>0.000000</td>\n",
       "      <td>0.000000</td>\n",
       "      <td>4.0</td>\n",
       "      <td>3.000000</td>\n",
       "      <td>...</td>\n",
       "      <td>2.000000</td>\n",
       "      <td>32.500000</td>\n",
       "      <td>0.000000</td>\n",
       "      <td>8.500000</td>\n",
       "      <td>0.0</td>\n",
       "      <td>강동구</td>\n",
       "      <td>둔촌1동</td>\n",
       "      <td>1174069000</td>\n",
       "      <td>4.0</td>\n",
       "      <td>강동구둔촌1동</td>\n",
       "    </tr>\n",
       "    <tr>\n",
       "      <th>425</th>\n",
       "      <td>425</td>\n",
       "      <td>0.500000</td>\n",
       "      <td>0.000000</td>\n",
       "      <td>0.0</td>\n",
       "      <td>0.000000</td>\n",
       "      <td>0.5</td>\n",
       "      <td>0.000000</td>\n",
       "      <td>0.000000</td>\n",
       "      <td>4.0</td>\n",
       "      <td>3.000000</td>\n",
       "      <td>...</td>\n",
       "      <td>2.000000</td>\n",
       "      <td>32.500000</td>\n",
       "      <td>0.000000</td>\n",
       "      <td>8.500000</td>\n",
       "      <td>0.0</td>\n",
       "      <td>강동구</td>\n",
       "      <td>둔촌2동</td>\n",
       "      <td>1174070000</td>\n",
       "      <td>20.0</td>\n",
       "      <td>강동구둔촌2동</td>\n",
       "    </tr>\n",
       "  </tbody>\n",
       "</table>\n",
       "<p>426 rows × 24 columns</p>\n",
       "</div>"
      ],
      "text/plain": [
       "     Unnamed: 0  SUBWAY_NUM  STARBUCKS_NUM  SPORT_NUM  SAFE_DLVR_NUM  MC_NUM  \\\n",
       "0             0    0.333333       0.333333        0.0       1.000000     0.0   \n",
       "1             1    1.333333       7.333333        0.0       0.000000     0.0   \n",
       "2             2    0.000000       1.000000        1.0       0.000000     0.0   \n",
       "3             3    0.000000       0.000000        0.0       0.000000     0.0   \n",
       "4             4    0.000000       1.000000        0.0       0.000000     0.0   \n",
       "..          ...         ...            ...        ...            ...     ...   \n",
       "421         421    1.333333       1.333333        0.0       0.666667     0.0   \n",
       "422         422    1.333333       1.333333        0.0       0.666667     0.0   \n",
       "423         423    0.000000       2.000000        0.0       1.000000     0.0   \n",
       "424         424    0.500000       0.000000        0.0       0.000000     0.5   \n",
       "425         425    0.500000       0.000000        0.0       0.000000     0.5   \n",
       "\n",
       "     KINDER_NUM  KIDS_NUM  GYM_NUM  GOLF_NUM  ...  CAR_SHR_NUM    CCTV_NUM  \\\n",
       "0      0.000000  0.000000      0.0  0.000000  ...     1.000000   56.666667   \n",
       "1     10.000000  0.000000     18.0  3.000000  ...     5.000000   41.666667   \n",
       "2     10.000000  0.000000      3.0  0.000000  ...     1.000000   22.000000   \n",
       "3      0.000000  0.000000      2.0  2.000000  ...     5.000000   41.000000   \n",
       "4      0.000000  0.000000      5.0  5.000000  ...     0.000000   21.000000   \n",
       "..          ...       ...      ...       ...  ...          ...         ...   \n",
       "421   16.666667  0.666667     10.0  4.666667  ...     6.666667   52.000000   \n",
       "422   16.666667  0.666667     10.0  4.666667  ...     6.666667   52.000000   \n",
       "423   20.000000  1.000000     18.0  9.000000  ...    10.000000  119.000000   \n",
       "424    0.000000  0.000000      4.0  3.000000  ...     2.000000   32.500000   \n",
       "425    0.000000  0.000000      4.0  3.000000  ...     2.000000   32.500000   \n",
       "\n",
       "     CHILD_MED_NUM    CON_NUM  DPTM_NUM   GU   DONG   DONG_CODE  BUS_CNT  \\\n",
       "0         7.333333   2.000000       0.0  종로구  청운효자동  1111051500     14.0   \n",
       "1        10.333333  10.000000       0.0  종로구    사직동  1111053000     16.0   \n",
       "2         1.000000   1.000000       0.0  종로구    삼청동  1111054000     11.0   \n",
       "3         5.000000   4.000000       0.0  종로구    부암동  1111055000      9.0   \n",
       "4        10.000000   3.000000       0.0  종로구    평창동  1111056000     37.0   \n",
       "..             ...        ...       ...  ...    ...         ...      ...   \n",
       "421       4.000000  19.333333       0.0  강동구   성내2동  1174065000     11.0   \n",
       "422       4.000000  19.333333       0.0  강동구   성내3동  1174066000      9.0   \n",
       "423      10.000000  38.000000       0.0  강동구     길동  1174068500     28.0   \n",
       "424       0.000000   8.500000       0.0  강동구   둔촌1동  1174069000      4.0   \n",
       "425       0.000000   8.500000       0.0  강동구   둔촌2동  1174070000     20.0   \n",
       "\n",
       "      GU_DONG  \n",
       "0    종로구청운효자동  \n",
       "1      종로구사직동  \n",
       "2      종로구삼청동  \n",
       "3      종로구부암동  \n",
       "4      종로구평창동  \n",
       "..        ...  \n",
       "421   강동구성내2동  \n",
       "422   강동구성내3동  \n",
       "423     강동구길동  \n",
       "424   강동구둔촌1동  \n",
       "425   강동구둔촌2동  \n",
       "\n",
       "[426 rows x 24 columns]"
      ]
     },
     "execution_count": 3,
     "metadata": {},
     "output_type": "execute_result"
    }
   ],
   "source": [
    "tmp_df_prim = pd.read_csv('../data/행정동_기준_동별데이터_버스추가.csv') # 1차 카테고리 : 5, 2차 카테고리 : 9\n",
    "tmp_df_prim.columns\n",
    "tmp_df_prim['GU_DONG'] = tmp_df_prim['GU']+tmp_df_prim['DONG']\n",
    "# tmp_df.set_index('DONG',inplace=True)\n",
    "tmp_df_prim"
   ]
  },
  {
   "cell_type": "code",
   "execution_count": null,
   "id": "946f503b",
   "metadata": {},
   "outputs": [],
   "source": [
    "density_df = pd.read_excel('../data/인구밀도.xlsx') # 1차 카테고리 : 5, 2차 카테고리 : 9\n",
    "density_df['GU_DONG'] = density_df['GU']+density_df['DONG']\n",
    "density_df = density_df.drop(['GU','DONG'],axis=1)"
   ]
  },
  {
   "cell_type": "code",
   "execution_count": null,
   "id": "4489bbe0",
   "metadata": {},
   "outputs": [],
   "source": [
    "tmp_df = pd.merge(tmp_df_prim, density_df)\n",
    "tmp_df_nodong = tmp_df.drop(['Unnamed: 0','GU_DONG','GU','DONG','POP','AREA','DENSITY','DONG_CODE'],axis=1)\n",
    "tmp_df_nodong.columns\n",
    "tmp_df_nodong"
   ]
  },
  {
   "cell_type": "markdown",
   "id": "eed39200",
   "metadata": {},
   "source": [
    "## 2. 군집화 - 면적나누기 없이"
   ]
  },
  {
   "cell_type": "markdown",
   "id": "3e375149",
   "metadata": {},
   "source": [
    "### 2.0 Elbow 확인"
   ]
  },
  {
   "cell_type": "code",
   "execution_count": null,
   "id": "790e932e",
   "metadata": {},
   "outputs": [],
   "source": [
    "tmp_df_01 = tmp_df_nodong\n",
    "# data\n",
    "tmp_df_01.columns"
   ]
  },
  {
   "cell_type": "code",
   "execution_count": null,
   "id": "1d6bf49e",
   "metadata": {},
   "outputs": [],
   "source": [
    "# 차원축소\n",
    "pca = PCA(2)\n",
    "# Transform the data\n",
    "transform = pca.fit_transform(tmp_df_01)"
   ]
  },
  {
   "cell_type": "code",
   "execution_count": null,
   "id": "c4540c49",
   "metadata": {},
   "outputs": [],
   "source": [
    "cs = []\n",
    "plt.figure(figsize=(10,6))\n",
    "for i in range(1, 10):\n",
    "    kmeans = KMeans(n_clusters=i, init='k-means++', max_iter=300, random_state=0)\n",
    "    kmeans.fit(transform)\n",
    "    cs.append(kmeans.inertia_)\n",
    "plt.plot(range(1, 10), cs,marker='o')\n",
    "plt.title('The Elbow Method')\n",
    "plt.xlabel('Number of clusters')\n",
    "plt.ylabel('CS')\n",
    "plt.show()"
   ]
  },
  {
   "cell_type": "markdown",
   "id": "d9de9b2b",
   "metadata": {},
   "source": [
    "### 2.1 군집화 및 분류 결과 확인"
   ]
  },
  {
   "cell_type": "code",
   "execution_count": null,
   "id": "a9994adf",
   "metadata": {},
   "outputs": [],
   "source": [
    "kmeans = KMeans(n_clusters=4, init='k-means++', max_iter=300, random_state=0)"
   ]
  },
  {
   "cell_type": "code",
   "execution_count": null,
   "id": "e5a50f78",
   "metadata": {},
   "outputs": [],
   "source": [
    "label = kmeans.fit(transform)\n",
    "# label\n",
    "\n",
    "#Getting unique labels\n",
    "u_labels = np.unique(label)\n",
    "df = tmp_df.copy()\n",
    "df['km_cluster'] = kmeans.labels_\n",
    "df.groupby('km_cluster').count()\n",
    "df.head()"
   ]
  },
  {
   "cell_type": "markdown",
   "id": "02df4637",
   "metadata": {},
   "source": [
    "### 2.2 1차군집화 시각화"
   ]
  },
  {
   "cell_type": "code",
   "execution_count": null,
   "id": "94e00a5f",
   "metadata": {},
   "outputs": [],
   "source": [
    "df['pca_x'] = transform[:, 0]  #x좌표\n",
    "df['pca_y'] = transform[:, 1]  #y좌표\n",
    "# 클러스터별 인덱스 추출\n",
    "marker0 = df[df['km_cluster'] == 0].index\n",
    "marker1 = df[df['km_cluster'] == 1].index\n",
    "marker2 = df[df['km_cluster'] == 2].index\n",
    "marker3 = df[df['km_cluster'] == 3].index\n",
    "marker4 = df[df['km_cluster'] == 4].index\n",
    "\n",
    " \n",
    " #scatter plot\n",
    "plt.scatter(x = df.loc[marker0, 'pca_x'], y = df.loc[marker0, 'pca_y'], marker = 'o')\n",
    "plt.scatter(x = df.loc[marker1, 'pca_x'], y = df.loc[marker1, 'pca_y'], marker = 's')\n",
    "plt.scatter(x = df.loc[marker2, 'pca_x'], y = df.loc[marker2, 'pca_y'], marker = '^')\n",
    "plt.scatter(x = df.loc[marker3, 'pca_x'], y = df.loc[marker3, 'pca_y'], marker = 'v')\n",
    "plt.scatter(x = df.loc[marker4, 'pca_x'], y = df.loc[marker4, 'pca_y'], marker = '>')\n",
    " \n",
    "plt.xlabel('PCA1')\n",
    "plt.ylabel('PCA2')\n",
    "plt.title('2 Clusters Visualization by 2 PCA Components')\n",
    "plt.legend(['cluster0', 'cluster1','cluster2','cluster3'])\n",
    "plt.show()"
   ]
  },
  {
   "cell_type": "code",
   "execution_count": null,
   "id": "03273de4",
   "metadata": {},
   "outputs": [],
   "source": [
    "# # 클러스터 확인\n",
    "# df_1 = df[df['km_cluster']==2]\n",
    "# df_1 = df_1.drop(['GU','DONG','DONG_CODE','GU_DONG','POP','AREA','DENSITY'],axis=1)\n",
    "# df_1[df_1['SUBWAY_NUM']!=0]"
   ]
  },
  {
   "cell_type": "code",
   "execution_count": null,
   "id": "961ae93f",
   "metadata": {},
   "outputs": [],
   "source": [
    "from yellowbrick.cluster import SilhouetteVisualizer"
   ]
  },
  {
   "cell_type": "code",
   "execution_count": null,
   "id": "8ae8969f",
   "metadata": {},
   "outputs": [],
   "source": [
    "#visualizer 생성\n",
    "visualizer_2 = SilhouetteVisualizer(kmeans, colors='yellowbrick')\n",
    "#생성된 visualizer에 데이터 입력 \n",
    "visualizer_2.fit(transform)      \n",
    "visualizer_2.show()"
   ]
  },
  {
   "cell_type": "markdown",
   "id": "ea7237b3",
   "metadata": {},
   "source": [
    "### 2차 군집화 시도"
   ]
  },
  {
   "cell_type": "code",
   "execution_count": null,
   "id": "0bccdbcd",
   "metadata": {},
   "outputs": [],
   "source": [
    "df_0 = df[df['km_cluster']==0]\n",
    "df_0_1= df_0.drop(['km_cluster','DONG','GU_DONG','POP','AREA','DENSITY','GU','DONG_CODE','pca_x','pca_y'],axis=1)\n",
    "df_0_1"
   ]
  },
  {
   "cell_type": "code",
   "execution_count": null,
   "id": "a5216ab2",
   "metadata": {},
   "outputs": [],
   "source": [
    "# Transform the data\n",
    "transform_01 = pca.fit_transform(df_0_1)\n",
    "df_0['pca_x'] = transform_01[:, 0]  #x좌표\n",
    "df_0['pca_y'] = transform_01[:, 1]  #y좌표\n",
    "df_0"
   ]
  },
  {
   "cell_type": "code",
   "execution_count": null,
   "id": "ad14ac07",
   "metadata": {},
   "outputs": [],
   "source": [
    "cs = []\n",
    "plt.figure(figsize=(10,6))\n",
    "for i in range(1, 10):\n",
    "    kmeans = KMeans(n_clusters=i, init='k-means++', max_iter=300, random_state=0)\n",
    "    kmeans.fit(transform_01)\n",
    "    cs.append(kmeans.inertia_)\n",
    "plt.plot(range(1, 10), cs,marker='o')\n",
    "plt.title('The Elbow Method')\n",
    "plt.xlabel('Number of clusters')\n",
    "plt.ylabel('CS')\n",
    "plt.show()"
   ]
  },
  {
   "cell_type": "code",
   "execution_count": null,
   "id": "92cc2776",
   "metadata": {},
   "outputs": [],
   "source": [
    "kmeans = KMeans(n_clusters=3, init='k-means++', max_iter=300, random_state=0)"
   ]
  },
  {
   "cell_type": "code",
   "execution_count": null,
   "id": "7f38de92",
   "metadata": {
    "scrolled": true
   },
   "outputs": [],
   "source": [
    "# label\n",
    "label_01 = kmeans.fit(transform_01)\n",
    "\n",
    "#Getting unique labels\n",
    "u_labels = np.unique(label_01)\n",
    "\n",
    "df_0['km_cluster_01'] = kmeans.labels_\n",
    "df_0"
   ]
  },
  {
   "cell_type": "code",
   "execution_count": null,
   "id": "2258eff0",
   "metadata": {},
   "outputs": [],
   "source": [
    "df_0['pca_x'] = transform_01[:, 0]  #x좌표\n",
    "df_0['pca_y'] = transform_01[:, 1]  #y좌표\n",
    "# 클러스터별 인덱스 추출\n",
    "marker0 = df_0[df_0['km_cluster_01'] == 0].index\n",
    "marker1 = df_0[df_0['km_cluster_01'] == 1].index\n",
    "marker2 = df_0[df_0['km_cluster_01'] == 2].index\n",
    "\n",
    " \n",
    " #scatter plot\n",
    "plt.scatter(x = df_0.loc[marker0, 'pca_x'], y = df_0.loc[marker0, 'pca_y'], marker = 'o')\n",
    "plt.scatter(x = df_0.loc[marker1, 'pca_x'], y = df_0.loc[marker1, 'pca_y'], marker = 's')\n",
    "plt.scatter(x = df_0.loc[marker2, 'pca_x'], y = df_0.loc[marker2, 'pca_y'], marker = '^')\n",
    "plt.ylim([-500,500])\n",
    "plt.xlabel('PCA1')\n",
    "plt.ylabel('PCA2')\n",
    "plt.title('3 Clusters Visualization by 2 PCA Components')\n",
    "plt.legend(['cluster0', 'cluster1','cluster2'])\n",
    "plt.show()"
   ]
  },
  {
   "cell_type": "code",
   "execution_count": null,
   "id": "3c959081",
   "metadata": {},
   "outputs": [],
   "source": [
    "#visualizer 생성\n",
    "visualizer_2 = SilhouetteVisualizer(kmeans, colors='yellowbrick')\n",
    "#생성된 visualizer에 데이터 입력 \n",
    "visualizer_2.fit(transform_01)      \n",
    "visualizer_2.show()"
   ]
  },
  {
   "cell_type": "markdown",
   "id": "687910b2",
   "metadata": {},
   "source": [
    "### DBSCAN 적용"
   ]
  },
  {
   "cell_type": "code",
   "execution_count": null,
   "id": "604d2973",
   "metadata": {},
   "outputs": [],
   "source": [
    "from sklearn.neighbors import NearestNeighbors\n",
    "# n_neighbors = 5 as kneighbors function returns distance of point to itself (i.e. first column will be zeros) \n",
    "nbrs = NearestNeighbors(n_neighbors=5).fit(transform)\n",
    "# Find the k-neighbors of a point\n",
    "neigh_dist, neigh_ind = nbrs.kneighbors(transform)\n",
    "# sort the neighbor distances (lengths to points) in ascending order\n",
    "# axis = 0 represents sort along first axis i.e. sort along row\n",
    "sort_neigh_dist = np.sort(neigh_dist, axis=0)"
   ]
  },
  {
   "cell_type": "code",
   "execution_count": null,
   "id": "0ce3933c",
   "metadata": {},
   "outputs": [],
   "source": [
    "k_dist = sort_neigh_dist[:, 4]\n",
    "plt.plot(k_dist)\n",
    "plt.axhline(y=25, linewidth=1, linestyle='dashed', color='k')\n",
    "# plt.xlim([0,1000])\n",
    "plt.ylim([0,50])\n",
    "plt.ylabel(\"k-NN distance\")\n",
    "plt.xlabel(\"Sorted observations (4th NN)\")\n",
    "plt.show()"
   ]
  },
  {
   "cell_type": "code",
   "execution_count": null,
   "id": "bca699b6",
   "metadata": {},
   "outputs": [],
   "source": [
    "clusters_db = DBSCAN(eps=11, min_samples=4).fit(transform)\n",
    "# get cluster labels\n",
    "clusters_db.labels_\n",
    "# check unique clusters\n",
    "set(clusters_db.labels_)\n",
    "\n",
    "tmp_df_dbscan = tmp_df.copy()"
   ]
  },
  {
   "cell_type": "code",
   "execution_count": null,
   "id": "302a2270",
   "metadata": {},
   "outputs": [],
   "source": [
    "tmp_df_dbscan[\"Cluster_db\"] = clusters_db.labels_\n",
    "tmp_df_dbscan['pca_x'] = transform[:, 0]  \n",
    "tmp_df_dbscan['pca_y'] = transform[:, 1] \n",
    "tmp_df_dbscan"
   ]
  },
  {
   "cell_type": "code",
   "execution_count": null,
   "id": "03ab3102",
   "metadata": {},
   "outputs": [],
   "source": [
    "fig = plt.figure(figsize=(10,10)); ax = fig.add_subplot(111)\n",
    "scatter = ax.scatter(tmp_df_dbscan['pca_x'],tmp_df_dbscan['pca_y'], c=tmp_df_dbscan[\"Cluster_db\"],s=50)\n",
    "ax.set_title(\"DBSCAN Clustering\")\n",
    "ax.set_xlabel(\"X0\")\n",
    "ax.set_ylabel(\"X1\")\n",
    "plt.colorbar(scatter)\n",
    "plt.show()"
   ]
  },
  {
   "cell_type": "markdown",
   "id": "558b2472",
   "metadata": {},
   "source": [
    "### 1차 Kmeans 이후 DBSCAN 진행"
   ]
  },
  {
   "cell_type": "code",
   "execution_count": null,
   "id": "49a53f28",
   "metadata": {},
   "outputs": [],
   "source": [
    "df_0 = df[df['km_cluster']==0]\n",
    "df_0_db= df_0.drop(['km_cluster','DONG','GU_DONG','POP','AREA','DENSITY','GU','DONG_CODE','Unnamed: 0'],axis=1)\n",
    "df_0_db.columns"
   ]
  },
  {
   "cell_type": "code",
   "execution_count": null,
   "id": "d130fb29",
   "metadata": {},
   "outputs": [],
   "source": [
    "# Transform the data\n",
    "transform_01 = pca.fit_transform(df_0_db)\n",
    "df_0_db['pca_x'] = transform_01[:, 0]  #x좌표\n",
    "df_0_db['pca_y'] = transform_01[:, 1]  #y좌표\n",
    "df_0_db"
   ]
  },
  {
   "cell_type": "code",
   "execution_count": null,
   "id": "de54a7cc",
   "metadata": {},
   "outputs": [],
   "source": [
    "from sklearn.neighbors import NearestNeighbors\n",
    "# n_neighbors = 5 as kneighbors function returns distance of point to itself (i.e. first column will be zeros) \n",
    "nbrs = NearestNeighbors(n_neighbors=5).fit(transform_01)\n",
    "# Find the k-neighbors of a point\n",
    "neigh_dist, neigh_ind = nbrs.kneighbors(transform_01)\n",
    "# sort the neighbor distances (lengths to points) in ascending order\n",
    "# axis = 0 represents sort along first axis i.e. sort along row\n",
    "sort_neigh_dist = np.sort(neigh_dist, axis=0)"
   ]
  },
  {
   "cell_type": "code",
   "execution_count": null,
   "id": "5faa3ab7",
   "metadata": {},
   "outputs": [],
   "source": [
    "k_dist = sort_neigh_dist[:, 4]\n",
    "plt.plot(k_dist)\n",
    "plt.axhline(y=15, linewidth=1, linestyle='dashed', color='k')\n",
    "plt.ylim([0,40])\n",
    "plt.ylabel(\"k-NN distance\")\n",
    "plt.xlabel(\"Sorted observations (4th NN)\")\n",
    "plt.show()"
   ]
  },
  {
   "cell_type": "code",
   "execution_count": null,
   "id": "9d242387",
   "metadata": {},
   "outputs": [],
   "source": [
    "clusters_db_2 = DBSCAN(eps=15, min_samples=10).fit(transform_01)\n",
    "# get cluster labels\n",
    "clusters_db_2.labels_\n",
    "# check unique clusters\n",
    "set(clusters_db_2.labels_)"
   ]
  },
  {
   "cell_type": "code",
   "execution_count": null,
   "id": "f6d3f544",
   "metadata": {},
   "outputs": [],
   "source": [
    "df_0_db[\"Cluster_db_2\"] = clusters_db_2.labels_\n",
    "df_0_db['pca_x'] = transform_01[:, 0]  \n",
    "df_0_db['pca_y'] = transform_01[:, 1] \n",
    "df_0_db"
   ]
  },
  {
   "cell_type": "code",
   "execution_count": null,
   "id": "99b470c4",
   "metadata": {},
   "outputs": [],
   "source": [
    "fig = plt.figure(figsize=(10,10)); ax = fig.add_subplot(111)\n",
    "scatter = ax.scatter(df_0_db['pca_x'],df_0_db['pca_y'], c=df_0_db[\"Cluster_db_2\"],s=50)\n",
    "ax.set_title(\"DBSCAN Clustering\")\n",
    "ax.set_xlabel(\"X0\")\n",
    "ax.set_ylabel(\"X1\")\n",
    "plt.colorbar(scatter)\n",
    "plt.show()"
   ]
  },
  {
   "cell_type": "code",
   "execution_count": null,
   "id": "9160325f",
   "metadata": {},
   "outputs": [],
   "source": [
    "# #visualizer 생성\n",
    "# visualizer_3 = SilhouetteVisualizer(DBSCAN(eps=20, min_samples=10), colors='yellowbrick')\n",
    "# #생성된 visualizer에 데이터 입력 \n",
    "# visualizer_3.fit(transform_01)      \n",
    "# visualizer_3.show()"
   ]
  },
  {
   "cell_type": "code",
   "execution_count": null,
   "id": "9e851c1d",
   "metadata": {},
   "outputs": [],
   "source": [
    "silhouette_score(df_0_db, clusters_db_2.labels_)"
   ]
  },
  {
   "cell_type": "markdown",
   "id": "75171db6",
   "metadata": {},
   "source": [
    "### 계층적 군집화 - 1차"
   ]
  },
  {
   "cell_type": "code",
   "execution_count": null,
   "id": "cd5a1b4a",
   "metadata": {},
   "outputs": [],
   "source": [
    "dendrogram = sch.dendrogram(sch.linkage(transform, method='ward'))"
   ]
  },
  {
   "cell_type": "code",
   "execution_count": null,
   "id": "f49731f8",
   "metadata": {},
   "outputs": [],
   "source": [
    "ac1 = AgglomerativeClustering(n_clusters = 3)\n",
    " \n",
    "# Visualizing the clustering\n",
    "\n",
    "df['pca_x'] = transform[:, 0]  #x좌표\n",
    "df['pca_y'] = transform[:, 1] \n",
    "df\n",
    "plt.figure(figsize =(6, 6))\n",
    "plt.scatter(df['pca_x']  ,df['pca_y'] ,\n",
    "           c = ac1.fit_predict(transform), cmap ='rainbow')\n",
    "plt.show()"
   ]
  },
  {
   "cell_type": "code",
   "execution_count": null,
   "id": "be46567d",
   "metadata": {},
   "outputs": [],
   "source": [
    "silhouette_score(tmp_df_01, ac1.labels_)"
   ]
  },
  {
   "cell_type": "markdown",
   "id": "a4b1a29f",
   "metadata": {},
   "source": [
    "### kmeans 이후 계층적 군집화"
   ]
  },
  {
   "cell_type": "code",
   "execution_count": null,
   "id": "e6573514",
   "metadata": {},
   "outputs": [],
   "source": [
    "df_0 = df[df['km_cluster']==0]\n",
    "df_0_ag= df_0.drop(['km_cluster','DONG','GU_DONG','POP','AREA','DENSITY','GU','DONG_CODE'],axis=1)\n",
    "df_0_ag"
   ]
  },
  {
   "cell_type": "code",
   "execution_count": null,
   "id": "378fcb06",
   "metadata": {},
   "outputs": [],
   "source": [
    "dendrogram = sch.dendrogram(sch.linkage(transform_01, method='ward'))"
   ]
  },
  {
   "cell_type": "code",
   "execution_count": null,
   "id": "c74c07fe",
   "metadata": {},
   "outputs": [],
   "source": [
    "ac2 = AgglomerativeClustering(n_clusters = 4)\n",
    " \n",
    "# Visualizing the clustering\n",
    "\n",
    "df_0_ag['pca_x'] = transform_01[:, 0]  #x좌표\n",
    "df_0_ag['pca_y'] = transform_01[:, 1] \n",
    "df\n",
    "plt.ylim([-500,500])\n",
    "plt.figure(figsize =(6, 6))\n",
    "plt.scatter(df_0_ag['pca_x']  ,df_0_ag['pca_y'] ,\n",
    "           c = ac2.fit_predict(transform_01), cmap ='rainbow')\n",
    "plt.show()"
   ]
  },
  {
   "cell_type": "code",
   "execution_count": null,
   "id": "44f2a914",
   "metadata": {},
   "outputs": [],
   "source": [
    "silhouette_score(df_0_ag, ac2.labels_)"
   ]
  },
  {
   "cell_type": "markdown",
   "id": "bd69482e",
   "metadata": {},
   "source": [
    "### 2.2 사용자 분류"
   ]
  },
  {
   "cell_type": "code",
   "execution_count": null,
   "id": "a554faa2",
   "metadata": {},
   "outputs": [],
   "source": [
    "def user(user_scaled,user_name):\n",
    "    user_df = pd.DataFrame(columns=col,index=[user_name])\n",
    "    user_df.loc[user_name] = user_scaled\n",
    "    cluster_user = kmeans.predict(user_df)\n",
    "    user_df['km_cluster'] = cluster_user\n",
    "    return user_df"
   ]
  },
  {
   "cell_type": "code",
   "execution_count": null,
   "id": "d49c4aab",
   "metadata": {},
   "outputs": [],
   "source": [
    "user_df = user(user_scaled,'user')\n",
    "user_df"
   ]
  },
  {
   "cell_type": "code",
   "execution_count": null,
   "id": "63233dae",
   "metadata": {},
   "outputs": [],
   "source": [
    "# 유저의 군집에 해당하는 지역 추출 함수\n",
    "def recommand_area(df, user_df, user_name): # 지역 데이터, 유저 데이터, 유저 이름\n",
    "    rc_area = user_df['km_cluster'].loc[user_name] # 해당 유저의 군집\n",
    "    rc_seoul = df[df['km_cluster'] == rc_area] # 서울시 내 군집 지역 추출\n",
    "    rc_list = rc_seoul.index.tolist() # 추천 리스트\n",
    "    return rc_seoul, rc_list"
   ]
  },
  {
   "cell_type": "code",
   "execution_count": null,
   "id": "04942d5b",
   "metadata": {},
   "outputs": [],
   "source": [
    "rc_seoul = recommand_area(df,user_df,'user')[0]\n",
    "rc_list = recommand_area(df,user_df,'user')[1] "
   ]
  },
  {
   "cell_type": "code",
   "execution_count": null,
   "id": "634e2897",
   "metadata": {
    "scrolled": true
   },
   "outputs": [],
   "source": [
    "rc_list # 'user'가 해당하는 군집에 속한 서울 동 리스트"
   ]
  },
  {
   "cell_type": "markdown",
   "id": "8b619ed6",
   "metadata": {},
   "source": [
    "### 2.3 유사도 측정"
   ]
  },
  {
   "cell_type": "code",
   "execution_count": null,
   "id": "64192911",
   "metadata": {},
   "outputs": [],
   "source": [
    "def similarity(user_df, df, user_name, num): # 유저 데이터, 유사도 측정을 위한 데이터, 유저 이름, 원하는 순위\n",
    "    con_data = pd.concat([user_df.loc[[user_name]],df])\n",
    "    rc_sim = cosine_similarity(con_data,con_data)\n",
    "    sim_matrix = pd.DataFrame(rc_sim,columns=con_data.index).loc[[0]].T\n",
    "    rank = sim_matrix[0].sort_values(ascending=False) # 유사도 순서로 정렬\n",
    "    ranking = rank[1:num+1].index.tolist() # 1~n 위 리스트\n",
    "    return ranking"
   ]
  },
  {
   "cell_type": "code",
   "execution_count": null,
   "id": "98ea68f7",
   "metadata": {
    "scrolled": true
   },
   "outputs": [],
   "source": [
    "ranking = similarity(user_df,df,'user',4)\n",
    "cluster_rank = similarity(user_df,rc_seoul,'user',4)"
   ]
  },
  {
   "cell_type": "markdown",
   "id": "dd5f6973",
   "metadata": {},
   "source": [
    "**겹치는 지역 제거**"
   ]
  },
  {
   "cell_type": "code",
   "execution_count": null,
   "id": "4b5904d0",
   "metadata": {},
   "outputs": [],
   "source": [
    "def concat_df(rank_1,rank_2): # 두 집단 병합 및 겹침 제거 함수\n",
    "    tmp_1 = df.loc[rank_1]\n",
    "    tmp_2 = df.loc[rank_2]\n",
    "    x = pd.concat([tmp_1,tmp_2])\n",
    "    x.reset_index(inplace=True)\n",
    "    x = x.drop_duplicates(['동이름'])\n",
    "    x.loc[:4]\n",
    "    x.set_index('동이름',inplace=True)\n",
    "    del(x['km_cluster'])\n",
    "    return x"
   ]
  },
  {
   "cell_type": "code",
   "execution_count": null,
   "id": "6a90b7c6",
   "metadata": {
    "scrolled": true
   },
   "outputs": [],
   "source": [
    "con_df = concat_df(ranking,cluster_rank)\n",
    "con_df"
   ]
  },
  {
   "cell_type": "code",
   "execution_count": null,
   "id": "c46630fd",
   "metadata": {},
   "outputs": [],
   "source": [
    "def weighting(df, weight): # 가중치 부여 된 데이터 프레임 생성 함수\n",
    "    data = df.values\n",
    "    w = [0] * 14\n",
    "    for i in range(len(weight)):\n",
    "        if(user_df.loc['user'][i] != 0):\n",
    "            for k in range(len(weight)):\n",
    "                w[i] += weight[i][k]\n",
    "    modified = []\n",
    "    for k in range(len(data)):\n",
    "        modi = []\n",
    "        for i in range(len(w)):\n",
    "            mod = data[k][i] * (1 + w[i])\n",
    "            modi.append(mod)\n",
    "        modified.append(modi)\n",
    "    weighted_df = pd.DataFrame(modified,index=df.index,columns=col)\n",
    "    return weighted_df"
   ]
  },
  {
   "cell_type": "code",
   "execution_count": null,
   "id": "e860b552",
   "metadata": {},
   "outputs": [],
   "source": [
    "weighted_df = weighting(con_df,weight)\n",
    "weighted_df"
   ]
  },
  {
   "cell_type": "code",
   "execution_count": null,
   "id": "e8f8ab4f",
   "metadata": {},
   "outputs": [],
   "source": [
    "def ranking(weighted_df): # 가중치 데이터 프레임으로 3위까지\n",
    "    sums = []\n",
    "    for i in range(len(weighted_df.index)):\n",
    "        sums.append(weighted_df.iloc[i].sum())\n",
    "    weighted_df['sum'] = sums\n",
    "    oh = weighted_df.T.loc['sum'].sort_values(ascending=False)\n",
    "    x = pd.DataFrame(oh).index.tolist()[0:3]\n",
    "    return x"
   ]
  },
  {
   "cell_type": "code",
   "execution_count": null,
   "id": "62698347",
   "metadata": {},
   "outputs": [],
   "source": [
    "x = ranking(weighted_df)\n",
    "x"
   ]
  }
 ],
 "metadata": {
  "kernelspec": {
   "display_name": "Python 3 (ipykernel)",
   "language": "python",
   "name": "python3"
  },
  "language_info": {
   "codemirror_mode": {
    "name": "ipython",
    "version": 3
   },
   "file_extension": ".py",
   "mimetype": "text/x-python",
   "name": "python",
   "nbconvert_exporter": "python",
   "pygments_lexer": "ipython3",
   "version": "3.9.7"
  }
 },
 "nbformat": 4,
 "nbformat_minor": 5
}
